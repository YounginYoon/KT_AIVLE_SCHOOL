{
 "cells": [
  {
   "cell_type": "markdown",
   "id": "de21bfa8",
   "metadata": {},
   "source": [
    "## **AIVLE School 미니프로젝트 5기 AI트랙 2차** ##\n",
    "## **공공데이터를 활용한 <span style=\"color:skyblue\">미세먼지 농도</span> 예측**\n",
    "---\n",
    "## [step 1,2] 데이터 분석 및 전처리"
   ]
  },
  {
   "cell_type": "markdown",
   "id": "994d710f",
   "metadata": {},
   "source": [
    "## **0.프로젝트 소개**\n",
    "\n",
    "### (1) 수행 목표\n",
    "- 미세먼지 농도를 예측하는 머신러닝 모델을 만드세요."
   ]
  },
  {
   "cell_type": "markdown",
   "id": "7fa5e70e",
   "metadata": {},
   "source": [
    "#### 우리가 풀어야 하는 문제는 무엇인가요?\n",
    "* 서울 지역의 미세먼지 데이터와 날씨 데이터를 활용하여, 미세먼지 예측에 관련 있는 데이터 항목으로 데이터를 구성, 전처리 하여 미세먼지 농도를 예측하는 머신러닝 모델 구현"
   ]
  },
  {
   "cell_type": "markdown",
   "id": "1d40fb86",
   "metadata": {},
   "source": [
    "### (2) 데이터 소개\n",
    "\n",
    "#### 1) 기본 데이터\n",
    "\n",
    "* 학습 데이터\n",
    "    * air_2022.csv : 2022년 미세먼지 데이터\n",
    "    * weather_2022.csv : 2022년 날씨 데이터\n",
    "* 테스트 데이터\n",
    "    * air_2023.csv : 2023년 미세먼지 데이터\n",
    "    * weather_2023.csv : 2023년 날씨 데이터\n",
    "\n",
    "#### 2) 데이터셋의 변수 소개(weather_2022,2023)\n",
    "\n",
    "* 증기압: 증기가 고체 또는 액체와 동적 평형 상태에 있을 때 증기의 압력 (증기가 되려는 힘)\n",
    "* 이슬점 온도: 불포화 상태의 공기가 냉각될 때, 포화 상태에 도달하여 수증기의 응결이 시작되는 온도\n",
    "* 일조: 일정한 물체나 땅의 겉면에 태양 광선이 비치는 시간 (1시간 중 비율)\n",
    "* 일사(량): 태양으로부터 오는 태양 복사 에너지가 지표에 닿는 양 (면적당 에너지 량)\n",
    "* 전운량: 하늘을 육안으로 관측하여 전부 구름일 때 10, 구름이 덮고 있는 하늘의 비율에 따라 0~10\n",
    "* 중하층운량: 중층과 하층에 있는 구름의 분포량(중하층 구름이 날씨에 영향 주므로 따로 표기)\n",
    "* 운형(운형약어): 구름의 종류. 약어 코드로 기재됨\n",
    "* 최저운고: 가장 낮은 구름의 높이\n",
    "* 현상번호(국내식): 비, 소낙비, 싸락눈, 눈보라 등의 기상현상을 나타낸 코드번호\n",
    "* 지면온도: 지면 0cm 온도\n",
    "* 지중온도: 땅 속 온도변수1"
   ]
  },
  {
   "cell_type": "markdown",
   "id": "f16a803d",
   "metadata": {},
   "source": [
    "## **1.환경설정**"
   ]
  },
  {
   "cell_type": "markdown",
   "id": "c7bf984b",
   "metadata": {},
   "source": [
    "* 세부 요구사항\n",
    "    - 경로 설정 : 다음의 두가지 방법 중 하나를 선택하여 폴더를 준비하고 데이터를 로딩하시오.\n",
    "        * 1) 로컬 수행(Ananconda)\n",
    "            * 제공된 압축파일을 다운받아 압축을 풀고\n",
    "            * anaconda의 root directory(보통 C:/Users/< ID > 에 project 폴더를 만들고, 복사해 넣습니다.)\n",
    "        * 2) 구글 코랩\n",
    "            * 구글 드라이브 바로 밑에 project 폴더를 만들고, \n",
    "            * 데이터 파일을 복사해 넣습니다.\n",
    "            \n",
    "    - 기본적으로 필요한 라이브러리를 import 하도록 코드가 작성되어 있습니다. \n",
    "        * 필요하다고 판단되는 라이브러리를 추가하세요."
   ]
  },
  {
   "cell_type": "markdown",
   "id": "84c19f48",
   "metadata": {},
   "source": [
    "### (1) 경로 설정\n",
    "* 로컬환경 또는 구글 코랩 중 하나를 사용하시면 됩니다."
   ]
  },
  {
   "cell_type": "markdown",
   "id": "e78c8004",
   "metadata": {},
   "source": [
    "#### 1) 로컬 수행(Anaconda)\n",
    "* project 폴더에 필요한 파일들을 넣고, 본 파일을 열었다면, 별도 경로 지정이 필요하지 않습니다."
   ]
  },
  {
   "cell_type": "code",
   "execution_count": 290,
   "id": "d8859e96",
   "metadata": {},
   "outputs": [],
   "source": [
    "path = 'C:/Users/User/project/'"
   ]
  },
  {
   "cell_type": "markdown",
   "id": "c193cedf",
   "metadata": {},
   "source": [
    "#### 2) 구글 코랩 수행"
   ]
  },
  {
   "cell_type": "markdown",
   "id": "04050c09",
   "metadata": {},
   "source": [
    "* 구글 드라이브 연결"
   ]
  },
  {
   "cell_type": "code",
   "execution_count": 291,
   "id": "3f68ae36",
   "metadata": {},
   "outputs": [],
   "source": [
    "# from google.colab import drive\n",
    "# drive.mount('/content/drive')"
   ]
  },
  {
   "cell_type": "code",
   "execution_count": 292,
   "id": "580b552e",
   "metadata": {},
   "outputs": [],
   "source": [
    "# path = '/content/drive/MyDrive/project/'"
   ]
  },
  {
   "cell_type": "markdown",
   "id": "6389e527",
   "metadata": {},
   "source": [
    "### (2) 라이브러리 설치 및 불러오기"
   ]
  },
  {
   "cell_type": "markdown",
   "id": "8c33f039",
   "metadata": {},
   "source": [
    "#### 1) 라이브러리 설치 및 로딩"
   ]
  },
  {
   "cell_type": "code",
   "execution_count": 4,
   "id": "2211da40",
   "metadata": {},
   "outputs": [],
   "source": [
    "# 필요한 라이브러리 설치 및 불러오기\n",
    "\n",
    "import pandas as pd\n",
    "import numpy as np\n",
    "import matplotlib.pyplot as plt\n",
    "import seaborn as sns\n",
    "import datetime\n",
    "\n",
    "from statsmodels.graphics.mosaicplot import mosaic\n",
    "from scipy import stats as spst\n",
    "import statsmodels.api as sm\n",
    "import joblib\n",
    "\n",
    "# 더 필요한 라이브러리를 아래에 추가합니다.\n",
    "\n"
   ]
  },
  {
   "cell_type": "code",
   "execution_count": 5,
   "id": "5c1704c8",
   "metadata": {},
   "outputs": [],
   "source": [
    "# 시각화 한글폰트 설정을 위해 아래 코드를 실행하세요.\n",
    "plt.rc('font', family='Malgun Gothic')\n",
    "sns.set(font=\"Malgun Gothic\",#\"NanumGothicCoding\", \n",
    "        rc={\"axes.unicode_minus\":False}, # 마이너스 부호 깨짐 현상 해결\n",
    "        style='darkgrid')"
   ]
  },
  {
   "cell_type": "markdown",
   "id": "5f957970",
   "metadata": {},
   "source": [
    "### (3) 데이터 불러오기\n",
    "* Pandas 라이브러리를 활용해서 'air_2022.csv'파일을 'air_22' 변수에,'air_2023.csv'파일을 'air_23' 변수에 저장하고 그 데이터를 확인하세요.\n",
    "<br> ( 구분자(sep) : ',' / encoder = 'utf-8' / index_col = 0 )\n",
    "\n",
    "* Pandas 라이브러리를 활용해서 'weather_2022.csv'파일을 'weather_22' 변수에,'weather_2023.csv'파일을 'weather_23' 변수에 저장하고 그 데이터를 확인하세요.\n",
    "<br> ( 구분자(sep) : ',' / encoder = 'cp949' )"
   ]
  },
  {
   "cell_type": "markdown",
   "id": "2e32e75c",
   "metadata": {},
   "source": [
    "#### 1) 데이터로딩"
   ]
  },
  {
   "cell_type": "code",
   "execution_count": 6,
   "id": "330b6d52-4f41-42ed-a27b-296282175ba8",
   "metadata": {
    "tags": []
   },
   "outputs": [],
   "source": [
    "# 아래에 실습코드를 작성하고 결과를 확인합니다.\n",
    "air_22_tmp = pd.read_csv('air_2022.csv', sep=\",\", encoding = 'UTF-8', index_col=0)"
   ]
  },
  {
   "cell_type": "code",
   "execution_count": 7,
   "id": "6885d711-e8ab-429c-acc0-67584faa2ed7",
   "metadata": {
    "tags": []
   },
   "outputs": [
    {
     "data": {
      "text/plain": [
       "121.0"
      ]
     },
     "execution_count": 7,
     "metadata": {},
     "output_type": "execute_result"
    }
   ],
   "source": [
    "max(air_22_tmp['PM25'])"
   ]
  },
  {
   "cell_type": "code",
   "execution_count": 295,
   "id": "b6a824e4",
   "metadata": {},
   "outputs": [],
   "source": [
    "# 아래에 실습코드를 작성하고 결과를 확인합니다.\n",
    "air_22 = pd.read_csv('air_2022.csv', sep=\",\", encoding = 'UTF-8', index_col=0)"
   ]
  },
  {
   "cell_type": "code",
   "execution_count": 296,
   "id": "9493635f-2148-4802-bc0f-70a9d5abeada",
   "metadata": {
    "tags": []
   },
   "outputs": [
    {
     "data": {
      "text/html": [
       "<div>\n",
       "<style scoped>\n",
       "    .dataframe tbody tr th:only-of-type {\n",
       "        vertical-align: middle;\n",
       "    }\n",
       "\n",
       "    .dataframe tbody tr th {\n",
       "        vertical-align: top;\n",
       "    }\n",
       "\n",
       "    .dataframe thead th {\n",
       "        text-align: right;\n",
       "    }\n",
       "</style>\n",
       "<table border=\"1\" class=\"dataframe\">\n",
       "  <thead>\n",
       "    <tr style=\"text-align: right;\">\n",
       "      <th></th>\n",
       "      <th>지역</th>\n",
       "      <th>망</th>\n",
       "      <th>측정소코드</th>\n",
       "      <th>측정소명</th>\n",
       "      <th>측정일시</th>\n",
       "      <th>SO2</th>\n",
       "      <th>CO</th>\n",
       "      <th>O3</th>\n",
       "      <th>NO2</th>\n",
       "      <th>PM10</th>\n",
       "      <th>PM25</th>\n",
       "      <th>주소</th>\n",
       "    </tr>\n",
       "  </thead>\n",
       "  <tbody>\n",
       "    <tr>\n",
       "      <th>0</th>\n",
       "      <td>서울 종로구</td>\n",
       "      <td>도시대기</td>\n",
       "      <td>111123</td>\n",
       "      <td>종로구</td>\n",
       "      <td>2022010101</td>\n",
       "      <td>0.003</td>\n",
       "      <td>0.4</td>\n",
       "      <td>0.026</td>\n",
       "      <td>0.016</td>\n",
       "      <td>23.0</td>\n",
       "      <td>12.0</td>\n",
       "      <td>서울 종로구 종로35가길 19</td>\n",
       "    </tr>\n",
       "    <tr>\n",
       "      <th>1</th>\n",
       "      <td>서울 종로구</td>\n",
       "      <td>도시대기</td>\n",
       "      <td>111123</td>\n",
       "      <td>종로구</td>\n",
       "      <td>2022010102</td>\n",
       "      <td>0.003</td>\n",
       "      <td>0.4</td>\n",
       "      <td>0.022</td>\n",
       "      <td>0.020</td>\n",
       "      <td>20.0</td>\n",
       "      <td>9.0</td>\n",
       "      <td>서울 종로구 종로35가길 19</td>\n",
       "    </tr>\n",
       "    <tr>\n",
       "      <th>2</th>\n",
       "      <td>서울 종로구</td>\n",
       "      <td>도시대기</td>\n",
       "      <td>111123</td>\n",
       "      <td>종로구</td>\n",
       "      <td>2022010103</td>\n",
       "      <td>0.003</td>\n",
       "      <td>0.5</td>\n",
       "      <td>0.014</td>\n",
       "      <td>0.028</td>\n",
       "      <td>20.0</td>\n",
       "      <td>9.0</td>\n",
       "      <td>서울 종로구 종로35가길 19</td>\n",
       "    </tr>\n",
       "    <tr>\n",
       "      <th>3</th>\n",
       "      <td>서울 종로구</td>\n",
       "      <td>도시대기</td>\n",
       "      <td>111123</td>\n",
       "      <td>종로구</td>\n",
       "      <td>2022010104</td>\n",
       "      <td>0.003</td>\n",
       "      <td>0.5</td>\n",
       "      <td>0.016</td>\n",
       "      <td>0.027</td>\n",
       "      <td>19.0</td>\n",
       "      <td>10.0</td>\n",
       "      <td>서울 종로구 종로35가길 19</td>\n",
       "    </tr>\n",
       "    <tr>\n",
       "      <th>4</th>\n",
       "      <td>서울 종로구</td>\n",
       "      <td>도시대기</td>\n",
       "      <td>111123</td>\n",
       "      <td>종로구</td>\n",
       "      <td>2022010105</td>\n",
       "      <td>0.003</td>\n",
       "      <td>0.5</td>\n",
       "      <td>0.005</td>\n",
       "      <td>0.040</td>\n",
       "      <td>24.0</td>\n",
       "      <td>11.0</td>\n",
       "      <td>서울 종로구 종로35가길 19</td>\n",
       "    </tr>\n",
       "  </tbody>\n",
       "</table>\n",
       "</div>"
      ],
      "text/plain": [
       "       지역     망   측정소코드 측정소명        측정일시    SO2   CO     O3    NO2  PM10  \\\n",
       "0  서울 종로구  도시대기  111123  종로구  2022010101  0.003  0.4  0.026  0.016  23.0   \n",
       "1  서울 종로구  도시대기  111123  종로구  2022010102  0.003  0.4  0.022  0.020  20.0   \n",
       "2  서울 종로구  도시대기  111123  종로구  2022010103  0.003  0.5  0.014  0.028  20.0   \n",
       "3  서울 종로구  도시대기  111123  종로구  2022010104  0.003  0.5  0.016  0.027  19.0   \n",
       "4  서울 종로구  도시대기  111123  종로구  2022010105  0.003  0.5  0.005  0.040  24.0   \n",
       "\n",
       "   PM25                주소  \n",
       "0  12.0  서울 종로구 종로35가길 19  \n",
       "1   9.0  서울 종로구 종로35가길 19  \n",
       "2   9.0  서울 종로구 종로35가길 19  \n",
       "3  10.0  서울 종로구 종로35가길 19  \n",
       "4  11.0  서울 종로구 종로35가길 19  "
      ]
     },
     "execution_count": 296,
     "metadata": {},
     "output_type": "execute_result"
    }
   ],
   "source": [
    "air_22.head()"
   ]
  },
  {
   "cell_type": "code",
   "execution_count": 297,
   "id": "efcc7b2b-b53c-4985-968f-2f4e66c278e9",
   "metadata": {
    "tags": []
   },
   "outputs": [],
   "source": [
    "air_23 = pd.read_csv('air_2023.csv',sep=\",\", encoding = 'UTF-8', index_col=0)"
   ]
  },
  {
   "cell_type": "code",
   "execution_count": 298,
   "id": "53d9412e-e041-47e3-aac3-fc17a3514433",
   "metadata": {
    "tags": []
   },
   "outputs": [],
   "source": [
    "weather_22 = pd.read_csv('weather_2022.csv', encoding=\"cp949\", sep=',')"
   ]
  },
  {
   "cell_type": "code",
   "execution_count": 299,
   "id": "1b2bc5fe-e379-44f1-b53e-716956efdcd1",
   "metadata": {
    "tags": []
   },
   "outputs": [
    {
     "data": {
      "text/html": [
       "<div>\n",
       "<style scoped>\n",
       "    .dataframe tbody tr th:only-of-type {\n",
       "        vertical-align: middle;\n",
       "    }\n",
       "\n",
       "    .dataframe tbody tr th {\n",
       "        vertical-align: top;\n",
       "    }\n",
       "\n",
       "    .dataframe thead th {\n",
       "        text-align: right;\n",
       "    }\n",
       "</style>\n",
       "<table border=\"1\" class=\"dataframe\">\n",
       "  <thead>\n",
       "    <tr style=\"text-align: right;\">\n",
       "      <th></th>\n",
       "      <th>지점</th>\n",
       "      <th>지점명</th>\n",
       "      <th>일시</th>\n",
       "      <th>기온(°C)</th>\n",
       "      <th>기온 QC플래그</th>\n",
       "      <th>강수량(mm)</th>\n",
       "      <th>강수량 QC플래그</th>\n",
       "      <th>풍속(m/s)</th>\n",
       "      <th>풍속 QC플래그</th>\n",
       "      <th>풍향(16방위)</th>\n",
       "      <th>...</th>\n",
       "      <th>최저운고(100m )</th>\n",
       "      <th>시정(10m)</th>\n",
       "      <th>지면상태(지면상태코드)</th>\n",
       "      <th>현상번호(국내식)</th>\n",
       "      <th>지면온도(°C)</th>\n",
       "      <th>지면온도 QC플래그</th>\n",
       "      <th>5cm 지중온도(°C)</th>\n",
       "      <th>10cm 지중온도(°C)</th>\n",
       "      <th>20cm 지중온도(°C)</th>\n",
       "      <th>30cm 지중온도(°C)</th>\n",
       "    </tr>\n",
       "  </thead>\n",
       "  <tbody>\n",
       "    <tr>\n",
       "      <th>0</th>\n",
       "      <td>108</td>\n",
       "      <td>서울</td>\n",
       "      <td>2022-01-01 00:00</td>\n",
       "      <td>-8.5</td>\n",
       "      <td>NaN</td>\n",
       "      <td>NaN</td>\n",
       "      <td>NaN</td>\n",
       "      <td>1.9</td>\n",
       "      <td>NaN</td>\n",
       "      <td>320</td>\n",
       "      <td>...</td>\n",
       "      <td>NaN</td>\n",
       "      <td>2000</td>\n",
       "      <td>NaN</td>\n",
       "      <td>NaN</td>\n",
       "      <td>-7.0</td>\n",
       "      <td>NaN</td>\n",
       "      <td>-1.0</td>\n",
       "      <td>-1.0</td>\n",
       "      <td>-0.2</td>\n",
       "      <td>1.0</td>\n",
       "    </tr>\n",
       "    <tr>\n",
       "      <th>1</th>\n",
       "      <td>108</td>\n",
       "      <td>서울</td>\n",
       "      <td>2022-01-01 01:00</td>\n",
       "      <td>-9.2</td>\n",
       "      <td>NaN</td>\n",
       "      <td>NaN</td>\n",
       "      <td>NaN</td>\n",
       "      <td>1.8</td>\n",
       "      <td>NaN</td>\n",
       "      <td>270</td>\n",
       "      <td>...</td>\n",
       "      <td>NaN</td>\n",
       "      <td>2000</td>\n",
       "      <td>NaN</td>\n",
       "      <td>NaN</td>\n",
       "      <td>-7.2</td>\n",
       "      <td>NaN</td>\n",
       "      <td>-1.1</td>\n",
       "      <td>-1.1</td>\n",
       "      <td>-0.2</td>\n",
       "      <td>1.0</td>\n",
       "    </tr>\n",
       "    <tr>\n",
       "      <th>2</th>\n",
       "      <td>108</td>\n",
       "      <td>서울</td>\n",
       "      <td>2022-01-01 02:00</td>\n",
       "      <td>-9.5</td>\n",
       "      <td>NaN</td>\n",
       "      <td>NaN</td>\n",
       "      <td>NaN</td>\n",
       "      <td>1.2</td>\n",
       "      <td>NaN</td>\n",
       "      <td>270</td>\n",
       "      <td>...</td>\n",
       "      <td>NaN</td>\n",
       "      <td>2000</td>\n",
       "      <td>NaN</td>\n",
       "      <td>NaN</td>\n",
       "      <td>-7.5</td>\n",
       "      <td>NaN</td>\n",
       "      <td>-1.3</td>\n",
       "      <td>-1.2</td>\n",
       "      <td>-0.2</td>\n",
       "      <td>1.0</td>\n",
       "    </tr>\n",
       "    <tr>\n",
       "      <th>3</th>\n",
       "      <td>108</td>\n",
       "      <td>서울</td>\n",
       "      <td>2022-01-01 03:00</td>\n",
       "      <td>-9.3</td>\n",
       "      <td>NaN</td>\n",
       "      <td>NaN</td>\n",
       "      <td>NaN</td>\n",
       "      <td>1.4</td>\n",
       "      <td>NaN</td>\n",
       "      <td>290</td>\n",
       "      <td>...</td>\n",
       "      <td>NaN</td>\n",
       "      <td>2000</td>\n",
       "      <td>NaN</td>\n",
       "      <td>NaN</td>\n",
       "      <td>-7.6</td>\n",
       "      <td>NaN</td>\n",
       "      <td>-1.4</td>\n",
       "      <td>-1.2</td>\n",
       "      <td>-0.2</td>\n",
       "      <td>1.0</td>\n",
       "    </tr>\n",
       "    <tr>\n",
       "      <th>4</th>\n",
       "      <td>108</td>\n",
       "      <td>서울</td>\n",
       "      <td>2022-01-01 04:00</td>\n",
       "      <td>-9.6</td>\n",
       "      <td>NaN</td>\n",
       "      <td>NaN</td>\n",
       "      <td>NaN</td>\n",
       "      <td>1.7</td>\n",
       "      <td>NaN</td>\n",
       "      <td>340</td>\n",
       "      <td>...</td>\n",
       "      <td>NaN</td>\n",
       "      <td>2000</td>\n",
       "      <td>NaN</td>\n",
       "      <td>NaN</td>\n",
       "      <td>-7.6</td>\n",
       "      <td>NaN</td>\n",
       "      <td>-1.4</td>\n",
       "      <td>-1.3</td>\n",
       "      <td>-0.3</td>\n",
       "      <td>1.0</td>\n",
       "    </tr>\n",
       "  </tbody>\n",
       "</table>\n",
       "<p>5 rows × 38 columns</p>\n",
       "</div>"
      ],
      "text/plain": [
       "    지점 지점명                일시  기온(°C)  기온 QC플래그  강수량(mm)  강수량 QC플래그  풍속(m/s)  \\\n",
       "0  108  서울  2022-01-01 00:00    -8.5       NaN      NaN        NaN      1.9   \n",
       "1  108  서울  2022-01-01 01:00    -9.2       NaN      NaN        NaN      1.8   \n",
       "2  108  서울  2022-01-01 02:00    -9.5       NaN      NaN        NaN      1.2   \n",
       "3  108  서울  2022-01-01 03:00    -9.3       NaN      NaN        NaN      1.4   \n",
       "4  108  서울  2022-01-01 04:00    -9.6       NaN      NaN        NaN      1.7   \n",
       "\n",
       "   풍속 QC플래그  풍향(16방위)  ...  최저운고(100m )  시정(10m)  지면상태(지면상태코드)  현상번호(국내식)  \\\n",
       "0       NaN       320  ...          NaN     2000           NaN        NaN   \n",
       "1       NaN       270  ...          NaN     2000           NaN        NaN   \n",
       "2       NaN       270  ...          NaN     2000           NaN        NaN   \n",
       "3       NaN       290  ...          NaN     2000           NaN        NaN   \n",
       "4       NaN       340  ...          NaN     2000           NaN        NaN   \n",
       "\n",
       "   지면온도(°C)  지면온도 QC플래그  5cm 지중온도(°C)  10cm 지중온도(°C)  20cm 지중온도(°C)  \\\n",
       "0      -7.0         NaN          -1.0           -1.0           -0.2   \n",
       "1      -7.2         NaN          -1.1           -1.1           -0.2   \n",
       "2      -7.5         NaN          -1.3           -1.2           -0.2   \n",
       "3      -7.6         NaN          -1.4           -1.2           -0.2   \n",
       "4      -7.6         NaN          -1.4           -1.3           -0.3   \n",
       "\n",
       "   30cm 지중온도(°C)  \n",
       "0            1.0  \n",
       "1            1.0  \n",
       "2            1.0  \n",
       "3            1.0  \n",
       "4            1.0  \n",
       "\n",
       "[5 rows x 38 columns]"
      ]
     },
     "execution_count": 299,
     "metadata": {},
     "output_type": "execute_result"
    }
   ],
   "source": [
    "weather_22.head()"
   ]
  },
  {
   "cell_type": "code",
   "execution_count": 300,
   "id": "b5de67bf-332e-4093-aade-2732317f6d03",
   "metadata": {
    "tags": []
   },
   "outputs": [],
   "source": [
    "weather_23 = pd.read_csv('weather_2023.csv',encoding=\"cp949\", sep=\",\")"
   ]
  },
  {
   "cell_type": "code",
   "execution_count": 301,
   "id": "cff7ba11-1257-45bb-aaf4-05bad79d449d",
   "metadata": {
    "tags": []
   },
   "outputs": [
    {
     "data": {
      "text/html": [
       "<div>\n",
       "<style scoped>\n",
       "    .dataframe tbody tr th:only-of-type {\n",
       "        vertical-align: middle;\n",
       "    }\n",
       "\n",
       "    .dataframe tbody tr th {\n",
       "        vertical-align: top;\n",
       "    }\n",
       "\n",
       "    .dataframe thead th {\n",
       "        text-align: right;\n",
       "    }\n",
       "</style>\n",
       "<table border=\"1\" class=\"dataframe\">\n",
       "  <thead>\n",
       "    <tr style=\"text-align: right;\">\n",
       "      <th></th>\n",
       "      <th>지점</th>\n",
       "      <th>지점명</th>\n",
       "      <th>일시</th>\n",
       "      <th>기온(°C)</th>\n",
       "      <th>기온 QC플래그</th>\n",
       "      <th>강수량(mm)</th>\n",
       "      <th>강수량 QC플래그</th>\n",
       "      <th>풍속(m/s)</th>\n",
       "      <th>풍속 QC플래그</th>\n",
       "      <th>풍향(16방위)</th>\n",
       "      <th>...</th>\n",
       "      <th>최저운고(100m )</th>\n",
       "      <th>시정(10m)</th>\n",
       "      <th>지면상태(지면상태코드)</th>\n",
       "      <th>현상번호(국내식)</th>\n",
       "      <th>지면온도(°C)</th>\n",
       "      <th>지면온도 QC플래그</th>\n",
       "      <th>5cm 지중온도(°C)</th>\n",
       "      <th>10cm 지중온도(°C)</th>\n",
       "      <th>20cm 지중온도(°C)</th>\n",
       "      <th>30cm 지중온도(°C)</th>\n",
       "    </tr>\n",
       "  </thead>\n",
       "  <tbody>\n",
       "    <tr>\n",
       "      <th>0</th>\n",
       "      <td>108</td>\n",
       "      <td>서울</td>\n",
       "      <td>2023-01-01 0:00</td>\n",
       "      <td>0.9</td>\n",
       "      <td>NaN</td>\n",
       "      <td>NaN</td>\n",
       "      <td>9.0</td>\n",
       "      <td>1.4</td>\n",
       "      <td>NaN</td>\n",
       "      <td>200</td>\n",
       "      <td>...</td>\n",
       "      <td>NaN</td>\n",
       "      <td>1503</td>\n",
       "      <td>NaN</td>\n",
       "      <td>NaN</td>\n",
       "      <td>-1.6</td>\n",
       "      <td>NaN</td>\n",
       "      <td>-0.3</td>\n",
       "      <td>-0.6</td>\n",
       "      <td>-0.5</td>\n",
       "      <td>0.6</td>\n",
       "    </tr>\n",
       "    <tr>\n",
       "      <th>1</th>\n",
       "      <td>108</td>\n",
       "      <td>서울</td>\n",
       "      <td>2023-01-01 1:00</td>\n",
       "      <td>1.5</td>\n",
       "      <td>NaN</td>\n",
       "      <td>NaN</td>\n",
       "      <td>NaN</td>\n",
       "      <td>1.9</td>\n",
       "      <td>NaN</td>\n",
       "      <td>250</td>\n",
       "      <td>...</td>\n",
       "      <td>12.0</td>\n",
       "      <td>1104</td>\n",
       "      <td>NaN</td>\n",
       "      <td>NaN</td>\n",
       "      <td>-1.4</td>\n",
       "      <td>NaN</td>\n",
       "      <td>-0.3</td>\n",
       "      <td>-0.5</td>\n",
       "      <td>-0.5</td>\n",
       "      <td>0.6</td>\n",
       "    </tr>\n",
       "    <tr>\n",
       "      <th>2</th>\n",
       "      <td>108</td>\n",
       "      <td>서울</td>\n",
       "      <td>2023-01-01 2:00</td>\n",
       "      <td>1.5</td>\n",
       "      <td>NaN</td>\n",
       "      <td>NaN</td>\n",
       "      <td>NaN</td>\n",
       "      <td>1.9</td>\n",
       "      <td>NaN</td>\n",
       "      <td>250</td>\n",
       "      <td>...</td>\n",
       "      <td>11.0</td>\n",
       "      <td>925</td>\n",
       "      <td>NaN</td>\n",
       "      <td>40.0</td>\n",
       "      <td>-1.6</td>\n",
       "      <td>NaN</td>\n",
       "      <td>-0.3</td>\n",
       "      <td>-0.5</td>\n",
       "      <td>-0.5</td>\n",
       "      <td>0.6</td>\n",
       "    </tr>\n",
       "    <tr>\n",
       "      <th>3</th>\n",
       "      <td>108</td>\n",
       "      <td>서울</td>\n",
       "      <td>2023-01-01 3:00</td>\n",
       "      <td>1.6</td>\n",
       "      <td>NaN</td>\n",
       "      <td>NaN</td>\n",
       "      <td>NaN</td>\n",
       "      <td>1.6</td>\n",
       "      <td>NaN</td>\n",
       "      <td>250</td>\n",
       "      <td>...</td>\n",
       "      <td>16.0</td>\n",
       "      <td>794</td>\n",
       "      <td>NaN</td>\n",
       "      <td>40.0</td>\n",
       "      <td>-1.8</td>\n",
       "      <td>NaN</td>\n",
       "      <td>-0.3</td>\n",
       "      <td>-0.5</td>\n",
       "      <td>-0.5</td>\n",
       "      <td>0.6</td>\n",
       "    </tr>\n",
       "    <tr>\n",
       "      <th>4</th>\n",
       "      <td>108</td>\n",
       "      <td>서울</td>\n",
       "      <td>2023-01-01 4:00</td>\n",
       "      <td>1.5</td>\n",
       "      <td>NaN</td>\n",
       "      <td>NaN</td>\n",
       "      <td>NaN</td>\n",
       "      <td>1.4</td>\n",
       "      <td>NaN</td>\n",
       "      <td>290</td>\n",
       "      <td>...</td>\n",
       "      <td>10.0</td>\n",
       "      <td>709</td>\n",
       "      <td>NaN</td>\n",
       "      <td>40.0</td>\n",
       "      <td>-1.3</td>\n",
       "      <td>NaN</td>\n",
       "      <td>-0.2</td>\n",
       "      <td>-0.5</td>\n",
       "      <td>-0.5</td>\n",
       "      <td>0.6</td>\n",
       "    </tr>\n",
       "  </tbody>\n",
       "</table>\n",
       "<p>5 rows × 38 columns</p>\n",
       "</div>"
      ],
      "text/plain": [
       "    지점 지점명               일시  기온(°C)  기온 QC플래그  강수량(mm)  강수량 QC플래그  풍속(m/s)  \\\n",
       "0  108  서울  2023-01-01 0:00     0.9       NaN      NaN        9.0      1.4   \n",
       "1  108  서울  2023-01-01 1:00     1.5       NaN      NaN        NaN      1.9   \n",
       "2  108  서울  2023-01-01 2:00     1.5       NaN      NaN        NaN      1.9   \n",
       "3  108  서울  2023-01-01 3:00     1.6       NaN      NaN        NaN      1.6   \n",
       "4  108  서울  2023-01-01 4:00     1.5       NaN      NaN        NaN      1.4   \n",
       "\n",
       "   풍속 QC플래그  풍향(16방위)  ...  최저운고(100m )  시정(10m)  지면상태(지면상태코드)  현상번호(국내식)  \\\n",
       "0       NaN       200  ...          NaN     1503           NaN        NaN   \n",
       "1       NaN       250  ...         12.0     1104           NaN        NaN   \n",
       "2       NaN       250  ...         11.0      925           NaN       40.0   \n",
       "3       NaN       250  ...         16.0      794           NaN       40.0   \n",
       "4       NaN       290  ...         10.0      709           NaN       40.0   \n",
       "\n",
       "   지면온도(°C)  지면온도 QC플래그  5cm 지중온도(°C)  10cm 지중온도(°C)  20cm 지중온도(°C)  \\\n",
       "0      -1.6         NaN          -0.3           -0.6           -0.5   \n",
       "1      -1.4         NaN          -0.3           -0.5           -0.5   \n",
       "2      -1.6         NaN          -0.3           -0.5           -0.5   \n",
       "3      -1.8         NaN          -0.3           -0.5           -0.5   \n",
       "4      -1.3         NaN          -0.2           -0.5           -0.5   \n",
       "\n",
       "   30cm 지중온도(°C)  \n",
       "0            0.6  \n",
       "1            0.6  \n",
       "2            0.6  \n",
       "3            0.6  \n",
       "4            0.6  \n",
       "\n",
       "[5 rows x 38 columns]"
      ]
     },
     "execution_count": 301,
     "metadata": {},
     "output_type": "execute_result"
    }
   ],
   "source": [
    "weather_23.head()"
   ]
  },
  {
   "cell_type": "markdown",
   "id": "bb06f1cb",
   "metadata": {},
   "source": [
    "#### 2) 기본 정보 조회\n",
    "- 데이터를 head, tail. describe, info 등을 활용하여 확인하세요."
   ]
  },
  {
   "cell_type": "code",
   "execution_count": 302,
   "id": "06464273",
   "metadata": {},
   "outputs": [
    {
     "name": "stdout",
     "output_type": "stream",
     "text": [
      "<class 'pandas.core.frame.DataFrame'>\n",
      "Index: 8760 entries, 0 to 8759\n",
      "Data columns (total 12 columns):\n",
      " #   Column  Non-Null Count  Dtype  \n",
      "---  ------  --------------  -----  \n",
      " 0   지역      8760 non-null   object \n",
      " 1   망       8760 non-null   object \n",
      " 2   측정소코드   8760 non-null   int64  \n",
      " 3   측정소명    8760 non-null   object \n",
      " 4   측정일시    8760 non-null   int64  \n",
      " 5   SO2     8673 non-null   float64\n",
      " 6   CO      8673 non-null   float64\n",
      " 7   O3      8673 non-null   float64\n",
      " 8   NO2     8673 non-null   float64\n",
      " 9   PM10    8604 non-null   float64\n",
      " 10  PM25    8655 non-null   float64\n",
      " 11  주소      8760 non-null   object \n",
      "dtypes: float64(6), int64(2), object(4)\n",
      "memory usage: 889.7+ KB\n"
     ]
    }
   ],
   "source": [
    "# 아래에 실습코드를 작성하고 결과를 확인합니다.\n",
    "air_22.info()"
   ]
  },
  {
   "cell_type": "code",
   "execution_count": 303,
   "id": "b383d687",
   "metadata": {},
   "outputs": [
    {
     "name": "stdout",
     "output_type": "stream",
     "text": [
      "<class 'pandas.core.frame.DataFrame'>\n",
      "Index: 5832 entries, 0 to 5831\n",
      "Data columns (total 12 columns):\n",
      " #   Column  Non-Null Count  Dtype  \n",
      "---  ------  --------------  -----  \n",
      " 0   지역      5832 non-null   object \n",
      " 1   망       5832 non-null   object \n",
      " 2   측정소코드   5832 non-null   int64  \n",
      " 3   측정소명    5832 non-null   object \n",
      " 4   측정일시    5832 non-null   int64  \n",
      " 5   SO2     5588 non-null   float64\n",
      " 6   CO      5798 non-null   float64\n",
      " 7   O3      5771 non-null   float64\n",
      " 8   NO2     5798 non-null   float64\n",
      " 9   PM10    5792 non-null   float64\n",
      " 10  PM25    5793 non-null   float64\n",
      " 11  주소      5832 non-null   object \n",
      "dtypes: float64(6), int64(2), object(4)\n",
      "memory usage: 592.3+ KB\n"
     ]
    }
   ],
   "source": [
    "# 아래에 실습코드를 작성하고 결과를 확인합니다.\n",
    "air_23.info()"
   ]
  },
  {
   "cell_type": "code",
   "execution_count": 304,
   "id": "6e5d2bf2",
   "metadata": {},
   "outputs": [
    {
     "data": {
      "text/html": [
       "<div>\n",
       "<style scoped>\n",
       "    .dataframe tbody tr th:only-of-type {\n",
       "        vertical-align: middle;\n",
       "    }\n",
       "\n",
       "    .dataframe tbody tr th {\n",
       "        vertical-align: top;\n",
       "    }\n",
       "\n",
       "    .dataframe thead th {\n",
       "        text-align: right;\n",
       "    }\n",
       "</style>\n",
       "<table border=\"1\" class=\"dataframe\">\n",
       "  <thead>\n",
       "    <tr style=\"text-align: right;\">\n",
       "      <th></th>\n",
       "      <th>측정소코드</th>\n",
       "      <th>측정일시</th>\n",
       "      <th>SO2</th>\n",
       "      <th>CO</th>\n",
       "      <th>O3</th>\n",
       "      <th>NO2</th>\n",
       "      <th>PM10</th>\n",
       "      <th>PM25</th>\n",
       "    </tr>\n",
       "  </thead>\n",
       "  <tbody>\n",
       "    <tr>\n",
       "      <th>count</th>\n",
       "      <td>8760.0</td>\n",
       "      <td>8.760000e+03</td>\n",
       "      <td>8673.000000</td>\n",
       "      <td>8673.000000</td>\n",
       "      <td>8673.000000</td>\n",
       "      <td>8673.000000</td>\n",
       "      <td>8604.000000</td>\n",
       "      <td>8655.000000</td>\n",
       "    </tr>\n",
       "    <tr>\n",
       "      <th>mean</th>\n",
       "      <td>111123.0</td>\n",
       "      <td>2.022067e+09</td>\n",
       "      <td>0.003133</td>\n",
       "      <td>0.473458</td>\n",
       "      <td>0.030759</td>\n",
       "      <td>0.021319</td>\n",
       "      <td>31.756044</td>\n",
       "      <td>19.284575</td>\n",
       "    </tr>\n",
       "    <tr>\n",
       "      <th>std</th>\n",
       "      <td>0.0</td>\n",
       "      <td>3.450216e+04</td>\n",
       "      <td>0.000700</td>\n",
       "      <td>0.183086</td>\n",
       "      <td>0.019796</td>\n",
       "      <td>0.013473</td>\n",
       "      <td>22.466954</td>\n",
       "      <td>14.172678</td>\n",
       "    </tr>\n",
       "    <tr>\n",
       "      <th>min</th>\n",
       "      <td>111123.0</td>\n",
       "      <td>2.022010e+09</td>\n",
       "      <td>0.001000</td>\n",
       "      <td>0.200000</td>\n",
       "      <td>0.001000</td>\n",
       "      <td>0.003000</td>\n",
       "      <td>3.000000</td>\n",
       "      <td>1.000000</td>\n",
       "    </tr>\n",
       "    <tr>\n",
       "      <th>25%</th>\n",
       "      <td>111123.0</td>\n",
       "      <td>2.022040e+09</td>\n",
       "      <td>0.003000</td>\n",
       "      <td>0.400000</td>\n",
       "      <td>0.017000</td>\n",
       "      <td>0.011000</td>\n",
       "      <td>19.000000</td>\n",
       "      <td>10.000000</td>\n",
       "    </tr>\n",
       "    <tr>\n",
       "      <th>50%</th>\n",
       "      <td>111123.0</td>\n",
       "      <td>2.022070e+09</td>\n",
       "      <td>0.003000</td>\n",
       "      <td>0.400000</td>\n",
       "      <td>0.029000</td>\n",
       "      <td>0.017000</td>\n",
       "      <td>28.000000</td>\n",
       "      <td>16.000000</td>\n",
       "    </tr>\n",
       "    <tr>\n",
       "      <th>75%</th>\n",
       "      <td>111123.0</td>\n",
       "      <td>2.022100e+09</td>\n",
       "      <td>0.003000</td>\n",
       "      <td>0.500000</td>\n",
       "      <td>0.042000</td>\n",
       "      <td>0.028000</td>\n",
       "      <td>40.000000</td>\n",
       "      <td>25.000000</td>\n",
       "    </tr>\n",
       "    <tr>\n",
       "      <th>max</th>\n",
       "      <td>111123.0</td>\n",
       "      <td>2.022123e+09</td>\n",
       "      <td>0.008000</td>\n",
       "      <td>1.800000</td>\n",
       "      <td>0.144000</td>\n",
       "      <td>0.074000</td>\n",
       "      <td>385.000000</td>\n",
       "      <td>121.000000</td>\n",
       "    </tr>\n",
       "  </tbody>\n",
       "</table>\n",
       "</div>"
      ],
      "text/plain": [
       "          측정소코드          측정일시          SO2           CO           O3  \\\n",
       "count    8760.0  8.760000e+03  8673.000000  8673.000000  8673.000000   \n",
       "mean   111123.0  2.022067e+09     0.003133     0.473458     0.030759   \n",
       "std         0.0  3.450216e+04     0.000700     0.183086     0.019796   \n",
       "min    111123.0  2.022010e+09     0.001000     0.200000     0.001000   \n",
       "25%    111123.0  2.022040e+09     0.003000     0.400000     0.017000   \n",
       "50%    111123.0  2.022070e+09     0.003000     0.400000     0.029000   \n",
       "75%    111123.0  2.022100e+09     0.003000     0.500000     0.042000   \n",
       "max    111123.0  2.022123e+09     0.008000     1.800000     0.144000   \n",
       "\n",
       "               NO2         PM10         PM25  \n",
       "count  8673.000000  8604.000000  8655.000000  \n",
       "mean      0.021319    31.756044    19.284575  \n",
       "std       0.013473    22.466954    14.172678  \n",
       "min       0.003000     3.000000     1.000000  \n",
       "25%       0.011000    19.000000    10.000000  \n",
       "50%       0.017000    28.000000    16.000000  \n",
       "75%       0.028000    40.000000    25.000000  \n",
       "max       0.074000   385.000000   121.000000  "
      ]
     },
     "execution_count": 304,
     "metadata": {},
     "output_type": "execute_result"
    }
   ],
   "source": [
    "# 아래에 실습코드를 작성하고 결과를 확인합니다.\n",
    "air_22.describe()"
   ]
  },
  {
   "cell_type": "code",
   "execution_count": 305,
   "id": "755b7731-b285-4710-b304-9e53693a6b80",
   "metadata": {
    "tags": []
   },
   "outputs": [
    {
     "data": {
      "image/png": "[encoded data removed]",
      "text/plain": [
       "<Figure size 640x480 with 1 Axes>"
      ]
     },
     "metadata": {},
     "output_type": "display_data"
    }
   ],
   "source": [
    "sns.scatterplot(air_22['CO'])\n",
    "plt.show()"
   ]
  },
  {
   "cell_type": "code",
   "execution_count": null,
   "id": "7ad28096-5a9f-4abf-82d2-97a6736d2b6f",
   "metadata": {},
   "outputs": [],
   "source": []
  },
  {
   "cell_type": "code",
   "execution_count": null,
   "id": "775caee5-88d4-4965-8e13-a17361e7f269",
   "metadata": {},
   "outputs": [],
   "source": []
  },
  {
   "cell_type": "markdown",
   "id": "3d860d6b",
   "metadata": {},
   "source": [
    "## **2.EDA 1단계 - 데이터 기본 탐색 및 분석**\n",
    "\n",
    "* 단변량 분석은 데이터분석의 매우 기초적인 분석기법으로, 독립적인 개별 변수가 가지고있는 특성들을 이해하는 과정입니다.\n",
    "\n",
    "    * <span style=\"color: green\"> 개별 변수에 대해 아래 사항들을 분석해보세요. </span>\n",
    "\n",
    "        1. 변수가 내포하고 있는 의미\n",
    "        2. 변수가 수치형인지, 범주형인지\n",
    "        3. 결측치 존재 여부 및 조치 방안\n",
    "        4. 기초 통계량 확인\n",
    "        5. 데이터 분포 확인\n",
    "        6. 위 정보로부터 파악한 내용 정리\n",
    "        7. 추가 분석사항 도출"
   ]
  },
  {
   "cell_type": "markdown",
   "id": "a7f8c42f",
   "metadata": {},
   "source": [
    "### (1) 변수별 단변량 분석\n",
    "- 4 ~ 5개 변수를 선택해서 위 1~6번을 확인해보세요 (7번은 선택)"
   ]
  },
  {
   "cell_type": "markdown",
   "id": "883c8d2d",
   "metadata": {},
   "source": [
    "#### **[예시] 1) Feature1 : 측정일시**"
   ]
  },
  {
   "cell_type": "markdown",
   "id": "ef6422db",
   "metadata": {},
   "source": [
    "**1. 변수가 내포하고 있는 의미**"
   ]
  },
  {
   "cell_type": "code",
   "execution_count": 306,
   "id": "70748961",
   "metadata": {},
   "outputs": [
    {
     "data": {
      "text/html": [
       "<div>\n",
       "<style scoped>\n",
       "    .dataframe tbody tr th:only-of-type {\n",
       "        vertical-align: middle;\n",
       "    }\n",
       "\n",
       "    .dataframe tbody tr th {\n",
       "        vertical-align: top;\n",
       "    }\n",
       "\n",
       "    .dataframe thead th {\n",
       "        text-align: right;\n",
       "    }\n",
       "</style>\n",
       "<table border=\"1\" class=\"dataframe\">\n",
       "  <thead>\n",
       "    <tr style=\"text-align: right;\">\n",
       "      <th></th>\n",
       "      <th>일시</th>\n",
       "    </tr>\n",
       "  </thead>\n",
       "  <tbody>\n",
       "    <tr>\n",
       "      <th>0</th>\n",
       "      <td>2022-01-01 00:00</td>\n",
       "    </tr>\n",
       "    <tr>\n",
       "      <th>1</th>\n",
       "      <td>2022-01-01 01:00</td>\n",
       "    </tr>\n",
       "    <tr>\n",
       "      <th>2</th>\n",
       "      <td>2022-01-01 02:00</td>\n",
       "    </tr>\n",
       "    <tr>\n",
       "      <th>3</th>\n",
       "      <td>2022-01-01 03:00</td>\n",
       "    </tr>\n",
       "    <tr>\n",
       "      <th>4</th>\n",
       "      <td>2022-01-01 04:00</td>\n",
       "    </tr>\n",
       "  </tbody>\n",
       "</table>\n",
       "</div>"
      ],
      "text/plain": [
       "                 일시\n",
       "0  2022-01-01 00:00\n",
       "1  2022-01-01 01:00\n",
       "2  2022-01-01 02:00\n",
       "3  2022-01-01 03:00\n",
       "4  2022-01-01 04:00"
      ]
     },
     "execution_count": 306,
     "metadata": {},
     "output_type": "execute_result"
    }
   ],
   "source": [
    "# 고민하고 확인해봅시다.\n",
    "weather_22[['일시']].head()"
   ]
  },
  {
   "cell_type": "markdown",
   "id": "a1dd9478",
   "metadata": {},
   "source": [
    "**2. 변수가 수치형인지 범주형인지**\n",
    "  - 날짜는 범주형? 수치형?"
   ]
  },
  {
   "cell_type": "code",
   "execution_count": 307,
   "id": "71c2eb29",
   "metadata": {},
   "outputs": [],
   "source": [
    "# 고민하고 확인해봅시다.\n",
    "# 수치형"
   ]
  },
  {
   "cell_type": "markdown",
   "id": "e19390d9",
   "metadata": {},
   "source": [
    "**3. 변수의 결측치 존재 여부 및 조치 방안**"
   ]
  },
  {
   "cell_type": "code",
   "execution_count": 308,
   "id": "ba8ccde5",
   "metadata": {},
   "outputs": [
    {
     "data": {
      "text/plain": [
       "0"
      ]
     },
     "execution_count": 308,
     "metadata": {},
     "output_type": "execute_result"
    }
   ],
   "source": [
    "# 고민하고 확인해봅시다.\n",
    "weather_22['일시'].isna().sum()"
   ]
  },
  {
   "cell_type": "markdown",
   "id": "c4298881",
   "metadata": {},
   "source": [
    "**4.변수의 기초 통계량 확인**"
   ]
  },
  {
   "cell_type": "code",
   "execution_count": 309,
   "id": "05f34abb",
   "metadata": {},
   "outputs": [
    {
     "data": {
      "text/plain": [
       "count                 8760\n",
       "unique                8760\n",
       "top       2022-01-01 00:00\n",
       "freq                     1\n",
       "Name: 일시, dtype: object"
      ]
     },
     "execution_count": 309,
     "metadata": {},
     "output_type": "execute_result"
    }
   ],
   "source": [
    "# 고민하고 확인해봅시다.\n",
    "weather_22['일시'].describe()"
   ]
  },
  {
   "cell_type": "markdown",
   "id": "efa6eebc",
   "metadata": {},
   "source": [
    "**5. 변수의 분포 확인**"
   ]
  },
  {
   "cell_type": "code",
   "execution_count": 310,
   "id": "0bdc6ae9",
   "metadata": {},
   "outputs": [
    {
     "data": {
      "text/plain": [
       "0     2022010101\n",
       "1     2022010102\n",
       "2     2022010103\n",
       "3     2022010104\n",
       "4     2022010105\n",
       "5     2022010106\n",
       "6     2022010107\n",
       "7     2022010108\n",
       "8     2022010109\n",
       "9     2022010110\n",
       "10    2022010111\n",
       "11    2022010112\n",
       "12    2022010113\n",
       "13    2022010114\n",
       "14    2022010115\n",
       "15    2022010116\n",
       "16    2022010117\n",
       "17    2022010118\n",
       "18    2022010119\n",
       "19    2022010120\n",
       "20    2022010121\n",
       "21    2022010122\n",
       "22    2022010123\n",
       "23    2022010124\n",
       "24    2022010201\n",
       "25    2022010202\n",
       "26    2022010203\n",
       "27    2022010204\n",
       "28    2022010205\n",
       "29    2022010206\n",
       "Name: 측정일시, dtype: int64"
      ]
     },
     "execution_count": 310,
     "metadata": {},
     "output_type": "execute_result"
    }
   ],
   "source": [
    "# 고민하고 확인해봅시다.\n",
    "air_22['측정일시'].head(30)"
   ]
  },
  {
   "cell_type": "markdown",
   "id": "956b9620",
   "metadata": {},
   "source": [
    "**6. 위 정보로 부터 파악한 내용 정리**"
   ]
  },
  {
   "cell_type": "code",
   "execution_count": 311,
   "id": "3c598972-aa40-4631-b18b-ca57aa39807c",
   "metadata": {
    "tags": []
   },
   "outputs": [],
   "source": [
    "# df_22.corr(numeric_only=True)"
   ]
  },
  {
   "cell_type": "code",
   "execution_count": 312,
   "id": "33b8976f",
   "metadata": {},
   "outputs": [],
   "source": [
    "# 고민하고 확인해봅시다."
   ]
  },
  {
   "cell_type": "markdown",
   "id": "762bbeca",
   "metadata": {},
   "source": [
    "-----------**아래에 추가로 3-4개의 변수를 같은 방법으로 고민해보기!** -----------------------"
   ]
  },
  {
   "cell_type": "markdown",
   "id": "a17b3d11-215a-4de6-804f-74d792f1d8ac",
   "metadata": {},
   "source": [
    "## **3.EDA 2단계 - 데이터 전처리**\n",
    "- 진행한 개별 변수 분석에 맞추어 데이터를 전처리 하겠습니다."
   ]
  },
  {
   "cell_type": "markdown",
   "id": "480d374b",
   "metadata": {},
   "source": [
    "### (1) air_22, air_23, weather_22, weather_23 데이터 전처리\n",
    "* air_22, air_23  각각 '측정일시'를 활용하여 'time'변수 생성\n",
    "    * 참고: 미세먼지 데이터는 1시-24시, 날씨 데이터는 0시-23시로 구성되어 있습니다. 미세먼지와 날씨 데이터를 time 기준으로 합치려면 기준이 동일해야 합니다. 미세먼지 데이터에서 time 변수 생성 시 이를 미리 고려(예: air_22['측정일시'] -1)하세요.\n",
    "* time 변수를 pd.to_datetime으로 데이터 타입 변경\n",
    "    * 참고: format = '%Y%m%d%H'"
   ]
  },
  {
   "cell_type": "markdown",
   "id": "c3726f76",
   "metadata": {},
   "source": [
    "#### 1) air_22, air_23 의 '측정일시'를 활용하여 'time' 변수 생성"
   ]
  },
  {
   "cell_type": "code",
   "execution_count": 313,
   "id": "ac807d1c-0293-4363-bb19-d37e39edc84f",
   "metadata": {
    "tags": []
   },
   "outputs": [],
   "source": [
    "air_22['측정일시'] = air_22['측정일시'] - 1"
   ]
  },
  {
   "cell_type": "code",
   "execution_count": 314,
   "id": "d37b3fd8-3371-4d67-8674-f1d97685fc1a",
   "metadata": {
    "tags": []
   },
   "outputs": [],
   "source": [
    "air_23['측정일시'] = air_23['측정일시'] - 1"
   ]
  },
  {
   "cell_type": "code",
   "execution_count": 315,
   "id": "65487427-875c-419c-a76b-e5e8b7102377",
   "metadata": {
    "tags": []
   },
   "outputs": [
    {
     "name": "stdout",
     "output_type": "stream",
     "text": [
      "<class 'pandas.core.series.Series'>\n",
      "Index: 8760 entries, 0 to 8759\n",
      "Series name: 측정일시\n",
      "Non-Null Count  Dtype\n",
      "--------------  -----\n",
      "8760 non-null   int64\n",
      "dtypes: int64(1)\n",
      "memory usage: 136.9 KB\n"
     ]
    }
   ],
   "source": [
    "air_22['측정일시'].info()"
   ]
  },
  {
   "cell_type": "code",
   "execution_count": 316,
   "id": "3077f3b7-b741-4958-8ea0-07aae2b9c18a",
   "metadata": {
    "tags": []
   },
   "outputs": [],
   "source": [
    "air_22['time'] = air_22['측정일시'].astype(str)\n",
    "air_23['time'] = air_23['측정일시'].astype(str)"
   ]
  },
  {
   "cell_type": "code",
   "execution_count": 317,
   "id": "81775c7e",
   "metadata": {},
   "outputs": [],
   "source": [
    "# # 아래에 필요한 코드를 작성하고 결과를 확인합니다.\n",
    "weather_22['time'] = pd.to_datetime(weather_22['일시'])\n",
    "weather_22['time'] = weather_22['time'].dt.strftime('%Y%m%d%H')"
   ]
  },
  {
   "cell_type": "code",
   "execution_count": 318,
   "id": "b177cda3-3eca-44f4-804d-4671fb1bbc95",
   "metadata": {
    "tags": []
   },
   "outputs": [
    {
     "data": {
      "text/html": [
       "<div>\n",
       "<style scoped>\n",
       "    .dataframe tbody tr th:only-of-type {\n",
       "        vertical-align: middle;\n",
       "    }\n",
       "\n",
       "    .dataframe tbody tr th {\n",
       "        vertical-align: top;\n",
       "    }\n",
       "\n",
       "    .dataframe thead th {\n",
       "        text-align: right;\n",
       "    }\n",
       "</style>\n",
       "<table border=\"1\" class=\"dataframe\">\n",
       "  <thead>\n",
       "    <tr style=\"text-align: right;\">\n",
       "      <th></th>\n",
       "      <th>지점</th>\n",
       "      <th>지점명</th>\n",
       "      <th>일시</th>\n",
       "      <th>기온(°C)</th>\n",
       "      <th>기온 QC플래그</th>\n",
       "      <th>강수량(mm)</th>\n",
       "      <th>강수량 QC플래그</th>\n",
       "      <th>풍속(m/s)</th>\n",
       "      <th>풍속 QC플래그</th>\n",
       "      <th>풍향(16방위)</th>\n",
       "      <th>...</th>\n",
       "      <th>시정(10m)</th>\n",
       "      <th>지면상태(지면상태코드)</th>\n",
       "      <th>현상번호(국내식)</th>\n",
       "      <th>지면온도(°C)</th>\n",
       "      <th>지면온도 QC플래그</th>\n",
       "      <th>5cm 지중온도(°C)</th>\n",
       "      <th>10cm 지중온도(°C)</th>\n",
       "      <th>20cm 지중온도(°C)</th>\n",
       "      <th>30cm 지중온도(°C)</th>\n",
       "      <th>time</th>\n",
       "    </tr>\n",
       "  </thead>\n",
       "  <tbody>\n",
       "    <tr>\n",
       "      <th>0</th>\n",
       "      <td>108</td>\n",
       "      <td>서울</td>\n",
       "      <td>2022-01-01 00:00</td>\n",
       "      <td>-8.5</td>\n",
       "      <td>NaN</td>\n",
       "      <td>NaN</td>\n",
       "      <td>NaN</td>\n",
       "      <td>1.9</td>\n",
       "      <td>NaN</td>\n",
       "      <td>320</td>\n",
       "      <td>...</td>\n",
       "      <td>2000</td>\n",
       "      <td>NaN</td>\n",
       "      <td>NaN</td>\n",
       "      <td>-7.0</td>\n",
       "      <td>NaN</td>\n",
       "      <td>-1.0</td>\n",
       "      <td>-1.0</td>\n",
       "      <td>-0.2</td>\n",
       "      <td>1.0</td>\n",
       "      <td>2022010100</td>\n",
       "    </tr>\n",
       "    <tr>\n",
       "      <th>1</th>\n",
       "      <td>108</td>\n",
       "      <td>서울</td>\n",
       "      <td>2022-01-01 01:00</td>\n",
       "      <td>-9.2</td>\n",
       "      <td>NaN</td>\n",
       "      <td>NaN</td>\n",
       "      <td>NaN</td>\n",
       "      <td>1.8</td>\n",
       "      <td>NaN</td>\n",
       "      <td>270</td>\n",
       "      <td>...</td>\n",
       "      <td>2000</td>\n",
       "      <td>NaN</td>\n",
       "      <td>NaN</td>\n",
       "      <td>-7.2</td>\n",
       "      <td>NaN</td>\n",
       "      <td>-1.1</td>\n",
       "      <td>-1.1</td>\n",
       "      <td>-0.2</td>\n",
       "      <td>1.0</td>\n",
       "      <td>2022010101</td>\n",
       "    </tr>\n",
       "    <tr>\n",
       "      <th>2</th>\n",
       "      <td>108</td>\n",
       "      <td>서울</td>\n",
       "      <td>2022-01-01 02:00</td>\n",
       "      <td>-9.5</td>\n",
       "      <td>NaN</td>\n",
       "      <td>NaN</td>\n",
       "      <td>NaN</td>\n",
       "      <td>1.2</td>\n",
       "      <td>NaN</td>\n",
       "      <td>270</td>\n",
       "      <td>...</td>\n",
       "      <td>2000</td>\n",
       "      <td>NaN</td>\n",
       "      <td>NaN</td>\n",
       "      <td>-7.5</td>\n",
       "      <td>NaN</td>\n",
       "      <td>-1.3</td>\n",
       "      <td>-1.2</td>\n",
       "      <td>-0.2</td>\n",
       "      <td>1.0</td>\n",
       "      <td>2022010102</td>\n",
       "    </tr>\n",
       "    <tr>\n",
       "      <th>3</th>\n",
       "      <td>108</td>\n",
       "      <td>서울</td>\n",
       "      <td>2022-01-01 03:00</td>\n",
       "      <td>-9.3</td>\n",
       "      <td>NaN</td>\n",
       "      <td>NaN</td>\n",
       "      <td>NaN</td>\n",
       "      <td>1.4</td>\n",
       "      <td>NaN</td>\n",
       "      <td>290</td>\n",
       "      <td>...</td>\n",
       "      <td>2000</td>\n",
       "      <td>NaN</td>\n",
       "      <td>NaN</td>\n",
       "      <td>-7.6</td>\n",
       "      <td>NaN</td>\n",
       "      <td>-1.4</td>\n",
       "      <td>-1.2</td>\n",
       "      <td>-0.2</td>\n",
       "      <td>1.0</td>\n",
       "      <td>2022010103</td>\n",
       "    </tr>\n",
       "    <tr>\n",
       "      <th>4</th>\n",
       "      <td>108</td>\n",
       "      <td>서울</td>\n",
       "      <td>2022-01-01 04:00</td>\n",
       "      <td>-9.6</td>\n",
       "      <td>NaN</td>\n",
       "      <td>NaN</td>\n",
       "      <td>NaN</td>\n",
       "      <td>1.7</td>\n",
       "      <td>NaN</td>\n",
       "      <td>340</td>\n",
       "      <td>...</td>\n",
       "      <td>2000</td>\n",
       "      <td>NaN</td>\n",
       "      <td>NaN</td>\n",
       "      <td>-7.6</td>\n",
       "      <td>NaN</td>\n",
       "      <td>-1.4</td>\n",
       "      <td>-1.3</td>\n",
       "      <td>-0.3</td>\n",
       "      <td>1.0</td>\n",
       "      <td>2022010104</td>\n",
       "    </tr>\n",
       "  </tbody>\n",
       "</table>\n",
       "<p>5 rows × 39 columns</p>\n",
       "</div>"
      ],
      "text/plain": [
       "    지점 지점명                일시  기온(°C)  기온 QC플래그  강수량(mm)  강수량 QC플래그  풍속(m/s)  \\\n",
       "0  108  서울  2022-01-01 00:00    -8.5       NaN      NaN        NaN      1.9   \n",
       "1  108  서울  2022-01-01 01:00    -9.2       NaN      NaN        NaN      1.8   \n",
       "2  108  서울  2022-01-01 02:00    -9.5       NaN      NaN        NaN      1.2   \n",
       "3  108  서울  2022-01-01 03:00    -9.3       NaN      NaN        NaN      1.4   \n",
       "4  108  서울  2022-01-01 04:00    -9.6       NaN      NaN        NaN      1.7   \n",
       "\n",
       "   풍속 QC플래그  풍향(16방위)  ...  시정(10m)  지면상태(지면상태코드)  현상번호(국내식)  지면온도(°C)  \\\n",
       "0       NaN       320  ...     2000           NaN        NaN      -7.0   \n",
       "1       NaN       270  ...     2000           NaN        NaN      -7.2   \n",
       "2       NaN       270  ...     2000           NaN        NaN      -7.5   \n",
       "3       NaN       290  ...     2000           NaN        NaN      -7.6   \n",
       "4       NaN       340  ...     2000           NaN        NaN      -7.6   \n",
       "\n",
       "   지면온도 QC플래그  5cm 지중온도(°C)  10cm 지중온도(°C)  20cm 지중온도(°C)  30cm 지중온도(°C)  \\\n",
       "0         NaN          -1.0           -1.0           -0.2            1.0   \n",
       "1         NaN          -1.1           -1.1           -0.2            1.0   \n",
       "2         NaN          -1.3           -1.2           -0.2            1.0   \n",
       "3         NaN          -1.4           -1.2           -0.2            1.0   \n",
       "4         NaN          -1.4           -1.3           -0.3            1.0   \n",
       "\n",
       "         time  \n",
       "0  2022010100  \n",
       "1  2022010101  \n",
       "2  2022010102  \n",
       "3  2022010103  \n",
       "4  2022010104  \n",
       "\n",
       "[5 rows x 39 columns]"
      ]
     },
     "execution_count": 318,
     "metadata": {},
     "output_type": "execute_result"
    }
   ],
   "source": [
    "weather_22.head()"
   ]
  },
  {
   "cell_type": "code",
   "execution_count": 319,
   "id": "7bf0b579",
   "metadata": {},
   "outputs": [
    {
     "data": {
      "text/html": [
       "<div>\n",
       "<style scoped>\n",
       "    .dataframe tbody tr th:only-of-type {\n",
       "        vertical-align: middle;\n",
       "    }\n",
       "\n",
       "    .dataframe tbody tr th {\n",
       "        vertical-align: top;\n",
       "    }\n",
       "\n",
       "    .dataframe thead th {\n",
       "        text-align: right;\n",
       "    }\n",
       "</style>\n",
       "<table border=\"1\" class=\"dataframe\">\n",
       "  <thead>\n",
       "    <tr style=\"text-align: right;\">\n",
       "      <th></th>\n",
       "      <th>지역</th>\n",
       "      <th>망</th>\n",
       "      <th>측정소코드</th>\n",
       "      <th>측정소명</th>\n",
       "      <th>측정일시</th>\n",
       "      <th>SO2</th>\n",
       "      <th>CO</th>\n",
       "      <th>O3</th>\n",
       "      <th>NO2</th>\n",
       "      <th>PM10</th>\n",
       "      <th>PM25</th>\n",
       "      <th>주소</th>\n",
       "      <th>time</th>\n",
       "    </tr>\n",
       "  </thead>\n",
       "  <tbody>\n",
       "    <tr>\n",
       "      <th>0</th>\n",
       "      <td>서울 종로구</td>\n",
       "      <td>도시대기</td>\n",
       "      <td>111123</td>\n",
       "      <td>종로구</td>\n",
       "      <td>2022010100</td>\n",
       "      <td>0.003</td>\n",
       "      <td>0.4</td>\n",
       "      <td>0.026</td>\n",
       "      <td>0.016</td>\n",
       "      <td>23.0</td>\n",
       "      <td>12.0</td>\n",
       "      <td>서울 종로구 종로35가길 19</td>\n",
       "      <td>2022010100</td>\n",
       "    </tr>\n",
       "    <tr>\n",
       "      <th>1</th>\n",
       "      <td>서울 종로구</td>\n",
       "      <td>도시대기</td>\n",
       "      <td>111123</td>\n",
       "      <td>종로구</td>\n",
       "      <td>2022010101</td>\n",
       "      <td>0.003</td>\n",
       "      <td>0.4</td>\n",
       "      <td>0.022</td>\n",
       "      <td>0.020</td>\n",
       "      <td>20.0</td>\n",
       "      <td>9.0</td>\n",
       "      <td>서울 종로구 종로35가길 19</td>\n",
       "      <td>2022010101</td>\n",
       "    </tr>\n",
       "    <tr>\n",
       "      <th>2</th>\n",
       "      <td>서울 종로구</td>\n",
       "      <td>도시대기</td>\n",
       "      <td>111123</td>\n",
       "      <td>종로구</td>\n",
       "      <td>2022010102</td>\n",
       "      <td>0.003</td>\n",
       "      <td>0.5</td>\n",
       "      <td>0.014</td>\n",
       "      <td>0.028</td>\n",
       "      <td>20.0</td>\n",
       "      <td>9.0</td>\n",
       "      <td>서울 종로구 종로35가길 19</td>\n",
       "      <td>2022010102</td>\n",
       "    </tr>\n",
       "    <tr>\n",
       "      <th>3</th>\n",
       "      <td>서울 종로구</td>\n",
       "      <td>도시대기</td>\n",
       "      <td>111123</td>\n",
       "      <td>종로구</td>\n",
       "      <td>2022010103</td>\n",
       "      <td>0.003</td>\n",
       "      <td>0.5</td>\n",
       "      <td>0.016</td>\n",
       "      <td>0.027</td>\n",
       "      <td>19.0</td>\n",
       "      <td>10.0</td>\n",
       "      <td>서울 종로구 종로35가길 19</td>\n",
       "      <td>2022010103</td>\n",
       "    </tr>\n",
       "    <tr>\n",
       "      <th>4</th>\n",
       "      <td>서울 종로구</td>\n",
       "      <td>도시대기</td>\n",
       "      <td>111123</td>\n",
       "      <td>종로구</td>\n",
       "      <td>2022010104</td>\n",
       "      <td>0.003</td>\n",
       "      <td>0.5</td>\n",
       "      <td>0.005</td>\n",
       "      <td>0.040</td>\n",
       "      <td>24.0</td>\n",
       "      <td>11.0</td>\n",
       "      <td>서울 종로구 종로35가길 19</td>\n",
       "      <td>2022010104</td>\n",
       "    </tr>\n",
       "  </tbody>\n",
       "</table>\n",
       "</div>"
      ],
      "text/plain": [
       "       지역     망   측정소코드 측정소명        측정일시    SO2   CO     O3    NO2  PM10  \\\n",
       "0  서울 종로구  도시대기  111123  종로구  2022010100  0.003  0.4  0.026  0.016  23.0   \n",
       "1  서울 종로구  도시대기  111123  종로구  2022010101  0.003  0.4  0.022  0.020  20.0   \n",
       "2  서울 종로구  도시대기  111123  종로구  2022010102  0.003  0.5  0.014  0.028  20.0   \n",
       "3  서울 종로구  도시대기  111123  종로구  2022010103  0.003  0.5  0.016  0.027  19.0   \n",
       "4  서울 종로구  도시대기  111123  종로구  2022010104  0.003  0.5  0.005  0.040  24.0   \n",
       "\n",
       "   PM25                주소        time  \n",
       "0  12.0  서울 종로구 종로35가길 19  2022010100  \n",
       "1   9.0  서울 종로구 종로35가길 19  2022010101  \n",
       "2   9.0  서울 종로구 종로35가길 19  2022010102  \n",
       "3  10.0  서울 종로구 종로35가길 19  2022010103  \n",
       "4  11.0  서울 종로구 종로35가길 19  2022010104  "
      ]
     },
     "execution_count": 319,
     "metadata": {},
     "output_type": "execute_result"
    }
   ],
   "source": [
    "# 결과확인\n",
    "air_22.head()"
   ]
  },
  {
   "cell_type": "markdown",
   "id": "49c9d404",
   "metadata": {},
   "source": [
    "#### 2) weather_22, weather_23 의 '일시'를 활용하여 'time' 변수 생성\n",
    "* weather_22, weather_23 의 '일시'를 활용하여 'time'변수 생성\n",
    "* time 변수를 pd.to_datetime으로 데이터 타입 변경"
   ]
  },
  {
   "cell_type": "code",
   "execution_count": 320,
   "id": "9db7e849-fbe6-4a72-8a1d-c052d4e37f9a",
   "metadata": {
    "tags": []
   },
   "outputs": [],
   "source": [
    "# # 아래에 필요한 코드를 작성하고 결과를 확인합니다.\n",
    "weather_23['time'] = pd.to_datetime(weather_23['일시'])\n",
    "weather_23['time'] = weather_23['time'].dt.strftime('%Y%m%d%H')"
   ]
  },
  {
   "cell_type": "code",
   "execution_count": 321,
   "id": "cc56b617",
   "metadata": {},
   "outputs": [
    {
     "data": {
      "text/html": [
       "<div>\n",
       "<style scoped>\n",
       "    .dataframe tbody tr th:only-of-type {\n",
       "        vertical-align: middle;\n",
       "    }\n",
       "\n",
       "    .dataframe tbody tr th {\n",
       "        vertical-align: top;\n",
       "    }\n",
       "\n",
       "    .dataframe thead th {\n",
       "        text-align: right;\n",
       "    }\n",
       "</style>\n",
       "<table border=\"1\" class=\"dataframe\">\n",
       "  <thead>\n",
       "    <tr style=\"text-align: right;\">\n",
       "      <th></th>\n",
       "      <th>지점</th>\n",
       "      <th>지점명</th>\n",
       "      <th>일시</th>\n",
       "      <th>기온(°C)</th>\n",
       "      <th>기온 QC플래그</th>\n",
       "      <th>강수량(mm)</th>\n",
       "      <th>강수량 QC플래그</th>\n",
       "      <th>풍속(m/s)</th>\n",
       "      <th>풍속 QC플래그</th>\n",
       "      <th>풍향(16방위)</th>\n",
       "      <th>...</th>\n",
       "      <th>시정(10m)</th>\n",
       "      <th>지면상태(지면상태코드)</th>\n",
       "      <th>현상번호(국내식)</th>\n",
       "      <th>지면온도(°C)</th>\n",
       "      <th>지면온도 QC플래그</th>\n",
       "      <th>5cm 지중온도(°C)</th>\n",
       "      <th>10cm 지중온도(°C)</th>\n",
       "      <th>20cm 지중온도(°C)</th>\n",
       "      <th>30cm 지중온도(°C)</th>\n",
       "      <th>time</th>\n",
       "    </tr>\n",
       "  </thead>\n",
       "  <tbody>\n",
       "    <tr>\n",
       "      <th>0</th>\n",
       "      <td>108</td>\n",
       "      <td>서울</td>\n",
       "      <td>2023-01-01 0:00</td>\n",
       "      <td>0.9</td>\n",
       "      <td>NaN</td>\n",
       "      <td>NaN</td>\n",
       "      <td>9.0</td>\n",
       "      <td>1.4</td>\n",
       "      <td>NaN</td>\n",
       "      <td>200</td>\n",
       "      <td>...</td>\n",
       "      <td>1503</td>\n",
       "      <td>NaN</td>\n",
       "      <td>NaN</td>\n",
       "      <td>-1.6</td>\n",
       "      <td>NaN</td>\n",
       "      <td>-0.3</td>\n",
       "      <td>-0.6</td>\n",
       "      <td>-0.5</td>\n",
       "      <td>0.6</td>\n",
       "      <td>2023010100</td>\n",
       "    </tr>\n",
       "    <tr>\n",
       "      <th>1</th>\n",
       "      <td>108</td>\n",
       "      <td>서울</td>\n",
       "      <td>2023-01-01 1:00</td>\n",
       "      <td>1.5</td>\n",
       "      <td>NaN</td>\n",
       "      <td>NaN</td>\n",
       "      <td>NaN</td>\n",
       "      <td>1.9</td>\n",
       "      <td>NaN</td>\n",
       "      <td>250</td>\n",
       "      <td>...</td>\n",
       "      <td>1104</td>\n",
       "      <td>NaN</td>\n",
       "      <td>NaN</td>\n",
       "      <td>-1.4</td>\n",
       "      <td>NaN</td>\n",
       "      <td>-0.3</td>\n",
       "      <td>-0.5</td>\n",
       "      <td>-0.5</td>\n",
       "      <td>0.6</td>\n",
       "      <td>2023010101</td>\n",
       "    </tr>\n",
       "    <tr>\n",
       "      <th>2</th>\n",
       "      <td>108</td>\n",
       "      <td>서울</td>\n",
       "      <td>2023-01-01 2:00</td>\n",
       "      <td>1.5</td>\n",
       "      <td>NaN</td>\n",
       "      <td>NaN</td>\n",
       "      <td>NaN</td>\n",
       "      <td>1.9</td>\n",
       "      <td>NaN</td>\n",
       "      <td>250</td>\n",
       "      <td>...</td>\n",
       "      <td>925</td>\n",
       "      <td>NaN</td>\n",
       "      <td>40.0</td>\n",
       "      <td>-1.6</td>\n",
       "      <td>NaN</td>\n",
       "      <td>-0.3</td>\n",
       "      <td>-0.5</td>\n",
       "      <td>-0.5</td>\n",
       "      <td>0.6</td>\n",
       "      <td>2023010102</td>\n",
       "    </tr>\n",
       "    <tr>\n",
       "      <th>3</th>\n",
       "      <td>108</td>\n",
       "      <td>서울</td>\n",
       "      <td>2023-01-01 3:00</td>\n",
       "      <td>1.6</td>\n",
       "      <td>NaN</td>\n",
       "      <td>NaN</td>\n",
       "      <td>NaN</td>\n",
       "      <td>1.6</td>\n",
       "      <td>NaN</td>\n",
       "      <td>250</td>\n",
       "      <td>...</td>\n",
       "      <td>794</td>\n",
       "      <td>NaN</td>\n",
       "      <td>40.0</td>\n",
       "      <td>-1.8</td>\n",
       "      <td>NaN</td>\n",
       "      <td>-0.3</td>\n",
       "      <td>-0.5</td>\n",
       "      <td>-0.5</td>\n",
       "      <td>0.6</td>\n",
       "      <td>2023010103</td>\n",
       "    </tr>\n",
       "    <tr>\n",
       "      <th>4</th>\n",
       "      <td>108</td>\n",
       "      <td>서울</td>\n",
       "      <td>2023-01-01 4:00</td>\n",
       "      <td>1.5</td>\n",
       "      <td>NaN</td>\n",
       "      <td>NaN</td>\n",
       "      <td>NaN</td>\n",
       "      <td>1.4</td>\n",
       "      <td>NaN</td>\n",
       "      <td>290</td>\n",
       "      <td>...</td>\n",
       "      <td>709</td>\n",
       "      <td>NaN</td>\n",
       "      <td>40.0</td>\n",
       "      <td>-1.3</td>\n",
       "      <td>NaN</td>\n",
       "      <td>-0.2</td>\n",
       "      <td>-0.5</td>\n",
       "      <td>-0.5</td>\n",
       "      <td>0.6</td>\n",
       "      <td>2023010104</td>\n",
       "    </tr>\n",
       "  </tbody>\n",
       "</table>\n",
       "<p>5 rows × 39 columns</p>\n",
       "</div>"
      ],
      "text/plain": [
       "    지점 지점명               일시  기온(°C)  기온 QC플래그  강수량(mm)  강수량 QC플래그  풍속(m/s)  \\\n",
       "0  108  서울  2023-01-01 0:00     0.9       NaN      NaN        9.0      1.4   \n",
       "1  108  서울  2023-01-01 1:00     1.5       NaN      NaN        NaN      1.9   \n",
       "2  108  서울  2023-01-01 2:00     1.5       NaN      NaN        NaN      1.9   \n",
       "3  108  서울  2023-01-01 3:00     1.6       NaN      NaN        NaN      1.6   \n",
       "4  108  서울  2023-01-01 4:00     1.5       NaN      NaN        NaN      1.4   \n",
       "\n",
       "   풍속 QC플래그  풍향(16방위)  ...  시정(10m)  지면상태(지면상태코드)  현상번호(국내식)  지면온도(°C)  \\\n",
       "0       NaN       200  ...     1503           NaN        NaN      -1.6   \n",
       "1       NaN       250  ...     1104           NaN        NaN      -1.4   \n",
       "2       NaN       250  ...      925           NaN       40.0      -1.6   \n",
       "3       NaN       250  ...      794           NaN       40.0      -1.8   \n",
       "4       NaN       290  ...      709           NaN       40.0      -1.3   \n",
       "\n",
       "   지면온도 QC플래그  5cm 지중온도(°C)  10cm 지중온도(°C)  20cm 지중온도(°C)  30cm 지중온도(°C)  \\\n",
       "0         NaN          -0.3           -0.6           -0.5            0.6   \n",
       "1         NaN          -0.3           -0.5           -0.5            0.6   \n",
       "2         NaN          -0.3           -0.5           -0.5            0.6   \n",
       "3         NaN          -0.3           -0.5           -0.5            0.6   \n",
       "4         NaN          -0.2           -0.5           -0.5            0.6   \n",
       "\n",
       "         time  \n",
       "0  2023010100  \n",
       "1  2023010101  \n",
       "2  2023010102  \n",
       "3  2023010103  \n",
       "4  2023010104  \n",
       "\n",
       "[5 rows x 39 columns]"
      ]
     },
     "execution_count": 321,
     "metadata": {},
     "output_type": "execute_result"
    }
   ],
   "source": [
    "# 아래에 필요한 코드를 작성하고 결과를 확인합니다.\n",
    "weather_23.head()"
   ]
  },
  {
   "cell_type": "code",
   "execution_count": 322,
   "id": "1228635b",
   "metadata": {},
   "outputs": [],
   "source": [
    "# 결과확인\n",
    "weather_22['time'] = weather_22['time'].astype(str)"
   ]
  },
  {
   "cell_type": "code",
   "execution_count": 323,
   "id": "7902fc67-8918-4289-b71f-4fe316d7d488",
   "metadata": {
    "tags": []
   },
   "outputs": [],
   "source": [
    "weather_23['time'] = weather_23['time'].astype(str)"
   ]
  },
  {
   "cell_type": "markdown",
   "id": "3b4d6b43",
   "metadata": {},
   "source": [
    "#### 3) 'time' 기준으로 데이터 합치기\n",
    "* 미세먼지 데이터와 날씨 데이터를 'time' 기준으로 합쳐보세요.\n",
    "    * df_22에는 'time' 기준으로 22년도 미세먼지, 날씨 데이터를 합쳐보세요.\n",
    "    * df_23에는 'time' 기준으로 23년도 미세먼지, 날씨 데이터를 합쳐보세요."
   ]
  },
  {
   "cell_type": "code",
   "execution_count": 324,
   "id": "a7d953bc-2e0b-4c6b-becc-3b9dd86a53a6",
   "metadata": {
    "tags": []
   },
   "outputs": [
    {
     "data": {
      "text/html": [
       "<div>\n",
       "<style scoped>\n",
       "    .dataframe tbody tr th:only-of-type {\n",
       "        vertical-align: middle;\n",
       "    }\n",
       "\n",
       "    .dataframe tbody tr th {\n",
       "        vertical-align: top;\n",
       "    }\n",
       "\n",
       "    .dataframe thead th {\n",
       "        text-align: right;\n",
       "    }\n",
       "</style>\n",
       "<table border=\"1\" class=\"dataframe\">\n",
       "  <thead>\n",
       "    <tr style=\"text-align: right;\">\n",
       "      <th></th>\n",
       "      <th>지역</th>\n",
       "      <th>망</th>\n",
       "      <th>측정소코드</th>\n",
       "      <th>측정소명</th>\n",
       "      <th>측정일시</th>\n",
       "      <th>SO2</th>\n",
       "      <th>CO</th>\n",
       "      <th>O3</th>\n",
       "      <th>NO2</th>\n",
       "      <th>PM10</th>\n",
       "      <th>PM25</th>\n",
       "      <th>주소</th>\n",
       "      <th>time</th>\n",
       "    </tr>\n",
       "  </thead>\n",
       "  <tbody>\n",
       "    <tr>\n",
       "      <th>0</th>\n",
       "      <td>서울 종로구</td>\n",
       "      <td>도시대기</td>\n",
       "      <td>111123</td>\n",
       "      <td>종로구</td>\n",
       "      <td>2022010100</td>\n",
       "      <td>0.003</td>\n",
       "      <td>0.4</td>\n",
       "      <td>0.026</td>\n",
       "      <td>0.016</td>\n",
       "      <td>23.0</td>\n",
       "      <td>12.0</td>\n",
       "      <td>서울 종로구 종로35가길 19</td>\n",
       "      <td>2022010100</td>\n",
       "    </tr>\n",
       "    <tr>\n",
       "      <th>1</th>\n",
       "      <td>서울 종로구</td>\n",
       "      <td>도시대기</td>\n",
       "      <td>111123</td>\n",
       "      <td>종로구</td>\n",
       "      <td>2022010101</td>\n",
       "      <td>0.003</td>\n",
       "      <td>0.4</td>\n",
       "      <td>0.022</td>\n",
       "      <td>0.020</td>\n",
       "      <td>20.0</td>\n",
       "      <td>9.0</td>\n",
       "      <td>서울 종로구 종로35가길 19</td>\n",
       "      <td>2022010101</td>\n",
       "    </tr>\n",
       "    <tr>\n",
       "      <th>2</th>\n",
       "      <td>서울 종로구</td>\n",
       "      <td>도시대기</td>\n",
       "      <td>111123</td>\n",
       "      <td>종로구</td>\n",
       "      <td>2022010102</td>\n",
       "      <td>0.003</td>\n",
       "      <td>0.5</td>\n",
       "      <td>0.014</td>\n",
       "      <td>0.028</td>\n",
       "      <td>20.0</td>\n",
       "      <td>9.0</td>\n",
       "      <td>서울 종로구 종로35가길 19</td>\n",
       "      <td>2022010102</td>\n",
       "    </tr>\n",
       "    <tr>\n",
       "      <th>3</th>\n",
       "      <td>서울 종로구</td>\n",
       "      <td>도시대기</td>\n",
       "      <td>111123</td>\n",
       "      <td>종로구</td>\n",
       "      <td>2022010103</td>\n",
       "      <td>0.003</td>\n",
       "      <td>0.5</td>\n",
       "      <td>0.016</td>\n",
       "      <td>0.027</td>\n",
       "      <td>19.0</td>\n",
       "      <td>10.0</td>\n",
       "      <td>서울 종로구 종로35가길 19</td>\n",
       "      <td>2022010103</td>\n",
       "    </tr>\n",
       "    <tr>\n",
       "      <th>4</th>\n",
       "      <td>서울 종로구</td>\n",
       "      <td>도시대기</td>\n",
       "      <td>111123</td>\n",
       "      <td>종로구</td>\n",
       "      <td>2022010104</td>\n",
       "      <td>0.003</td>\n",
       "      <td>0.5</td>\n",
       "      <td>0.005</td>\n",
       "      <td>0.040</td>\n",
       "      <td>24.0</td>\n",
       "      <td>11.0</td>\n",
       "      <td>서울 종로구 종로35가길 19</td>\n",
       "      <td>2022010104</td>\n",
       "    </tr>\n",
       "  </tbody>\n",
       "</table>\n",
       "</div>"
      ],
      "text/plain": [
       "       지역     망   측정소코드 측정소명        측정일시    SO2   CO     O3    NO2  PM10  \\\n",
       "0  서울 종로구  도시대기  111123  종로구  2022010100  0.003  0.4  0.026  0.016  23.0   \n",
       "1  서울 종로구  도시대기  111123  종로구  2022010101  0.003  0.4  0.022  0.020  20.0   \n",
       "2  서울 종로구  도시대기  111123  종로구  2022010102  0.003  0.5  0.014  0.028  20.0   \n",
       "3  서울 종로구  도시대기  111123  종로구  2022010103  0.003  0.5  0.016  0.027  19.0   \n",
       "4  서울 종로구  도시대기  111123  종로구  2022010104  0.003  0.5  0.005  0.040  24.0   \n",
       "\n",
       "   PM25                주소        time  \n",
       "0  12.0  서울 종로구 종로35가길 19  2022010100  \n",
       "1   9.0  서울 종로구 종로35가길 19  2022010101  \n",
       "2   9.0  서울 종로구 종로35가길 19  2022010102  \n",
       "3  10.0  서울 종로구 종로35가길 19  2022010103  \n",
       "4  11.0  서울 종로구 종로35가길 19  2022010104  "
      ]
     },
     "execution_count": 324,
     "metadata": {},
     "output_type": "execute_result"
    }
   ],
   "source": [
    "air_22.head()"
   ]
  },
  {
   "cell_type": "code",
   "execution_count": 325,
   "id": "8e77f9fa",
   "metadata": {
    "tags": []
   },
   "outputs": [],
   "source": [
    "# 아래에 필요한 코드를 작성하고 결과를 확인합니다.\n",
    "df_22 = pd.merge(air_22, weather_22, on='time')"
   ]
  },
  {
   "cell_type": "code",
   "execution_count": 326,
   "id": "413fc9e8-a55e-49de-981e-e2e367dce6f4",
   "metadata": {
    "tags": []
   },
   "outputs": [],
   "source": [
    "df_23 = pd.merge(air_23, weather_23, on='time')"
   ]
  },
  {
   "cell_type": "code",
   "execution_count": null,
   "id": "363d76c9-f341-47df-aec4-ff4398adb0eb",
   "metadata": {
    "tags": []
   },
   "outputs": [],
   "source": []
  },
  {
   "cell_type": "code",
   "execution_count": 327,
   "id": "02361a34",
   "metadata": {},
   "outputs": [
    {
     "data": {
      "text/html": [
       "<div>\n",
       "<style scoped>\n",
       "    .dataframe tbody tr th:only-of-type {\n",
       "        vertical-align: middle;\n",
       "    }\n",
       "\n",
       "    .dataframe tbody tr th {\n",
       "        vertical-align: top;\n",
       "    }\n",
       "\n",
       "    .dataframe thead th {\n",
       "        text-align: right;\n",
       "    }\n",
       "</style>\n",
       "<table border=\"1\" class=\"dataframe\">\n",
       "  <thead>\n",
       "    <tr style=\"text-align: right;\">\n",
       "      <th></th>\n",
       "      <th>지역</th>\n",
       "      <th>망</th>\n",
       "      <th>측정소코드</th>\n",
       "      <th>측정소명</th>\n",
       "      <th>측정일시</th>\n",
       "      <th>SO2</th>\n",
       "      <th>CO</th>\n",
       "      <th>O3</th>\n",
       "      <th>NO2</th>\n",
       "      <th>PM10</th>\n",
       "      <th>...</th>\n",
       "      <th>최저운고(100m )</th>\n",
       "      <th>시정(10m)</th>\n",
       "      <th>지면상태(지면상태코드)</th>\n",
       "      <th>현상번호(국내식)</th>\n",
       "      <th>지면온도(°C)</th>\n",
       "      <th>지면온도 QC플래그</th>\n",
       "      <th>5cm 지중온도(°C)</th>\n",
       "      <th>10cm 지중온도(°C)</th>\n",
       "      <th>20cm 지중온도(°C)</th>\n",
       "      <th>30cm 지중온도(°C)</th>\n",
       "    </tr>\n",
       "  </thead>\n",
       "  <tbody>\n",
       "    <tr>\n",
       "      <th>0</th>\n",
       "      <td>서울 종로구</td>\n",
       "      <td>도시대기</td>\n",
       "      <td>111123</td>\n",
       "      <td>종로구</td>\n",
       "      <td>2023010100</td>\n",
       "      <td>0.005</td>\n",
       "      <td>1.4</td>\n",
       "      <td>0.002</td>\n",
       "      <td>0.064</td>\n",
       "      <td>68.0</td>\n",
       "      <td>...</td>\n",
       "      <td>NaN</td>\n",
       "      <td>1503</td>\n",
       "      <td>NaN</td>\n",
       "      <td>NaN</td>\n",
       "      <td>-1.6</td>\n",
       "      <td>NaN</td>\n",
       "      <td>-0.3</td>\n",
       "      <td>-0.6</td>\n",
       "      <td>-0.5</td>\n",
       "      <td>0.6</td>\n",
       "    </tr>\n",
       "    <tr>\n",
       "      <th>1</th>\n",
       "      <td>서울 종로구</td>\n",
       "      <td>도시대기</td>\n",
       "      <td>111123</td>\n",
       "      <td>종로구</td>\n",
       "      <td>2023010101</td>\n",
       "      <td>0.004</td>\n",
       "      <td>1.4</td>\n",
       "      <td>0.002</td>\n",
       "      <td>0.061</td>\n",
       "      <td>64.0</td>\n",
       "      <td>...</td>\n",
       "      <td>12.0</td>\n",
       "      <td>1104</td>\n",
       "      <td>NaN</td>\n",
       "      <td>NaN</td>\n",
       "      <td>-1.4</td>\n",
       "      <td>NaN</td>\n",
       "      <td>-0.3</td>\n",
       "      <td>-0.5</td>\n",
       "      <td>-0.5</td>\n",
       "      <td>0.6</td>\n",
       "    </tr>\n",
       "    <tr>\n",
       "      <th>2</th>\n",
       "      <td>서울 종로구</td>\n",
       "      <td>도시대기</td>\n",
       "      <td>111123</td>\n",
       "      <td>종로구</td>\n",
       "      <td>2023010102</td>\n",
       "      <td>0.004</td>\n",
       "      <td>1.0</td>\n",
       "      <td>0.002</td>\n",
       "      <td>0.051</td>\n",
       "      <td>67.0</td>\n",
       "      <td>...</td>\n",
       "      <td>11.0</td>\n",
       "      <td>925</td>\n",
       "      <td>NaN</td>\n",
       "      <td>40.0</td>\n",
       "      <td>-1.6</td>\n",
       "      <td>NaN</td>\n",
       "      <td>-0.3</td>\n",
       "      <td>-0.5</td>\n",
       "      <td>-0.5</td>\n",
       "      <td>0.6</td>\n",
       "    </tr>\n",
       "    <tr>\n",
       "      <th>3</th>\n",
       "      <td>서울 종로구</td>\n",
       "      <td>도시대기</td>\n",
       "      <td>111123</td>\n",
       "      <td>종로구</td>\n",
       "      <td>2023010103</td>\n",
       "      <td>0.004</td>\n",
       "      <td>0.7</td>\n",
       "      <td>0.012</td>\n",
       "      <td>0.030</td>\n",
       "      <td>76.0</td>\n",
       "      <td>...</td>\n",
       "      <td>16.0</td>\n",
       "      <td>794</td>\n",
       "      <td>NaN</td>\n",
       "      <td>40.0</td>\n",
       "      <td>-1.8</td>\n",
       "      <td>NaN</td>\n",
       "      <td>-0.3</td>\n",
       "      <td>-0.5</td>\n",
       "      <td>-0.5</td>\n",
       "      <td>0.6</td>\n",
       "    </tr>\n",
       "    <tr>\n",
       "      <th>4</th>\n",
       "      <td>서울 종로구</td>\n",
       "      <td>도시대기</td>\n",
       "      <td>111123</td>\n",
       "      <td>종로구</td>\n",
       "      <td>2023010104</td>\n",
       "      <td>0.004</td>\n",
       "      <td>0.7</td>\n",
       "      <td>0.021</td>\n",
       "      <td>0.017</td>\n",
       "      <td>81.0</td>\n",
       "      <td>...</td>\n",
       "      <td>10.0</td>\n",
       "      <td>709</td>\n",
       "      <td>NaN</td>\n",
       "      <td>40.0</td>\n",
       "      <td>-1.3</td>\n",
       "      <td>NaN</td>\n",
       "      <td>-0.2</td>\n",
       "      <td>-0.5</td>\n",
       "      <td>-0.5</td>\n",
       "      <td>0.6</td>\n",
       "    </tr>\n",
       "  </tbody>\n",
       "</table>\n",
       "<p>5 rows × 51 columns</p>\n",
       "</div>"
      ],
      "text/plain": [
       "       지역     망   측정소코드 측정소명        측정일시    SO2   CO     O3    NO2  PM10  ...  \\\n",
       "0  서울 종로구  도시대기  111123  종로구  2023010100  0.005  1.4  0.002  0.064  68.0  ...   \n",
       "1  서울 종로구  도시대기  111123  종로구  2023010101  0.004  1.4  0.002  0.061  64.0  ...   \n",
       "2  서울 종로구  도시대기  111123  종로구  2023010102  0.004  1.0  0.002  0.051  67.0  ...   \n",
       "3  서울 종로구  도시대기  111123  종로구  2023010103  0.004  0.7  0.012  0.030  76.0  ...   \n",
       "4  서울 종로구  도시대기  111123  종로구  2023010104  0.004  0.7  0.021  0.017  81.0  ...   \n",
       "\n",
       "   최저운고(100m ) 시정(10m) 지면상태(지면상태코드)  현상번호(국내식) 지면온도(°C) 지면온도 QC플래그  \\\n",
       "0          NaN    1503          NaN        NaN     -1.6        NaN   \n",
       "1         12.0    1104          NaN        NaN     -1.4        NaN   \n",
       "2         11.0     925          NaN       40.0     -1.6        NaN   \n",
       "3         16.0     794          NaN       40.0     -1.8        NaN   \n",
       "4         10.0     709          NaN       40.0     -1.3        NaN   \n",
       "\n",
       "   5cm 지중온도(°C)  10cm 지중온도(°C)  20cm 지중온도(°C)  30cm 지중온도(°C)  \n",
       "0          -0.3           -0.6           -0.5            0.6  \n",
       "1          -0.3           -0.5           -0.5            0.6  \n",
       "2          -0.3           -0.5           -0.5            0.6  \n",
       "3          -0.3           -0.5           -0.5            0.6  \n",
       "4          -0.2           -0.5           -0.5            0.6  \n",
       "\n",
       "[5 rows x 51 columns]"
      ]
     },
     "execution_count": 327,
     "metadata": {},
     "output_type": "execute_result"
    }
   ],
   "source": [
    "# 결과확인\n",
    "df_23.head()"
   ]
  },
  {
   "cell_type": "markdown",
   "id": "1bcfb4a7",
   "metadata": {},
   "source": [
    "#### 4) 사용하지 않을 변수 제거\n",
    "\n",
    "* 머신러닝에 사용하지 않을 변수들을 제거해줍니다.\n",
    "    * df_22, df_23에 여러분들이 사용할 변수들만 넣어보세요.\n",
    "* time 변수를 index로 세팅하고 (set_index) 데이터가 정렬되어 있지 않으므로 index 기준으로 정렬하세요. (sort_index)"
   ]
  },
  {
   "cell_type": "code",
   "execution_count": 328,
   "id": "ddf39400",
   "metadata": {},
   "outputs": [
    {
     "name": "stdout",
     "output_type": "stream",
     "text": [
      "<class 'pandas.core.frame.DataFrame'>\n",
      "RangeIndex: 8760 entries, 0 to 8759\n",
      "Data columns (total 51 columns):\n",
      " #   Column         Non-Null Count  Dtype  \n",
      "---  ------         --------------  -----  \n",
      " 0   지역             8760 non-null   object \n",
      " 1   망              8760 non-null   object \n",
      " 2   측정소코드          8760 non-null   int64  \n",
      " 3   측정소명           8760 non-null   object \n",
      " 4   측정일시           8760 non-null   int64  \n",
      " 5   SO2            8673 non-null   float64\n",
      " 6   CO             8673 non-null   float64\n",
      " 7   O3             8673 non-null   float64\n",
      " 8   NO2            8673 non-null   float64\n",
      " 9   PM10           8604 non-null   float64\n",
      " 10  PM25           8655 non-null   float64\n",
      " 11  주소             8760 non-null   object \n",
      " 12  time           8760 non-null   object \n",
      " 13  지점             8760 non-null   int64  \n",
      " 14  지점명            8760 non-null   object \n",
      " 15  일시             8760 non-null   object \n",
      " 16  기온(°C)         8760 non-null   float64\n",
      " 17  기온 QC플래그       0 non-null      float64\n",
      " 18  강수량(mm)        939 non-null    float64\n",
      " 19  강수량 QC플래그      1568 non-null   float64\n",
      " 20  풍속(m/s)        8760 non-null   float64\n",
      " 21  풍속 QC플래그       0 non-null      float64\n",
      " 22  풍향(16방위)       8760 non-null   int64  \n",
      " 23  풍향 QC플래그       0 non-null      float64\n",
      " 24  습도(%)          8760 non-null   int64  \n",
      " 25  습도 QC플래그       0 non-null      float64\n",
      " 26  증기압(hPa)       8760 non-null   float64\n",
      " 27  이슬점온도(°C)      8760 non-null   float64\n",
      " 28  현지기압(hPa)      8760 non-null   float64\n",
      " 29  현지기압 QC플래그     0 non-null      float64\n",
      " 30  해면기압(hPa)      8760 non-null   float64\n",
      " 31  해면기압 QC플래그     0 non-null      float64\n",
      " 32  일조(hr)         4791 non-null   float64\n",
      " 33  일조 QC플래그       3969 non-null   float64\n",
      " 34  일사(MJ/m2)      4791 non-null   float64\n",
      " 35  일사 QC플래그       3970 non-null   float64\n",
      " 36  적설(cm)         489 non-null    float64\n",
      " 37  3시간신적설(cm)     31 non-null     float64\n",
      " 38  전운량(10분위)      8760 non-null   int64  \n",
      " 39  중하층운량(10분위)    8760 non-null   int64  \n",
      " 40  운형(운형약어)       4815 non-null   object \n",
      " 41  최저운고(100m )    4455 non-null   float64\n",
      " 42  시정(10m)        8760 non-null   int64  \n",
      " 43  지면상태(지면상태코드)   0 non-null      float64\n",
      " 44  현상번호(국내식)      1727 non-null   float64\n",
      " 45  지면온도(°C)       8759 non-null   float64\n",
      " 46  지면온도 QC플래그     15 non-null     float64\n",
      " 47  5cm 지중온도(°C)   8759 non-null   float64\n",
      " 48  10cm 지중온도(°C)  8759 non-null   float64\n",
      " 49  20cm 지중온도(°C)  8759 non-null   float64\n",
      " 50  30cm 지중온도(°C)  8759 non-null   float64\n",
      "dtypes: float64(35), int64(8), object(8)\n",
      "memory usage: 3.4+ MB\n"
     ]
    }
   ],
   "source": [
    "# df_22, df_23에 사용할 변수들만 할당\n",
    "df_22.info()"
   ]
  },
  {
   "cell_type": "code",
   "execution_count": 329,
   "id": "c238ede3-b397-433c-a9c6-288d587ebf31",
   "metadata": {
    "tags": []
   },
   "outputs": [],
   "source": [
    "# drop_col = ['지역', '망', '측정소명', '주소','지점명','일시','운형(운형약어)',\\\n",
    "#             '기온 QC플래그', '기온 QC플래그', '풍향 QC플래그', '풍향(16방위)', '증기압(hPa)',\\\n",
    "#             '습도 QC플래그', '현지기압 QC플래그','현지기압(hPa)','해면기압 QC플래그', '해면기압(hPa)','일조(hr)' , \\\n",
    "#             '일사(MJ/m2)','적설(cm)','전운량(10분위)',\n",
    "#             '지면상태(지면상태코드)', '풍속 QC플래그', '지면온도 QC플래그', '현상번호(국내식)', '3시간신적설(cm)', \\\n",
    "#             '강수량 QC플래그', '일사 QC플래그', '일조 QC플래그', '일사 QC플래그']\n",
    "# df_22.drop(columns=drop_col, axis=1, inplace=True)"
   ]
  },
  {
   "cell_type": "code",
   "execution_count": 365,
   "id": "48b66655-8323-44e6-aa02-afb9564ab5d5",
   "metadata": {
    "tags": []
   },
   "outputs": [],
   "source": [
    "columns = ['강수량(mm)', 'NO2', '기온(°C)', '해면기압(hPa)', '증기압(hPa)']\n",
    "df_22 = df_22.loc[:, columns]"
   ]
  },
  {
   "cell_type": "code",
   "execution_count": 366,
   "id": "31efd56d-e00a-4783-a6f1-54318d04a116",
   "metadata": {
    "tags": []
   },
   "outputs": [
    {
     "name": "stdout",
     "output_type": "stream",
     "text": [
      "<class 'pandas.core.frame.DataFrame'>\n",
      "Index: 8730 entries, 30 to 8759\n",
      "Data columns (total 5 columns):\n",
      " #   Column     Non-Null Count  Dtype  \n",
      "---  ------     --------------  -----  \n",
      " 0   강수량(mm)    8730 non-null   float64\n",
      " 1   NO2        8730 non-null   float64\n",
      " 2   기온(°C)     8730 non-null   float64\n",
      " 3   해면기압(hPa)  8730 non-null   float64\n",
      " 4   증기압(hPa)   8730 non-null   float64\n",
      "dtypes: float64(5)\n",
      "memory usage: 409.2 KB\n"
     ]
    }
   ],
   "source": [
    "df_22.info()"
   ]
  },
  {
   "cell_type": "code",
   "execution_count": 335,
   "id": "2012d0c8-eb39-480a-a27e-5344da9bfd58",
   "metadata": {},
   "outputs": [],
   "source": [
    "# df_22['time'] = pd.to_datetime(df_22['time'], format='%Y%m%d%H')"
   ]
  },
  {
   "cell_type": "code",
   "execution_count": 336,
   "id": "f7520eaa-c528-4113-89be-dbbd643b76f7",
   "metadata": {
    "tags": []
   },
   "outputs": [],
   "source": [
    "df_23 = df_23.loc[:, columns]"
   ]
  },
  {
   "cell_type": "code",
   "execution_count": 206,
   "id": "351bed8d",
   "metadata": {
    "tags": []
   },
   "outputs": [],
   "source": []
  },
  {
   "cell_type": "code",
   "execution_count": null,
   "id": "bb995cda-f42e-417f-aede-c4196d9c208b",
   "metadata": {
    "tags": []
   },
   "outputs": [],
   "source": []
  },
  {
   "cell_type": "code",
   "execution_count": 337,
   "id": "cf66f37e-57b3-42ba-a7bb-af52ad177eee",
   "metadata": {
    "tags": []
   },
   "outputs": [],
   "source": [
    "# df_23['time'] = pd.to_datetime(df_23['time'], format='%Y%m%d%H')\n",
    "# # time 변수를 index로 세팅\n",
    "# df_23.set_index('time', inplace=True"
   ]
  },
  {
   "cell_type": "markdown",
   "id": "d227338e-eb0d-44e3-b847-c2f95287dab8",
   "metadata": {
    "tags": []
   },
   "source": [
    "#### 5) 변수들의 결측치 처리"
   ]
  },
  {
   "cell_type": "code",
   "execution_count": 338,
   "id": "e38d021e",
   "metadata": {},
   "outputs": [
    {
     "data": {
      "text/plain": [
       "강수량(mm)      7821\n",
       "NO2            87\n",
       "기온(°C)          0\n",
       "해면기압(hPa)       0\n",
       "증기압(hPa)        0\n",
       "dtype: int64"
      ]
     },
     "execution_count": 338,
     "metadata": {},
     "output_type": "execute_result"
    }
   ],
   "source": [
    "# df_22, df_23의 결측치 확인\n",
    "df_22.isna().sum()\n"
   ]
  },
  {
   "cell_type": "code",
   "execution_count": 339,
   "id": "eb0deee1-455f-4a14-90be-79b5eafcb53f",
   "metadata": {
    "tags": []
   },
   "outputs": [
    {
     "data": {
      "text/plain": [
       "강수량(mm)      5023\n",
       "NO2            34\n",
       "기온(°C)          0\n",
       "해면기압(hPa)       0\n",
       "증기압(hPa)        0\n",
       "dtype: int64"
      ]
     },
     "execution_count": 339,
     "metadata": {},
     "output_type": "execute_result"
    }
   ],
   "source": [
    "df_23.isna().sum()"
   ]
  },
  {
   "cell_type": "code",
   "execution_count": 340,
   "id": "d5ceccfc",
   "metadata": {},
   "outputs": [],
   "source": [
    "# df_22, df_23의 변수 중 결측치를 처리(결측치 처리 방법은 다양!)\n",
    "# 선택해서 결측치를 처리해보세요.\n",
    "df_22.fillna(method='ffill', inplace=True)"
   ]
  },
  {
   "cell_type": "code",
   "execution_count": 341,
   "id": "44b85275-f442-43d7-8563-0ba1bc319ef5",
   "metadata": {
    "tags": []
   },
   "outputs": [
    {
     "data": {
      "text/plain": [
       "강수량(mm)      30\n",
       "NO2           0\n",
       "기온(°C)        0\n",
       "해면기압(hPa)     0\n",
       "증기압(hPa)      0\n",
       "dtype: int64"
      ]
     },
     "execution_count": 341,
     "metadata": {},
     "output_type": "execute_result"
    }
   ],
   "source": [
    "df_22.isna().sum()"
   ]
  },
  {
   "cell_type": "code",
   "execution_count": 342,
   "id": "623ce051-192c-4f9f-95af-be4326640a6d",
   "metadata": {
    "tags": []
   },
   "outputs": [],
   "source": [
    "df_22.dropna(axis=0, inplace=True)"
   ]
  },
  {
   "cell_type": "code",
   "execution_count": 343,
   "id": "bdf5d42f-f714-4664-9fa6-3ca35b6b6aca",
   "metadata": {
    "tags": []
   },
   "outputs": [
    {
     "data": {
      "text/plain": [
       "강수량(mm)      0\n",
       "NO2          0\n",
       "기온(°C)       0\n",
       "해면기압(hPa)    0\n",
       "증기압(hPa)     0\n",
       "dtype: int64"
      ]
     },
     "execution_count": 343,
     "metadata": {},
     "output_type": "execute_result"
    }
   ],
   "source": [
    "df_22.isna().sum()"
   ]
  },
  {
   "cell_type": "code",
   "execution_count": 344,
   "id": "487156c5-8ed3-427d-8079-2c14d18fa8f7",
   "metadata": {
    "tags": []
   },
   "outputs": [],
   "source": [
    "df_23.fillna(method='ffill', inplace=True)\n",
    "df_23.dropna(axis=0, inplace=True)"
   ]
  },
  {
   "cell_type": "code",
   "execution_count": 345,
   "id": "f37251a9",
   "metadata": {},
   "outputs": [
    {
     "data": {
      "text/plain": [
       "강수량(mm)      0\n",
       "NO2          0\n",
       "기온(°C)       0\n",
       "해면기압(hPa)    0\n",
       "증기압(hPa)     0\n",
       "dtype: int64"
      ]
     },
     "execution_count": 345,
     "metadata": {},
     "output_type": "execute_result"
    }
   ],
   "source": [
    "# df_22, df_23의 결측치 처리 후 재확인 해보기\n",
    "df_23.isna().sum()"
   ]
  },
  {
   "cell_type": "code",
   "execution_count": 346,
   "id": "816f2b37-627a-4cbb-9b93-7dfcd2445273",
   "metadata": {
    "tags": []
   },
   "outputs": [
    {
     "name": "stdout",
     "output_type": "stream",
     "text": [
      "<class 'pandas.core.frame.DataFrame'>\n",
      "Index: 5694 entries, 138 to 5831\n",
      "Data columns (total 5 columns):\n",
      " #   Column     Non-Null Count  Dtype  \n",
      "---  ------     --------------  -----  \n",
      " 0   강수량(mm)    5694 non-null   float64\n",
      " 1   NO2        5694 non-null   float64\n",
      " 2   기온(°C)     5694 non-null   float64\n",
      " 3   해면기압(hPa)  5694 non-null   float64\n",
      " 4   증기압(hPa)   5694 non-null   float64\n",
      "dtypes: float64(5)\n",
      "memory usage: 266.9 KB\n"
     ]
    }
   ],
   "source": [
    "df_23.info()"
   ]
  },
  {
   "cell_type": "code",
   "execution_count": null,
   "id": "369d3d65-cf94-4141-be37-aea5f53ced50",
   "metadata": {},
   "outputs": [],
   "source": []
  },
  {
   "cell_type": "code",
   "execution_count": null,
   "id": "2e0c70d1-da5e-485c-9e3b-ccbaa22bfa2f",
   "metadata": {},
   "outputs": [],
   "source": []
  },
  {
   "cell_type": "markdown",
   "id": "4562852f-536a-40f3-bfb3-38c725e9fdbf",
   "metadata": {
    "tags": []
   },
   "source": [
    "#### 6) 전일 같은 시간 미세먼지 농도 변수 추가\n",
    "\n",
    "* 먼저 df_22, df_23에 month, day, hour 변수를 추가하세요.\n",
    "    * 예) dt.month, dt.day, dt.hour 사용 또는 datetimeindex에서는 df.index.month 등 사용 가능\n",
    "* 모델링에 유용한 변수로 전일 같은 시간(24시간 전) 미세먼지 농도 변수를 추가하세요.\n",
    "    * 시계열 데이터 처리를 위한 shift 연산을 참고하세요."
   ]
  },
  {
   "cell_type": "code",
   "execution_count": 347,
   "id": "90166ae5-6ba2-437d-bc12-23ad1b955069",
   "metadata": {
    "tags": []
   },
   "outputs": [
    {
     "data": {
      "text/html": [
       "<div>\n",
       "<style scoped>\n",
       "    .dataframe tbody tr th:only-of-type {\n",
       "        vertical-align: middle;\n",
       "    }\n",
       "\n",
       "    .dataframe tbody tr th {\n",
       "        vertical-align: top;\n",
       "    }\n",
       "\n",
       "    .dataframe thead th {\n",
       "        text-align: right;\n",
       "    }\n",
       "</style>\n",
       "<table border=\"1\" class=\"dataframe\">\n",
       "  <thead>\n",
       "    <tr style=\"text-align: right;\">\n",
       "      <th></th>\n",
       "      <th>강수량(mm)</th>\n",
       "      <th>NO2</th>\n",
       "      <th>기온(°C)</th>\n",
       "      <th>해면기압(hPa)</th>\n",
       "      <th>증기압(hPa)</th>\n",
       "    </tr>\n",
       "  </thead>\n",
       "  <tbody>\n",
       "    <tr>\n",
       "      <th>30</th>\n",
       "      <td>0.0</td>\n",
       "      <td>0.041</td>\n",
       "      <td>-1.9</td>\n",
       "      <td>1025.1</td>\n",
       "      <td>3.5</td>\n",
       "    </tr>\n",
       "    <tr>\n",
       "      <th>31</th>\n",
       "      <td>0.0</td>\n",
       "      <td>0.042</td>\n",
       "      <td>-2.2</td>\n",
       "      <td>1025.3</td>\n",
       "      <td>4.2</td>\n",
       "    </tr>\n",
       "    <tr>\n",
       "      <th>32</th>\n",
       "      <td>0.0</td>\n",
       "      <td>0.042</td>\n",
       "      <td>-2.2</td>\n",
       "      <td>1025.6</td>\n",
       "      <td>4.3</td>\n",
       "    </tr>\n",
       "    <tr>\n",
       "      <th>33</th>\n",
       "      <td>0.3</td>\n",
       "      <td>0.039</td>\n",
       "      <td>-1.9</td>\n",
       "      <td>1026.4</td>\n",
       "      <td>4.4</td>\n",
       "    </tr>\n",
       "    <tr>\n",
       "      <th>34</th>\n",
       "      <td>0.3</td>\n",
       "      <td>0.031</td>\n",
       "      <td>-0.8</td>\n",
       "      <td>1027.1</td>\n",
       "      <td>4.7</td>\n",
       "    </tr>\n",
       "  </tbody>\n",
       "</table>\n",
       "</div>"
      ],
      "text/plain": [
       "    강수량(mm)    NO2  기온(°C)  해면기압(hPa)  증기압(hPa)\n",
       "30      0.0  0.041    -1.9     1025.1       3.5\n",
       "31      0.0  0.042    -2.2     1025.3       4.2\n",
       "32      0.0  0.042    -2.2     1025.6       4.3\n",
       "33      0.3  0.039    -1.9     1026.4       4.4\n",
       "34      0.3  0.031    -0.8     1027.1       4.7"
      ]
     },
     "execution_count": 347,
     "metadata": {},
     "output_type": "execute_result"
    }
   ],
   "source": [
    "df_22.head()"
   ]
  },
  {
   "cell_type": "code",
   "execution_count": 349,
   "id": "f744a7a9-32b6-45bc-ad71-f72738dd0d1e",
   "metadata": {
    "tags": []
   },
   "outputs": [],
   "source": [
    "# df_22['PM10_24'] = df_22['PM10'].shift(1, freq='D')"
   ]
  },
  {
   "cell_type": "code",
   "execution_count": 351,
   "id": "dff0b6fd-6cd7-4257-ad1a-22a75dca33b7",
   "metadata": {
    "tags": []
   },
   "outputs": [],
   "source": [
    "# df_22['PM25_24'] = df_22['PM25'].shift(1, freq='D')"
   ]
  },
  {
   "cell_type": "code",
   "execution_count": 352,
   "id": "15837ed5-c47e-400b-a93b-968939170824",
   "metadata": {
    "tags": []
   },
   "outputs": [],
   "source": [
    "# df_23['PM10_24'] = df_23['PM10'].shift(1, freq='D')"
   ]
  },
  {
   "cell_type": "code",
   "execution_count": 354,
   "id": "65823100-5dce-4a6d-a5d6-f1d18e20d1e6",
   "metadata": {
    "tags": []
   },
   "outputs": [],
   "source": [
    "# df_23['PM25_24'] = df_23['PM25'].shift(1, freq='D')"
   ]
  },
  {
   "cell_type": "code",
   "execution_count": 355,
   "id": "4573f5f8",
   "metadata": {},
   "outputs": [],
   "source": [
    "# df_22, df_23에 전일 같은 시간 미세먼지 농도 변수 추가\n",
    "# 전일 같은 시간은 24시간 전 입니다. (shift 함수 활용)"
   ]
  },
  {
   "cell_type": "code",
   "execution_count": 356,
   "id": "fb22ca40",
   "metadata": {},
   "outputs": [
    {
     "data": {
      "text/html": [
       "<div>\n",
       "<style scoped>\n",
       "    .dataframe tbody tr th:only-of-type {\n",
       "        vertical-align: middle;\n",
       "    }\n",
       "\n",
       "    .dataframe tbody tr th {\n",
       "        vertical-align: top;\n",
       "    }\n",
       "\n",
       "    .dataframe thead th {\n",
       "        text-align: right;\n",
       "    }\n",
       "</style>\n",
       "<table border=\"1\" class=\"dataframe\">\n",
       "  <thead>\n",
       "    <tr style=\"text-align: right;\">\n",
       "      <th></th>\n",
       "      <th>강수량(mm)</th>\n",
       "      <th>NO2</th>\n",
       "      <th>기온(°C)</th>\n",
       "      <th>해면기압(hPa)</th>\n",
       "      <th>증기압(hPa)</th>\n",
       "    </tr>\n",
       "  </thead>\n",
       "  <tbody>\n",
       "    <tr>\n",
       "      <th>30</th>\n",
       "      <td>0.0</td>\n",
       "      <td>0.041</td>\n",
       "      <td>-1.9</td>\n",
       "      <td>1025.1</td>\n",
       "      <td>3.5</td>\n",
       "    </tr>\n",
       "    <tr>\n",
       "      <th>31</th>\n",
       "      <td>0.0</td>\n",
       "      <td>0.042</td>\n",
       "      <td>-2.2</td>\n",
       "      <td>1025.3</td>\n",
       "      <td>4.2</td>\n",
       "    </tr>\n",
       "    <tr>\n",
       "      <th>32</th>\n",
       "      <td>0.0</td>\n",
       "      <td>0.042</td>\n",
       "      <td>-2.2</td>\n",
       "      <td>1025.6</td>\n",
       "      <td>4.3</td>\n",
       "    </tr>\n",
       "    <tr>\n",
       "      <th>33</th>\n",
       "      <td>0.3</td>\n",
       "      <td>0.039</td>\n",
       "      <td>-1.9</td>\n",
       "      <td>1026.4</td>\n",
       "      <td>4.4</td>\n",
       "    </tr>\n",
       "    <tr>\n",
       "      <th>34</th>\n",
       "      <td>0.3</td>\n",
       "      <td>0.031</td>\n",
       "      <td>-0.8</td>\n",
       "      <td>1027.1</td>\n",
       "      <td>4.7</td>\n",
       "    </tr>\n",
       "  </tbody>\n",
       "</table>\n",
       "</div>"
      ],
      "text/plain": [
       "    강수량(mm)    NO2  기온(°C)  해면기압(hPa)  증기압(hPa)\n",
       "30      0.0  0.041    -1.9     1025.1       3.5\n",
       "31      0.0  0.042    -2.2     1025.3       4.2\n",
       "32      0.0  0.042    -2.2     1025.6       4.3\n",
       "33      0.3  0.039    -1.9     1026.4       4.4\n",
       "34      0.3  0.031    -0.8     1027.1       4.7"
      ]
     },
     "execution_count": 356,
     "metadata": {},
     "output_type": "execute_result"
    }
   ],
   "source": [
    "#확인해보기\n",
    "df_22.head()"
   ]
  },
  {
   "cell_type": "markdown",
   "id": "ff52b9e7-869c-41c9-8aea-817ec00d5200",
   "metadata": {
    "tags": []
   },
   "source": [
    "#### 7) t+1 시점의 미세먼지 농도 데이터 생성\n",
    "* t+1 시점은 1시간 후 입니다.\n",
    "* t+1 시점의 미세먼지 농도 변수(PM10_1)를 생성하세요.\n",
    "* t+1 시점의 미세먼지 농도는 머신러닝 모델을 통해 예측하려는 y값(target) 입니다."
   ]
  },
  {
   "cell_type": "code",
   "execution_count": 358,
   "id": "b5003c89",
   "metadata": {},
   "outputs": [],
   "source": [
    "# # df_22, df_23에 t+1 시점 변수(PM10_1) 추가\n",
    "# # shift 함수 활용 해보기!\n",
    "# df_22['PM10_1'] = df_22['PM10'].shift(1, freq='H')\n",
    "# df_22.head()"
   ]
  },
  {
   "cell_type": "code",
   "execution_count": 359,
   "id": "1b551252-23c2-4a13-90fc-295281001461",
   "metadata": {
    "tags": []
   },
   "outputs": [],
   "source": [
    "# df_23['PM10_1'] = df_23['PM10'].shift(1, freq='H')\n",
    "# df_23.head()"
   ]
  },
  {
   "cell_type": "code",
   "execution_count": 360,
   "id": "14cb2489",
   "metadata": {},
   "outputs": [
    {
     "data": {
      "text/plain": [
       "강수량(mm)      0\n",
       "NO2          0\n",
       "기온(°C)       0\n",
       "해면기압(hPa)    0\n",
       "증기압(hPa)     0\n",
       "dtype: int64"
      ]
     },
     "execution_count": 360,
     "metadata": {},
     "output_type": "execute_result"
    }
   ],
   "source": [
    "#확인해보기!\n",
    "df_22.isna().sum()"
   ]
  },
  {
   "cell_type": "code",
   "execution_count": 361,
   "id": "b14b9b60",
   "metadata": {},
   "outputs": [],
   "source": [
    "# 결측치가 있다면 처리하고 확인해보기!"
   ]
  },
  {
   "cell_type": "code",
   "execution_count": 362,
   "id": "c177dfc0-b5f5-4b9c-bd21-86ec8f03a4ba",
   "metadata": {
    "tags": []
   },
   "outputs": [
    {
     "ename": "KeyError",
     "evalue": "'PM10_24'",
     "output_type": "error",
     "traceback": [
      "\u001b[1;31m---------------------------------------------------------------------------\u001b[0m",
      "\u001b[1;31mKeyError\u001b[0m                                  Traceback (most recent call last)",
      "File \u001b[1;32m~\\anaconda3\\Lib\\site-packages\\pandas\\core\\indexes\\base.py:3653\u001b[0m, in \u001b[0;36mIndex.get_loc\u001b[1;34m(self, key)\u001b[0m\n\u001b[0;32m   3652\u001b[0m \u001b[38;5;28;01mtry\u001b[39;00m:\n\u001b[1;32m-> 3653\u001b[0m     \u001b[38;5;28;01mreturn\u001b[39;00m \u001b[38;5;28mself\u001b[39m\u001b[38;5;241m.\u001b[39m_engine\u001b[38;5;241m.\u001b[39mget_loc(casted_key)\n\u001b[0;32m   3654\u001b[0m \u001b[38;5;28;01mexcept\u001b[39;00m \u001b[38;5;167;01mKeyError\u001b[39;00m \u001b[38;5;28;01mas\u001b[39;00m err:\n",
      "File \u001b[1;32m~\\anaconda3\\Lib\\site-packages\\pandas\\_libs\\index.pyx:147\u001b[0m, in \u001b[0;36mpandas._libs.index.IndexEngine.get_loc\u001b[1;34m()\u001b[0m\n",
      "File \u001b[1;32m~\\anaconda3\\Lib\\site-packages\\pandas\\_libs\\index.pyx:176\u001b[0m, in \u001b[0;36mpandas._libs.index.IndexEngine.get_loc\u001b[1;34m()\u001b[0m\n",
      "File \u001b[1;32mpandas\\_libs\\hashtable_class_helper.pxi:7080\u001b[0m, in \u001b[0;36mpandas._libs.hashtable.PyObjectHashTable.get_item\u001b[1;34m()\u001b[0m\n",
      "File \u001b[1;32mpandas\\_libs\\hashtable_class_helper.pxi:7088\u001b[0m, in \u001b[0;36mpandas._libs.hashtable.PyObjectHashTable.get_item\u001b[1;34m()\u001b[0m\n",
      "\u001b[1;31mKeyError\u001b[0m: 'PM10_24'",
      "\nThe above exception was the direct cause of the following exception:\n",
      "\u001b[1;31mKeyError\u001b[0m                                  Traceback (most recent call last)",
      "Cell \u001b[1;32mIn[362], line 1\u001b[0m\n\u001b[1;32m----> 1\u001b[0m df_22[\u001b[38;5;124m'\u001b[39m\u001b[38;5;124mPM10_24\u001b[39m\u001b[38;5;124m'\u001b[39m]\u001b[38;5;241m.\u001b[39mfillna(df_22[\u001b[38;5;124m'\u001b[39m\u001b[38;5;124mPM10_24\u001b[39m\u001b[38;5;124m'\u001b[39m]\u001b[38;5;241m.\u001b[39mmean(), inplace\u001b[38;5;241m=\u001b[39m\u001b[38;5;28;01mTrue\u001b[39;00m)\n\u001b[0;32m      2\u001b[0m df_22[\u001b[38;5;124m'\u001b[39m\u001b[38;5;124mPM25_24\u001b[39m\u001b[38;5;124m'\u001b[39m]\u001b[38;5;241m.\u001b[39mfillna(df_22[\u001b[38;5;124m'\u001b[39m\u001b[38;5;124mPM25_24\u001b[39m\u001b[38;5;124m'\u001b[39m]\u001b[38;5;241m.\u001b[39mmean(), inplace\u001b[38;5;241m=\u001b[39m\u001b[38;5;28;01mTrue\u001b[39;00m)\n\u001b[0;32m      3\u001b[0m df_22[\u001b[38;5;124m'\u001b[39m\u001b[38;5;124mPM10_1\u001b[39m\u001b[38;5;124m'\u001b[39m]\u001b[38;5;241m.\u001b[39mfillna(df_22[\u001b[38;5;124m'\u001b[39m\u001b[38;5;124mPM10_1\u001b[39m\u001b[38;5;124m'\u001b[39m]\u001b[38;5;241m.\u001b[39mmean(), inplace\u001b[38;5;241m=\u001b[39m\u001b[38;5;28;01mTrue\u001b[39;00m)\n",
      "File \u001b[1;32m~\\anaconda3\\Lib\\site-packages\\pandas\\core\\frame.py:3761\u001b[0m, in \u001b[0;36mDataFrame.__getitem__\u001b[1;34m(self, key)\u001b[0m\n\u001b[0;32m   3759\u001b[0m \u001b[38;5;28;01mif\u001b[39;00m \u001b[38;5;28mself\u001b[39m\u001b[38;5;241m.\u001b[39mcolumns\u001b[38;5;241m.\u001b[39mnlevels \u001b[38;5;241m>\u001b[39m \u001b[38;5;241m1\u001b[39m:\n\u001b[0;32m   3760\u001b[0m     \u001b[38;5;28;01mreturn\u001b[39;00m \u001b[38;5;28mself\u001b[39m\u001b[38;5;241m.\u001b[39m_getitem_multilevel(key)\n\u001b[1;32m-> 3761\u001b[0m indexer \u001b[38;5;241m=\u001b[39m \u001b[38;5;28mself\u001b[39m\u001b[38;5;241m.\u001b[39mcolumns\u001b[38;5;241m.\u001b[39mget_loc(key)\n\u001b[0;32m   3762\u001b[0m \u001b[38;5;28;01mif\u001b[39;00m is_integer(indexer):\n\u001b[0;32m   3763\u001b[0m     indexer \u001b[38;5;241m=\u001b[39m [indexer]\n",
      "File \u001b[1;32m~\\anaconda3\\Lib\\site-packages\\pandas\\core\\indexes\\base.py:3655\u001b[0m, in \u001b[0;36mIndex.get_loc\u001b[1;34m(self, key)\u001b[0m\n\u001b[0;32m   3653\u001b[0m     \u001b[38;5;28;01mreturn\u001b[39;00m \u001b[38;5;28mself\u001b[39m\u001b[38;5;241m.\u001b[39m_engine\u001b[38;5;241m.\u001b[39mget_loc(casted_key)\n\u001b[0;32m   3654\u001b[0m \u001b[38;5;28;01mexcept\u001b[39;00m \u001b[38;5;167;01mKeyError\u001b[39;00m \u001b[38;5;28;01mas\u001b[39;00m err:\n\u001b[1;32m-> 3655\u001b[0m     \u001b[38;5;28;01mraise\u001b[39;00m \u001b[38;5;167;01mKeyError\u001b[39;00m(key) \u001b[38;5;28;01mfrom\u001b[39;00m \u001b[38;5;21;01merr\u001b[39;00m\n\u001b[0;32m   3656\u001b[0m \u001b[38;5;28;01mexcept\u001b[39;00m \u001b[38;5;167;01mTypeError\u001b[39;00m:\n\u001b[0;32m   3657\u001b[0m     \u001b[38;5;66;03m# If we have a listlike key, _check_indexing_error will raise\u001b[39;00m\n\u001b[0;32m   3658\u001b[0m     \u001b[38;5;66;03m#  InvalidIndexError. Otherwise we fall through and re-raise\u001b[39;00m\n\u001b[0;32m   3659\u001b[0m     \u001b[38;5;66;03m#  the TypeError.\u001b[39;00m\n\u001b[0;32m   3660\u001b[0m     \u001b[38;5;28mself\u001b[39m\u001b[38;5;241m.\u001b[39m_check_indexing_error(key)\n",
      "\u001b[1;31mKeyError\u001b[0m: 'PM10_24'"
     ]
    }
   ],
   "source": [
    "df_22['PM10_24'].fillna(df_22['PM10_24'].mean(), inplace=True)\n",
    "df_22['PM25_24'].fillna(df_22['PM25_24'].mean(), inplace=True)\n",
    "df_22['PM10_1'].fillna(df_22['PM10_1'].mean(), inplace=True)"
   ]
  },
  {
   "cell_type": "code",
   "execution_count": 363,
   "id": "09a93f1a-8b5c-469e-89a9-041be03f63bc",
   "metadata": {
    "tags": []
   },
   "outputs": [
    {
     "ename": "KeyError",
     "evalue": "'PM10_24'",
     "output_type": "error",
     "traceback": [
      "\u001b[1;31m---------------------------------------------------------------------------\u001b[0m",
      "\u001b[1;31mKeyError\u001b[0m                                  Traceback (most recent call last)",
      "File \u001b[1;32m~\\anaconda3\\Lib\\site-packages\\pandas\\core\\indexes\\base.py:3653\u001b[0m, in \u001b[0;36mIndex.get_loc\u001b[1;34m(self, key)\u001b[0m\n\u001b[0;32m   3652\u001b[0m \u001b[38;5;28;01mtry\u001b[39;00m:\n\u001b[1;32m-> 3653\u001b[0m     \u001b[38;5;28;01mreturn\u001b[39;00m \u001b[38;5;28mself\u001b[39m\u001b[38;5;241m.\u001b[39m_engine\u001b[38;5;241m.\u001b[39mget_loc(casted_key)\n\u001b[0;32m   3654\u001b[0m \u001b[38;5;28;01mexcept\u001b[39;00m \u001b[38;5;167;01mKeyError\u001b[39;00m \u001b[38;5;28;01mas\u001b[39;00m err:\n",
      "File \u001b[1;32m~\\anaconda3\\Lib\\site-packages\\pandas\\_libs\\index.pyx:147\u001b[0m, in \u001b[0;36mpandas._libs.index.IndexEngine.get_loc\u001b[1;34m()\u001b[0m\n",
      "File \u001b[1;32m~\\anaconda3\\Lib\\site-packages\\pandas\\_libs\\index.pyx:176\u001b[0m, in \u001b[0;36mpandas._libs.index.IndexEngine.get_loc\u001b[1;34m()\u001b[0m\n",
      "File \u001b[1;32mpandas\\_libs\\hashtable_class_helper.pxi:7080\u001b[0m, in \u001b[0;36mpandas._libs.hashtable.PyObjectHashTable.get_item\u001b[1;34m()\u001b[0m\n",
      "File \u001b[1;32mpandas\\_libs\\hashtable_class_helper.pxi:7088\u001b[0m, in \u001b[0;36mpandas._libs.hashtable.PyObjectHashTable.get_item\u001b[1;34m()\u001b[0m\n",
      "\u001b[1;31mKeyError\u001b[0m: 'PM10_24'",
      "\nThe above exception was the direct cause of the following exception:\n",
      "\u001b[1;31mKeyError\u001b[0m                                  Traceback (most recent call last)",
      "Cell \u001b[1;32mIn[363], line 2\u001b[0m\n\u001b[0;32m      1\u001b[0m \u001b[38;5;66;03m# 결측치가 있다면 처리하고 확인해보기!\u001b[39;00m\n\u001b[1;32m----> 2\u001b[0m df_23[\u001b[38;5;124m'\u001b[39m\u001b[38;5;124mPM10_24\u001b[39m\u001b[38;5;124m'\u001b[39m]\u001b[38;5;241m.\u001b[39mfillna(df_22[\u001b[38;5;124m'\u001b[39m\u001b[38;5;124mPM10_24\u001b[39m\u001b[38;5;124m'\u001b[39m]\u001b[38;5;241m.\u001b[39mmean(), inplace\u001b[38;5;241m=\u001b[39m\u001b[38;5;28;01mTrue\u001b[39;00m)\n\u001b[0;32m      3\u001b[0m df_23[\u001b[38;5;124m'\u001b[39m\u001b[38;5;124mPM25_24\u001b[39m\u001b[38;5;124m'\u001b[39m]\u001b[38;5;241m.\u001b[39mfillna(df_22[\u001b[38;5;124m'\u001b[39m\u001b[38;5;124mPM25_24\u001b[39m\u001b[38;5;124m'\u001b[39m]\u001b[38;5;241m.\u001b[39mmean(), inplace\u001b[38;5;241m=\u001b[39m\u001b[38;5;28;01mTrue\u001b[39;00m)\n\u001b[0;32m      4\u001b[0m df_23[\u001b[38;5;124m'\u001b[39m\u001b[38;5;124mPM10_1\u001b[39m\u001b[38;5;124m'\u001b[39m]\u001b[38;5;241m.\u001b[39mfillna(df_22[\u001b[38;5;124m'\u001b[39m\u001b[38;5;124mPM10_1\u001b[39m\u001b[38;5;124m'\u001b[39m]\u001b[38;5;241m.\u001b[39mmean(), inplace\u001b[38;5;241m=\u001b[39m\u001b[38;5;28;01mTrue\u001b[39;00m)\n",
      "File \u001b[1;32m~\\anaconda3\\Lib\\site-packages\\pandas\\core\\frame.py:3761\u001b[0m, in \u001b[0;36mDataFrame.__getitem__\u001b[1;34m(self, key)\u001b[0m\n\u001b[0;32m   3759\u001b[0m \u001b[38;5;28;01mif\u001b[39;00m \u001b[38;5;28mself\u001b[39m\u001b[38;5;241m.\u001b[39mcolumns\u001b[38;5;241m.\u001b[39mnlevels \u001b[38;5;241m>\u001b[39m \u001b[38;5;241m1\u001b[39m:\n\u001b[0;32m   3760\u001b[0m     \u001b[38;5;28;01mreturn\u001b[39;00m \u001b[38;5;28mself\u001b[39m\u001b[38;5;241m.\u001b[39m_getitem_multilevel(key)\n\u001b[1;32m-> 3761\u001b[0m indexer \u001b[38;5;241m=\u001b[39m \u001b[38;5;28mself\u001b[39m\u001b[38;5;241m.\u001b[39mcolumns\u001b[38;5;241m.\u001b[39mget_loc(key)\n\u001b[0;32m   3762\u001b[0m \u001b[38;5;28;01mif\u001b[39;00m is_integer(indexer):\n\u001b[0;32m   3763\u001b[0m     indexer \u001b[38;5;241m=\u001b[39m [indexer]\n",
      "File \u001b[1;32m~\\anaconda3\\Lib\\site-packages\\pandas\\core\\indexes\\base.py:3655\u001b[0m, in \u001b[0;36mIndex.get_loc\u001b[1;34m(self, key)\u001b[0m\n\u001b[0;32m   3653\u001b[0m     \u001b[38;5;28;01mreturn\u001b[39;00m \u001b[38;5;28mself\u001b[39m\u001b[38;5;241m.\u001b[39m_engine\u001b[38;5;241m.\u001b[39mget_loc(casted_key)\n\u001b[0;32m   3654\u001b[0m \u001b[38;5;28;01mexcept\u001b[39;00m \u001b[38;5;167;01mKeyError\u001b[39;00m \u001b[38;5;28;01mas\u001b[39;00m err:\n\u001b[1;32m-> 3655\u001b[0m     \u001b[38;5;28;01mraise\u001b[39;00m \u001b[38;5;167;01mKeyError\u001b[39;00m(key) \u001b[38;5;28;01mfrom\u001b[39;00m \u001b[38;5;21;01merr\u001b[39;00m\n\u001b[0;32m   3656\u001b[0m \u001b[38;5;28;01mexcept\u001b[39;00m \u001b[38;5;167;01mTypeError\u001b[39;00m:\n\u001b[0;32m   3657\u001b[0m     \u001b[38;5;66;03m# If we have a listlike key, _check_indexing_error will raise\u001b[39;00m\n\u001b[0;32m   3658\u001b[0m     \u001b[38;5;66;03m#  InvalidIndexError. Otherwise we fall through and re-raise\u001b[39;00m\n\u001b[0;32m   3659\u001b[0m     \u001b[38;5;66;03m#  the TypeError.\u001b[39;00m\n\u001b[0;32m   3660\u001b[0m     \u001b[38;5;28mself\u001b[39m\u001b[38;5;241m.\u001b[39m_check_indexing_error(key)\n",
      "\u001b[1;31mKeyError\u001b[0m: 'PM10_24'"
     ]
    }
   ],
   "source": [
    "# 결측치가 있다면 처리하고 확인해보기!\n",
    "df_23['PM10_24'].fillna(df_22['PM10_24'].mean(), inplace=True)\n",
    "df_23['PM25_24'].fillna(df_22['PM25_24'].mean(), inplace=True)\n",
    "df_23['PM10_1'].fillna(df_22['PM10_1'].mean(), inplace=True)"
   ]
  },
  {
   "cell_type": "code",
   "execution_count": 364,
   "id": "a397a034-56d2-44f3-8ef8-397e02ebd2de",
   "metadata": {
    "tags": []
   },
   "outputs": [
    {
     "data": {
      "text/plain": [
       "강수량(mm)      0\n",
       "NO2          0\n",
       "기온(°C)       0\n",
       "해면기압(hPa)    0\n",
       "증기압(hPa)     0\n",
       "dtype: int64"
      ]
     },
     "execution_count": 364,
     "metadata": {},
     "output_type": "execute_result"
    }
   ],
   "source": [
    "df_22.isna().sum()"
   ]
  },
  {
   "cell_type": "code",
   "execution_count": 240,
   "id": "ac5fc79f-46aa-4c77-be39-23d9d4206731",
   "metadata": {
    "tags": []
   },
   "outputs": [
    {
     "data": {
      "text/plain": [
       "측정소코드            0\n",
       "측정일시             0\n",
       "SO2              0\n",
       "CO               0\n",
       "O3               0\n",
       "NO2              0\n",
       "PM10             0\n",
       "PM25             0\n",
       "지점               0\n",
       "기온(°C)           0\n",
       "강수량(mm)          0\n",
       "풍속(m/s)          0\n",
       "습도(%)            0\n",
       "이슬점온도(°C)        0\n",
       "중하층운량(10분위)      0\n",
       "최저운고(100m )      0\n",
       "시정(10m)          0\n",
       "지면온도(°C)         0\n",
       "5cm 지중온도(°C)     0\n",
       "10cm 지중온도(°C)    0\n",
       "20cm 지중온도(°C)    0\n",
       "30cm 지중온도(°C)    0\n",
       "PM10_24          0\n",
       "PM25_24          0\n",
       "PM10_1           0\n",
       "dtype: int64"
      ]
     },
     "execution_count": 240,
     "metadata": {},
     "output_type": "execute_result"
    }
   ],
   "source": [
    "df_23.isna().sum()"
   ]
  },
  {
   "cell_type": "markdown",
   "id": "54279875-b095-4100-97b2-7fddd9488107",
   "metadata": {
    "tags": []
   },
   "source": [
    "### (2) train, test 데이터 분리 및 저장"
   ]
  },
  {
   "cell_type": "markdown",
   "id": "dependent-motion",
   "metadata": {},
   "source": [
    "* 22년도 데이터(df_22)를 train 데이터로 저장하세요. y 값을 제외하고 train_x로 저장한 후 y 값은 train_y로 저장하세요.\n",
    "* 23년도 데이터(df_23)를 test 데이터로 저장하세요. y 값을 제외하고 test_x로 저장한 후 y 값은 test_y로 저장하세요.\n",
    "* 각각의 데이터프레임을 csv 파일로 저장하세요. (train_x.csv / train_y.csv / test_x.csv / test_y.csv) (단, 인덱스 제외)\n",
    "* y값은 'PM10_1' 즉, t+1 시점의 미세먼지 농도입니다."
   ]
  },
  {
   "cell_type": "code",
   "execution_count": 236,
   "id": "92652b6b",
   "metadata": {},
   "outputs": [],
   "source": [
    "# 아래에 필요한 코드를 작성하고 결과를 확인합니다.\n",
    "\n",
    "target = 'PM10_1'\n",
    "train_x = df_22.reset_index(drop=True).drop(target, axis=1)"
   ]
  },
  {
   "cell_type": "code",
   "execution_count": 237,
   "id": "b70e01c8-c2ed-40ad-8d6b-a631b04e90d0",
   "metadata": {
    "tags": []
   },
   "outputs": [],
   "source": [
    "train_y = df_22[target]\n",
    "test_x = df_23.reset_index(drop=True).drop(target, axis=1)\n",
    "test_y = df_23[target]"
   ]
  },
  {
   "cell_type": "code",
   "execution_count": null,
   "id": "20e46706-6152-4be2-9638-18fafa5920e8",
   "metadata": {},
   "outputs": [],
   "source": []
  },
  {
   "cell_type": "code",
   "execution_count": 238,
   "id": "02ad0ed1",
   "metadata": {},
   "outputs": [],
   "source": [
    "# 각각의 데이터프레임을 csv 파일로 저장 (train_x.csv / train_y.csv / test_x.csv / test_y.csv)\n",
    "train_x.to_csv('./train_x.csv')\n",
    "train_y.to_csv('./train_y.csv')\n",
    "test_x.to_csv('./test_x.csv')\n",
    "test_y.to_csv('./test_y.csv')"
   ]
  },
  {
   "cell_type": "code",
   "execution_count": 239,
   "id": "1a552a71-46a4-42e4-8775-4e3eb03b19f5",
   "metadata": {
    "tags": []
   },
   "outputs": [
    {
     "data": {
      "text/html": [
       "<div>\n",
       "<style scoped>\n",
       "    .dataframe tbody tr th:only-of-type {\n",
       "        vertical-align: middle;\n",
       "    }\n",
       "\n",
       "    .dataframe tbody tr th {\n",
       "        vertical-align: top;\n",
       "    }\n",
       "\n",
       "    .dataframe thead th {\n",
       "        text-align: right;\n",
       "    }\n",
       "</style>\n",
       "<table border=\"1\" class=\"dataframe\">\n",
       "  <thead>\n",
       "    <tr style=\"text-align: right;\">\n",
       "      <th></th>\n",
       "      <th>측정소코드</th>\n",
       "      <th>측정일시</th>\n",
       "      <th>SO2</th>\n",
       "      <th>CO</th>\n",
       "      <th>O3</th>\n",
       "      <th>NO2</th>\n",
       "      <th>PM10</th>\n",
       "      <th>PM25</th>\n",
       "      <th>지점</th>\n",
       "      <th>기온(°C)</th>\n",
       "      <th>...</th>\n",
       "      <th>중하층운량(10분위)</th>\n",
       "      <th>최저운고(100m )</th>\n",
       "      <th>시정(10m)</th>\n",
       "      <th>지면온도(°C)</th>\n",
       "      <th>5cm 지중온도(°C)</th>\n",
       "      <th>10cm 지중온도(°C)</th>\n",
       "      <th>20cm 지중온도(°C)</th>\n",
       "      <th>30cm 지중온도(°C)</th>\n",
       "      <th>PM10_24</th>\n",
       "      <th>PM25_24</th>\n",
       "    </tr>\n",
       "  </thead>\n",
       "  <tbody>\n",
       "    <tr>\n",
       "      <th>0</th>\n",
       "      <td>111123</td>\n",
       "      <td>2022010206</td>\n",
       "      <td>0.003</td>\n",
       "      <td>0.5</td>\n",
       "      <td>0.004</td>\n",
       "      <td>0.041</td>\n",
       "      <td>33.0</td>\n",
       "      <td>26.0</td>\n",
       "      <td>108</td>\n",
       "      <td>-1.9</td>\n",
       "      <td>...</td>\n",
       "      <td>9</td>\n",
       "      <td>7.0</td>\n",
       "      <td>647</td>\n",
       "      <td>-1.8</td>\n",
       "      <td>-0.3</td>\n",
       "      <td>-0.7</td>\n",
       "      <td>-0.3</td>\n",
       "      <td>0.8</td>\n",
       "      <td>31.690903</td>\n",
       "      <td>19.209511</td>\n",
       "    </tr>\n",
       "    <tr>\n",
       "      <th>1</th>\n",
       "      <td>111123</td>\n",
       "      <td>2022010207</td>\n",
       "      <td>0.003</td>\n",
       "      <td>0.6</td>\n",
       "      <td>0.002</td>\n",
       "      <td>0.042</td>\n",
       "      <td>33.0</td>\n",
       "      <td>22.0</td>\n",
       "      <td>108</td>\n",
       "      <td>-2.2</td>\n",
       "      <td>...</td>\n",
       "      <td>9</td>\n",
       "      <td>10.0</td>\n",
       "      <td>692</td>\n",
       "      <td>-1.6</td>\n",
       "      <td>-0.3</td>\n",
       "      <td>-0.6</td>\n",
       "      <td>-0.3</td>\n",
       "      <td>0.8</td>\n",
       "      <td>31.690903</td>\n",
       "      <td>19.209511</td>\n",
       "    </tr>\n",
       "    <tr>\n",
       "      <th>2</th>\n",
       "      <td>111123</td>\n",
       "      <td>2022010208</td>\n",
       "      <td>0.003</td>\n",
       "      <td>0.6</td>\n",
       "      <td>0.003</td>\n",
       "      <td>0.042</td>\n",
       "      <td>35.0</td>\n",
       "      <td>22.0</td>\n",
       "      <td>108</td>\n",
       "      <td>-2.2</td>\n",
       "      <td>...</td>\n",
       "      <td>8</td>\n",
       "      <td>12.0</td>\n",
       "      <td>1839</td>\n",
       "      <td>-1.9</td>\n",
       "      <td>-0.2</td>\n",
       "      <td>-0.6</td>\n",
       "      <td>-0.3</td>\n",
       "      <td>0.8</td>\n",
       "      <td>31.690903</td>\n",
       "      <td>19.209511</td>\n",
       "    </tr>\n",
       "    <tr>\n",
       "      <th>3</th>\n",
       "      <td>111123</td>\n",
       "      <td>2022010209</td>\n",
       "      <td>0.003</td>\n",
       "      <td>0.6</td>\n",
       "      <td>0.006</td>\n",
       "      <td>0.039</td>\n",
       "      <td>34.0</td>\n",
       "      <td>24.0</td>\n",
       "      <td>108</td>\n",
       "      <td>-1.9</td>\n",
       "      <td>...</td>\n",
       "      <td>8</td>\n",
       "      <td>9.0</td>\n",
       "      <td>1854</td>\n",
       "      <td>-1.5</td>\n",
       "      <td>-0.2</td>\n",
       "      <td>-0.6</td>\n",
       "      <td>-0.3</td>\n",
       "      <td>0.8</td>\n",
       "      <td>31.690903</td>\n",
       "      <td>19.209511</td>\n",
       "    </tr>\n",
       "    <tr>\n",
       "      <th>4</th>\n",
       "      <td>111123</td>\n",
       "      <td>2022010210</td>\n",
       "      <td>0.003</td>\n",
       "      <td>0.6</td>\n",
       "      <td>0.012</td>\n",
       "      <td>0.031</td>\n",
       "      <td>42.0</td>\n",
       "      <td>30.0</td>\n",
       "      <td>108</td>\n",
       "      <td>-0.8</td>\n",
       "      <td>...</td>\n",
       "      <td>7</td>\n",
       "      <td>9.0</td>\n",
       "      <td>1924</td>\n",
       "      <td>-0.8</td>\n",
       "      <td>-0.2</td>\n",
       "      <td>-0.6</td>\n",
       "      <td>-0.3</td>\n",
       "      <td>0.8</td>\n",
       "      <td>31.690903</td>\n",
       "      <td>19.209511</td>\n",
       "    </tr>\n",
       "  </tbody>\n",
       "</table>\n",
       "<p>5 rows × 24 columns</p>\n",
       "</div>"
      ],
      "text/plain": [
       "    측정소코드        측정일시    SO2   CO     O3    NO2  PM10  PM25   지점  기온(°C)  ...  \\\n",
       "0  111123  2022010206  0.003  0.5  0.004  0.041  33.0  26.0  108    -1.9  ...   \n",
       "1  111123  2022010207  0.003  0.6  0.002  0.042  33.0  22.0  108    -2.2  ...   \n",
       "2  111123  2022010208  0.003  0.6  0.003  0.042  35.0  22.0  108    -2.2  ...   \n",
       "3  111123  2022010209  0.003  0.6  0.006  0.039  34.0  24.0  108    -1.9  ...   \n",
       "4  111123  2022010210  0.003  0.6  0.012  0.031  42.0  30.0  108    -0.8  ...   \n",
       "\n",
       "   중하층운량(10분위)  최저운고(100m )  시정(10m)  지면온도(°C)  5cm 지중온도(°C)  10cm 지중온도(°C)  \\\n",
       "0            9          7.0      647      -1.8          -0.3           -0.7   \n",
       "1            9         10.0      692      -1.6          -0.3           -0.6   \n",
       "2            8         12.0     1839      -1.9          -0.2           -0.6   \n",
       "3            8          9.0     1854      -1.5          -0.2           -0.6   \n",
       "4            7          9.0     1924      -0.8          -0.2           -0.6   \n",
       "\n",
       "   20cm 지중온도(°C)  30cm 지중온도(°C)    PM10_24    PM25_24  \n",
       "0           -0.3            0.8  31.690903  19.209511  \n",
       "1           -0.3            0.8  31.690903  19.209511  \n",
       "2           -0.3            0.8  31.690903  19.209511  \n",
       "3           -0.3            0.8  31.690903  19.209511  \n",
       "4           -0.3            0.8  31.690903  19.209511  \n",
       "\n",
       "[5 rows x 24 columns]"
      ]
     },
     "execution_count": 239,
     "metadata": {},
     "output_type": "execute_result"
    }
   ],
   "source": [
    "train_x.head()"
   ]
  },
  {
   "cell_type": "markdown",
   "id": "65165f4c",
   "metadata": {
    "tags": []
   },
   "source": [
    "# 고생하셨습니다👍👍 "
   ]
  },
  {
   "cell_type": "code",
   "execution_count": null,
   "id": "1b8c201b-ac04-4f36-a463-087a224f632e",
   "metadata": {},
   "outputs": [],
   "source": []
  },
  {
   "cell_type": "code",
   "execution_count": null,
   "id": "4468c400-0847-428e-9462-534bde86168e",
   "metadata": {},
   "outputs": [],
   "source": []
  },
  {
   "cell_type": "markdown",
   "id": "6b35bb91-c71a-4ce1-84f1-c64905fd9747",
   "metadata": {},
   "source": [
    "# 이변량 분석"
   ]
  },
  {
   "cell_type": "code",
   "execution_count": 246,
   "id": "50939c78-a553-4fed-a309-24d50f94c7c0",
   "metadata": {
    "tags": []
   },
   "outputs": [
    {
     "data": {
      "image/png": "[encoded data removed]",
      "text/plain": [
       "<Figure size 640x480 with 1 Axes>"
      ]
     },
     "metadata": {},
     "output_type": "display_data"
    }
   ],
   "source": [
    "plt.scatter(df_22['기온(°C)'], df_22['PM10_1'])\n",
    "plt.show()"
   ]
  },
  {
   "cell_type": "code",
   "execution_count": 247,
   "id": "bc4e7fe9-6c65-465d-bb1a-1a6298cee8c9",
   "metadata": {
    "tags": []
   },
   "outputs": [
    {
     "data": {
      "image/png": "[encoded data removed]",
      "text/plain": [
       "<Figure size 640x480 with 1 Axes>"
      ]
     },
     "metadata": {},
     "output_type": "display_data"
    }
   ],
   "source": [
    "plt.scatter(df_22['시정(10m)'], df_22['PM10_1'])\n",
    "plt.show()"
   ]
  },
  {
   "cell_type": "markdown",
   "id": "9a010076-c1a6-479e-8f4f-78eeccadce30",
   "metadata": {},
   "source": [
    "## 상관관계 분석"
   ]
  },
  {
   "cell_type": "code",
   "execution_count": 248,
   "id": "3841ff08-1b5a-477d-b296-25ecc830b2b4",
   "metadata": {
    "tags": []
   },
   "outputs": [],
   "source": [
    "import scipy.stats as spst"
   ]
  },
  {
   "cell_type": "code",
   "execution_count": 252,
   "id": "873a03f5-0d64-4739-9419-5d02b462c113",
   "metadata": {
    "tags": []
   },
   "outputs": [],
   "source": [
    "df_col = df_22.columns\n",
    "df_col = df_col[1:]"
   ]
  },
  {
   "cell_type": "code",
   "execution_count": 272,
   "id": "b05b8fb5-076c-4bc0-8f2e-47191c53d9eb",
   "metadata": {
    "tags": []
   },
   "outputs": [],
   "source": [
    "p_value = {}\n",
    "for col in df_col:\n",
    "    p_value[col] = spst.pearsonr(df_22[col], df_22['PM10_1'])[1]"
   ]
  },
  {
   "cell_type": "code",
   "execution_count": 278,
   "id": "d5b3493a-a2f8-4101-a6bd-4745e2a2b53a",
   "metadata": {
    "tags": []
   },
   "outputs": [
    {
     "name": "stdout",
     "output_type": "stream",
     "text": [
      "('CO', 0.0)\n",
      "('PM10', 0.0)\n",
      "('PM25', 0.0)\n",
      "('PM10_24', 0.0)\n",
      "('PM25_24', 0.0)\n",
      "('PM10_1', 0.0)\n",
      "('30cm 지중온도(°C)', 6.065942081582472e-246)\n",
      "('NO2', 1.0708484792005707e-234)\n",
      "('20cm 지중온도(°C)', 2.0414333545320753e-224)\n",
      "('10cm 지중온도(°C)', 1.2519483410758382e-200)\n",
      "('5cm 지중온도(°C)', 2.0124134222348543e-181)\n",
      "('SO2', 1.3454750135585095e-178)\n",
      "('시정(10m)', 3.162940548705732e-173)\n",
      "('이슬점온도(°C)', 3.0471646502613876e-125)\n",
      "('기온(°C)', 9.252795151584246e-93)\n",
      "('지면온도(°C)', 3.2993503355620885e-69)\n",
      "('측정일시', 9.584600936898996e-62)\n",
      "('습도(%)', 6.533844179151286e-60)\n",
      "('중하층운량(10분위)', 1.1091763007984189e-51)\n",
      "('강수량(mm)', 1.1058394476518469e-17)\n",
      "('O3', 4.557958026062801e-05)\n",
      "('지점', nan)\n",
      "('풍속(m/s)', 0.00018661537617700277)\n",
      "('최저운고(100m )', 0.04960342248224921)\n"
     ]
    }
   ],
   "source": [
    "sorted_p_value = dict(sorted(p_value.items(), key=lambda item: item[1]))\n",
    "\n",
    "# 결과 출력\n",
    "for i in sorted_p_value.items():\n",
    "    print(i)"
   ]
  },
  {
   "cell_type": "code",
   "execution_count": 281,
   "id": "ea5358ba-1d4e-4d04-a85b-3a7b576d2646",
   "metadata": {
    "tags": []
   },
   "outputs": [
    {
     "data": {
      "image/png": "[encoded data removed]",
      "text/plain": [
       "<Figure size 640x480 with 1 Axes>"
      ]
     },
     "metadata": {},
     "output_type": "display_data"
    }
   ],
   "source": [
    "plt.scatter(df_22['시정(10m)'], df_22['PM10_1'])\n",
    "plt.show()"
   ]
  },
  {
   "cell_type": "code",
   "execution_count": null,
   "id": "974041a7-93b7-4d55-b73c-be17edfb77b3",
   "metadata": {},
   "outputs": [],
   "source": []
  },
  {
   "cell_type": "code",
   "execution_count": 283,
   "id": "9325574e-4bcd-4cd9-9786-80881592e18b",
   "metadata": {
    "tags": []
   },
   "outputs": [
    {
     "data": {
      "image/png": "[encoded data removed]",
      "text/plain": [
       "<Figure size 640x480 with 1 Axes>"
      ]
     },
     "metadata": {},
     "output_type": "display_data"
    }
   ],
   "source": [
    "plt.scatter(df_22['NO2'], df_22['PM10_1'])\n",
    "plt.show()"
   ]
  },
  {
   "cell_type": "code",
   "execution_count": 284,
   "id": "53b029fc-18f1-4a92-8204-ffc7d1840ae0",
   "metadata": {
    "tags": []
   },
   "outputs": [
    {
     "data": {
      "image/png": "[encoded data removed]",
      "text/plain": [
       "<Figure size 640x480 with 1 Axes>"
      ]
     },
     "metadata": {},
     "output_type": "display_data"
    }
   ],
   "source": [
    "plt.scatter(df_22['CO'], df_22['PM10_1'])\n",
    "plt.show()"
   ]
  },
  {
   "cell_type": "code",
   "execution_count": 286,
   "id": "e1156506-0753-4b5c-b21b-2eda5377f5f6",
   "metadata": {
    "tags": []
   },
   "outputs": [
    {
     "data": {
      "image/png": "[encoded data removed]",
      "text/plain": [
       "<Figure size 640x480 with 1 Axes>"
      ]
     },
     "metadata": {},
     "output_type": "display_data"
    }
   ],
   "source": [
    "plt.scatter(df_22['SO2'], df_22['PM10_1'])\n",
    "plt.show()"
   ]
  },
  {
   "cell_type": "code",
   "execution_count": null,
   "id": "45722022-32ef-4832-8582-223a9ea9210f",
   "metadata": {},
   "outputs": [],
   "source": [
    "plt.scatter(df_22['NO2'], df_22['PM10_1'])\n",
    "plt.show()"
   ]
  },
  {
   "cell_type": "code",
   "execution_count": 287,
   "id": "6d41d481-fe70-4b9b-8d74-44ce7ec2a02c",
   "metadata": {
    "tags": []
   },
   "outputs": [
    {
     "data": {
      "text/plain": [
       "<matplotlib.collections.PathCollection at 0x2abdb824390>"
      ]
     },
     "execution_count": 287,
     "metadata": {},
     "output_type": "execute_result"
    },
    {
     "data": {
      "image/png": "[encoded data removed]",
      "text/plain": [
       "<Figure size 640x480 with 1 Axes>"
      ]
     },
     "metadata": {},
     "output_type": "display_data"
    }
   ],
   "source": [
    "plt.scatter(df_22['강수량(mm)'], df_22['PM10_1'])"
   ]
  },
  {
   "cell_type": "code",
   "execution_count": 288,
   "id": "dd054cf2-4303-49e5-b241-ea9e036d6297",
   "metadata": {
    "tags": []
   },
   "outputs": [
    {
     "data": {
      "image/png": "[encoded data removed]",
      "text/plain": [
       "<Figure size 640x480 with 1 Axes>"
      ]
     },
     "metadata": {},
     "output_type": "display_data"
    }
   ],
   "source": [
    "plt.scatter(df_22['기온(°C)'], df_22['PM10_1'])\n",
    "plt.show()"
   ]
  },
  {
   "cell_type": "code",
   "execution_count": null,
   "id": "597539cd-b025-424d-a229-8c4c970139a0",
   "metadata": {},
   "outputs": [],
   "source": []
  }
 ],
 "metadata": {
  "kernelspec": {
   "display_name": "Python 3 (ipykernel)",
   "language": "python",
   "name": "python3"
  },
  "language_info": {
   "codemirror_mode": {
    "name": "ipython",
    "version": 3
   },
   "file_extension": ".py",
   "mimetype": "text/x-python",
   "name": "python",
   "nbconvert_exporter": "python",
   "pygments_lexer": "ipython3",
   "version": "3.11.5"
  },
  "vscode": {
   "interpreter": {
    "hash": "f08154012ddadd8e950e6e9e035c7a7b32c136e7647e9b7c77e02eb723a8bedb"
   }
  },
  "widgets": {
   "application/vnd.jupyter.widget-state+json": {
    "state": {},
    "version_major": 2,
    "version_minor": 0
   }
  }
 },
 "nbformat": 4,
 "nbformat_minor": 5
}
