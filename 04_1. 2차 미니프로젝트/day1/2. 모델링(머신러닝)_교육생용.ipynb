{
 "cells": [
  {
   "cell_type": "markdown",
   "id": "2072748e",
   "metadata": {},
   "source": [
    "## **AIVLE School 미니프로젝트 5기 AI트랙 2차** ##\n",
    "## **공공데이터를 활용한 <span style=\"color:skyblue\">미세먼지 농도</span> 예측**\n",
    "---"
   ]
  },
  {
   "cell_type": "markdown",
   "id": "71d4fac7",
   "metadata": {},
   "source": [
    "## [step 3] 모델링"
   ]
  },
  {
   "cell_type": "markdown",
   "id": "428de2c9",
   "metadata": {},
   "source": [
    "## **0.프로젝트 소개**\n",
    "\n",
    "### (1) 수행 목표\n",
    "- 미세먼지 농도를 예측하는 머신러닝 모델을 만드세요."
   ]
  },
  {
   "cell_type": "markdown",
   "id": "673a15d8",
   "metadata": {},
   "source": [
    "#### 우리가 풀어야 하는 문제는 무엇인가요? \n",
    "* 서울 지역의 미세먼지 데이터와 날씨 데이터를 활용하여,\n",
    "미세먼지 예측에 관련 있는 데이터 항목으로 데이터를 구성, 전처리 하여 \n",
    "미세먼지 농도를 예측하는 머신러닝 모델 구현\n"
   ]
  },
  {
   "cell_type": "markdown",
   "id": "69494029",
   "metadata": {},
   "source": [
    "### (2) 데이터 소개\n",
    "\n",
    "#### 1) 기본 데이터\n",
    "\n",
    "* 학습 데이터\n",
    "    * air_2022.csv : 2022년 미세먼지 데이터\n",
    "    * weather_2022.csv : 2022년 날씨 데이터\n",
    "* 테스트 데이터\n",
    "    * air_2023.csv : 2023년 미세먼지 데이터\n",
    "    * weather_2023.csv : 2023년 날씨 데이터\n",
    "\n",
    "#### 2) 데이터셋의 변수 소개(weather_2022,2023)\n",
    "\n",
    "* 증기압: 증기가 고체 또는 액체와 동적 평형 상태에 있을 때 증기의 압력 (증기가 되려는 힘)\n",
    "* 이슬점 온도: 불포화 상태의 공기가 냉각될 때, 포화 상태에 도달하여 수증기의 응결이 시작되는 온도\n",
    "* 일조: 일정한 물체나 땅의 겉면에 태양 광선이 비치는 시간 (1시간 중 비율)\n",
    "* 일사(량): 태양으로부터 오는 태양 복사 에너지가 지표에 닿는 양 (면적당 에너지 량)\n",
    "* 전운량: 하늘을 육안으로 관측하여 전부 구름일 때 10, 구름이 덮고 있는 하늘의 비율에 따라 0~10\n",
    "* 중하층운량: 중층과 하층에 있는 구름의 분포량(중하층 구름이 날씨에 영향 주므로 따로 표기)\n",
    "* 운형(운형약어): 구름의 종류. 약어 코드로 기재됨\n",
    "* 최저운고: 가장 낮은 구름의 높이\n",
    "* 현상번호(국내식): 비, 소낙비, 싸락눈, 눈보라 등의 기상현상을 나타낸 코드번호\n",
    "* 지면온도: 지면 0cm 온도\n",
    "* 지중온도: 땅 속 온도변수1"
   ]
  },
  {
   "cell_type": "markdown",
   "id": "bc18a997",
   "metadata": {},
   "source": [
    "## **1.환경설정**"
   ]
  },
  {
   "cell_type": "markdown",
   "id": "aa9b0b72",
   "metadata": {},
   "source": [
    "* 세부 요구사항\n",
    "    - 경로 설정 : 다음의 두가지 방법 중 하나를 선택하여 폴더를 준비하고 데이터를 로딩하시오.\n",
    "        * 1) 로컬 수행(Ananconda)\n",
    "            * 제공된 압축파일을 다운받아 압축을 풀고\n",
    "            * anaconda의 root directory(보통 C:/Users/< ID > 에 project 폴더를 만들고, 복사해 넣습니다.\n",
    "        * 2) 구글코랩\n",
    "            * 구글 드라이브 바로 밑에 project 폴더를 만들고, \n",
    "            * 데이터 파일을 복사해 넣습니다.\n",
    "            \n",
    "    - 기본적으로 필요한 라이브러리를 import 하도록 코드가 작성되어 있습니다. \n",
    "        * 필요하다고 판단되는 라이브러리를 추가하세요."
   ]
  },
  {
   "cell_type": "markdown",
   "id": "a47552a4",
   "metadata": {},
   "source": [
    "### (1) 경로 설정\n",
    "* 로컬환경 또는 구글 코랩 중 하나를 사용하시면 됩니다."
   ]
  },
  {
   "cell_type": "markdown",
   "id": "6aac7e46",
   "metadata": {},
   "source": [
    "#### 1) 로컬 수행(Anaconda)\n",
    "* project 폴더에 필요한 파일들을 넣고, 본 파일을 열었다면, 별도 경로 지정이 필요하지 않습니다."
   ]
  },
  {
   "cell_type": "code",
   "execution_count": 58,
   "id": "dfe4ca4c",
   "metadata": {},
   "outputs": [],
   "source": [
    "path = 'C:/Users/User/project/'"
   ]
  },
  {
   "cell_type": "markdown",
   "id": "73dcba5a",
   "metadata": {},
   "source": [
    "#### 2) 구글 코랩 수행"
   ]
  },
  {
   "cell_type": "markdown",
   "id": "6c4e499c",
   "metadata": {},
   "source": [
    "* 구글 드라이브 연결"
   ]
  },
  {
   "cell_type": "code",
   "execution_count": 59,
   "id": "89670042",
   "metadata": {},
   "outputs": [],
   "source": [
    "# from google.colab import drive\n",
    "# drive.mount('/content/drive')"
   ]
  },
  {
   "cell_type": "code",
   "execution_count": 60,
   "id": "b1fa58df",
   "metadata": {},
   "outputs": [],
   "source": [
    "# path = '/content/drive/MyDrive/project/'"
   ]
  },
  {
   "cell_type": "markdown",
   "id": "effcb513",
   "metadata": {},
   "source": [
    "### (2) 라이브러리 설치 및 불러오기"
   ]
  },
  {
   "cell_type": "markdown",
   "id": "66a50a8f",
   "metadata": {},
   "source": [
    "#### 1) 라이브러리 설치 및 로딩"
   ]
  },
  {
   "cell_type": "code",
   "execution_count": 61,
   "id": "6c7ede7b",
   "metadata": {
    "tags": []
   },
   "outputs": [],
   "source": [
    "# 필요한 라이브러리 설치 및 불러오기\n",
    "import pandas as pd\n",
    "import numpy as np\n",
    "import matplotlib.pyplot as plt\n",
    "import seaborn as sns\n",
    "import datetime\n",
    "\n",
    "from statsmodels.graphics.mosaicplot import mosaic\n",
    "from scipy import stats as spst\n",
    "import statsmodels.api as sm\n",
    "import joblib\n",
    "\n",
    "# 더 필요한 라이브러리를 아래에 추가합니다.\n",
    "\n",
    "import pandas as pd\n",
    "\n",
    "from sklearn.neighbors import KNeighborsRegressor\n",
    "from sklearn.linear_model import LinearRegression, Lasso, Ridge, ElasticNet\n",
    "from sklearn.tree import DecisionTreeRegressor as DTR\n",
    "from sklearn.ensemble import RandomForestRegressor as RFR\n",
    "from sklearn.ensemble import GradientBoostingRegressor as GBR\n",
    "from sklearn.metrics import mean_squared_error as mse\n",
    "from sklearn.metrics import r2_score\n",
    "from sklearn.metrics import f1_score\n",
    "from sklearn.metrics import accuracy_score as acc\n",
    "from sklearn.metrics import recall_score as recall\n",
    "import joblib"
   ]
  },
  {
   "cell_type": "code",
   "execution_count": 62,
   "id": "aa9910c0-d54c-4ea0-b3e1-c8efc8956c60",
   "metadata": {
    "tags": []
   },
   "outputs": [],
   "source": [
    "from sklearn.model_selection import cross_val_score, GridSearchCV"
   ]
  },
  {
   "cell_type": "code",
   "execution_count": 63,
   "id": "85064fd0",
   "metadata": {
    "tags": []
   },
   "outputs": [],
   "source": [
    "# 시각화 한글폰트 설정을 위해 아래 코드를 실행하세요.\n",
    "plt.rc('font', family='Malgun Gothic')\n",
    "sns.set(font=\"Malgun Gothic\",#\"NanumGothicCoding\", \n",
    "        rc={\"axes.unicode_minus\":False}, # 마이너스 부호 깨짐 현상 해결\n",
    "        style='darkgrid')"
   ]
  },
  {
   "cell_type": "markdown",
   "id": "2c10e691",
   "metadata": {},
   "source": [
    "### (3) 데이터 불러오기\n",
    "* 주어진 데이터셋\n",
    "    * 미세먼지 및 날씨 데이터 : train_x.csv / train_y.csv / test_x.csv / test_y.csv"
   ]
  },
  {
   "cell_type": "markdown",
   "id": "23ec5bb8",
   "metadata": {},
   "source": [
    "#### 1) 데이터 로딩"
   ]
  },
  {
   "cell_type": "code",
   "execution_count": null,
   "id": "1b2209fd-adb2-4a89-9d17-eeb1a5785756",
   "metadata": {},
   "outputs": [],
   "source": []
  },
  {
   "cell_type": "code",
   "execution_count": 64,
   "id": "1b9cf763",
   "metadata": {
    "tags": []
   },
   "outputs": [],
   "source": [
    "# train_x.csv / train_y.csv / test_x.csv / test_y.csv 4개의 데이터 로딩\n",
    "train_x = pd.read_csv('./train_x.csv', index_col=0)\n",
    "train_y = pd.read_csv('./train_y.csv', index_col=0)\n",
    "test_x = pd.read_csv('./test_x.csv', index_col=0)\n",
    "test_y = pd.read_csv('./test_y.csv', index_col=0)"
   ]
  },
  {
   "cell_type": "code",
   "execution_count": 90,
   "id": "ffb6cc0d-9ed0-4f8c-b3d6-1e7867c64152",
   "metadata": {
    "tags": []
   },
   "outputs": [],
   "source": [
    "columns = ['강수량(mm)', 'NO2', '기온(°C)', '해면기압(hPa)', '증기압(hPa)']"
   ]
  },
  {
   "cell_type": "code",
   "execution_count": 92,
   "id": "9adcdd60-2e4e-40e2-adae-7cabd6c83376",
   "metadata": {
    "tags": []
   },
   "outputs": [
    {
     "ename": "KeyError",
     "evalue": "\"['해면기압(hPa)', '증기압(hPa)'] not in index\"",
     "output_type": "error",
     "traceback": [
      "\u001b[1;31m---------------------------------------------------------------------------\u001b[0m",
      "\u001b[1;31mKeyError\u001b[0m                                  Traceback (most recent call last)",
      "Cell \u001b[1;32mIn[92], line 1\u001b[0m\n\u001b[1;32m----> 1\u001b[0m train_x \u001b[38;5;241m=\u001b[39m train_x\u001b[38;5;241m.\u001b[39mloc[:, train_x[columns]]\n",
      "File \u001b[1;32m~\\anaconda3\\Lib\\site-packages\\pandas\\core\\frame.py:3767\u001b[0m, in \u001b[0;36mDataFrame.__getitem__\u001b[1;34m(self, key)\u001b[0m\n\u001b[0;32m   3765\u001b[0m     \u001b[38;5;28;01mif\u001b[39;00m is_iterator(key):\n\u001b[0;32m   3766\u001b[0m         key \u001b[38;5;241m=\u001b[39m \u001b[38;5;28mlist\u001b[39m(key)\n\u001b[1;32m-> 3767\u001b[0m     indexer \u001b[38;5;241m=\u001b[39m \u001b[38;5;28mself\u001b[39m\u001b[38;5;241m.\u001b[39mcolumns\u001b[38;5;241m.\u001b[39m_get_indexer_strict(key, \u001b[38;5;124m\"\u001b[39m\u001b[38;5;124mcolumns\u001b[39m\u001b[38;5;124m\"\u001b[39m)[\u001b[38;5;241m1\u001b[39m]\n\u001b[0;32m   3769\u001b[0m \u001b[38;5;66;03m# take() does not accept boolean indexers\u001b[39;00m\n\u001b[0;32m   3770\u001b[0m \u001b[38;5;28;01mif\u001b[39;00m \u001b[38;5;28mgetattr\u001b[39m(indexer, \u001b[38;5;124m\"\u001b[39m\u001b[38;5;124mdtype\u001b[39m\u001b[38;5;124m\"\u001b[39m, \u001b[38;5;28;01mNone\u001b[39;00m) \u001b[38;5;241m==\u001b[39m \u001b[38;5;28mbool\u001b[39m:\n",
      "File \u001b[1;32m~\\anaconda3\\Lib\\site-packages\\pandas\\core\\indexes\\base.py:5877\u001b[0m, in \u001b[0;36mIndex._get_indexer_strict\u001b[1;34m(self, key, axis_name)\u001b[0m\n\u001b[0;32m   5874\u001b[0m \u001b[38;5;28;01melse\u001b[39;00m:\n\u001b[0;32m   5875\u001b[0m     keyarr, indexer, new_indexer \u001b[38;5;241m=\u001b[39m \u001b[38;5;28mself\u001b[39m\u001b[38;5;241m.\u001b[39m_reindex_non_unique(keyarr)\n\u001b[1;32m-> 5877\u001b[0m \u001b[38;5;28mself\u001b[39m\u001b[38;5;241m.\u001b[39m_raise_if_missing(keyarr, indexer, axis_name)\n\u001b[0;32m   5879\u001b[0m keyarr \u001b[38;5;241m=\u001b[39m \u001b[38;5;28mself\u001b[39m\u001b[38;5;241m.\u001b[39mtake(indexer)\n\u001b[0;32m   5880\u001b[0m \u001b[38;5;28;01mif\u001b[39;00m \u001b[38;5;28misinstance\u001b[39m(key, Index):\n\u001b[0;32m   5881\u001b[0m     \u001b[38;5;66;03m# GH 42790 - Preserve name from an Index\u001b[39;00m\n",
      "File \u001b[1;32m~\\anaconda3\\Lib\\site-packages\\pandas\\core\\indexes\\base.py:5941\u001b[0m, in \u001b[0;36mIndex._raise_if_missing\u001b[1;34m(self, key, indexer, axis_name)\u001b[0m\n\u001b[0;32m   5938\u001b[0m     \u001b[38;5;28;01mraise\u001b[39;00m \u001b[38;5;167;01mKeyError\u001b[39;00m(\u001b[38;5;124mf\u001b[39m\u001b[38;5;124m\"\u001b[39m\u001b[38;5;124mNone of [\u001b[39m\u001b[38;5;132;01m{\u001b[39;00mkey\u001b[38;5;132;01m}\u001b[39;00m\u001b[38;5;124m] are in the [\u001b[39m\u001b[38;5;132;01m{\u001b[39;00maxis_name\u001b[38;5;132;01m}\u001b[39;00m\u001b[38;5;124m]\u001b[39m\u001b[38;5;124m\"\u001b[39m)\n\u001b[0;32m   5940\u001b[0m not_found \u001b[38;5;241m=\u001b[39m \u001b[38;5;28mlist\u001b[39m(ensure_index(key)[missing_mask\u001b[38;5;241m.\u001b[39mnonzero()[\u001b[38;5;241m0\u001b[39m]]\u001b[38;5;241m.\u001b[39munique())\n\u001b[1;32m-> 5941\u001b[0m \u001b[38;5;28;01mraise\u001b[39;00m \u001b[38;5;167;01mKeyError\u001b[39;00m(\u001b[38;5;124mf\u001b[39m\u001b[38;5;124m\"\u001b[39m\u001b[38;5;132;01m{\u001b[39;00mnot_found\u001b[38;5;132;01m}\u001b[39;00m\u001b[38;5;124m not in index\u001b[39m\u001b[38;5;124m\"\u001b[39m)\n",
      "\u001b[1;31mKeyError\u001b[0m: \"['해면기압(hPa)', '증기압(hPa)'] not in index\""
     ]
    }
   ],
   "source": [
    "train_x = train_x.loc[:, train_x[columns]]"
   ]
  },
  {
   "cell_type": "code",
   "execution_count": null,
   "id": "b396b1c6-cf98-4816-bef5-a5fe14fec6ee",
   "metadata": {},
   "outputs": [],
   "source": []
  },
  {
   "cell_type": "markdown",
   "id": "bc1e7485",
   "metadata": {},
   "source": [
    "#### 2) 기본 정보 조회\n",
    "* 로딩한 데이터의 기본 정보를 확인 합니다(info 등..)"
   ]
  },
  {
   "cell_type": "code",
   "execution_count": 65,
   "id": "d8cc7d75",
   "metadata": {
    "tags": []
   },
   "outputs": [
    {
     "data": {
      "text/html": [
       "<div>\n",
       "<style scoped>\n",
       "    .dataframe tbody tr th:only-of-type {\n",
       "        vertical-align: middle;\n",
       "    }\n",
       "\n",
       "    .dataframe tbody tr th {\n",
       "        vertical-align: top;\n",
       "    }\n",
       "\n",
       "    .dataframe thead th {\n",
       "        text-align: right;\n",
       "    }\n",
       "</style>\n",
       "<table border=\"1\" class=\"dataframe\">\n",
       "  <thead>\n",
       "    <tr style=\"text-align: right;\">\n",
       "      <th></th>\n",
       "      <th>측정소코드</th>\n",
       "      <th>측정일시</th>\n",
       "      <th>SO2</th>\n",
       "      <th>CO</th>\n",
       "      <th>O3</th>\n",
       "      <th>NO2</th>\n",
       "      <th>PM10</th>\n",
       "      <th>PM25</th>\n",
       "      <th>지점</th>\n",
       "      <th>기온(°C)</th>\n",
       "      <th>...</th>\n",
       "      <th>중하층운량(10분위)</th>\n",
       "      <th>최저운고(100m )</th>\n",
       "      <th>시정(10m)</th>\n",
       "      <th>지면온도(°C)</th>\n",
       "      <th>5cm 지중온도(°C)</th>\n",
       "      <th>10cm 지중온도(°C)</th>\n",
       "      <th>20cm 지중온도(°C)</th>\n",
       "      <th>30cm 지중온도(°C)</th>\n",
       "      <th>PM10_24</th>\n",
       "      <th>PM25_24</th>\n",
       "    </tr>\n",
       "  </thead>\n",
       "  <tbody>\n",
       "    <tr>\n",
       "      <th>0</th>\n",
       "      <td>111123</td>\n",
       "      <td>2022010206</td>\n",
       "      <td>0.003</td>\n",
       "      <td>0.5</td>\n",
       "      <td>0.004</td>\n",
       "      <td>0.041</td>\n",
       "      <td>33.0</td>\n",
       "      <td>26.0</td>\n",
       "      <td>108</td>\n",
       "      <td>-1.9</td>\n",
       "      <td>...</td>\n",
       "      <td>9</td>\n",
       "      <td>7.0</td>\n",
       "      <td>647</td>\n",
       "      <td>-1.8</td>\n",
       "      <td>-0.3</td>\n",
       "      <td>-0.7</td>\n",
       "      <td>-0.3</td>\n",
       "      <td>0.8</td>\n",
       "      <td>31.690903</td>\n",
       "      <td>19.209511</td>\n",
       "    </tr>\n",
       "    <tr>\n",
       "      <th>1</th>\n",
       "      <td>111123</td>\n",
       "      <td>2022010207</td>\n",
       "      <td>0.003</td>\n",
       "      <td>0.6</td>\n",
       "      <td>0.002</td>\n",
       "      <td>0.042</td>\n",
       "      <td>33.0</td>\n",
       "      <td>22.0</td>\n",
       "      <td>108</td>\n",
       "      <td>-2.2</td>\n",
       "      <td>...</td>\n",
       "      <td>9</td>\n",
       "      <td>10.0</td>\n",
       "      <td>692</td>\n",
       "      <td>-1.6</td>\n",
       "      <td>-0.3</td>\n",
       "      <td>-0.6</td>\n",
       "      <td>-0.3</td>\n",
       "      <td>0.8</td>\n",
       "      <td>31.690903</td>\n",
       "      <td>19.209511</td>\n",
       "    </tr>\n",
       "    <tr>\n",
       "      <th>2</th>\n",
       "      <td>111123</td>\n",
       "      <td>2022010208</td>\n",
       "      <td>0.003</td>\n",
       "      <td>0.6</td>\n",
       "      <td>0.003</td>\n",
       "      <td>0.042</td>\n",
       "      <td>35.0</td>\n",
       "      <td>22.0</td>\n",
       "      <td>108</td>\n",
       "      <td>-2.2</td>\n",
       "      <td>...</td>\n",
       "      <td>8</td>\n",
       "      <td>12.0</td>\n",
       "      <td>1839</td>\n",
       "      <td>-1.9</td>\n",
       "      <td>-0.2</td>\n",
       "      <td>-0.6</td>\n",
       "      <td>-0.3</td>\n",
       "      <td>0.8</td>\n",
       "      <td>31.690903</td>\n",
       "      <td>19.209511</td>\n",
       "    </tr>\n",
       "    <tr>\n",
       "      <th>3</th>\n",
       "      <td>111123</td>\n",
       "      <td>2022010209</td>\n",
       "      <td>0.003</td>\n",
       "      <td>0.6</td>\n",
       "      <td>0.006</td>\n",
       "      <td>0.039</td>\n",
       "      <td>34.0</td>\n",
       "      <td>24.0</td>\n",
       "      <td>108</td>\n",
       "      <td>-1.9</td>\n",
       "      <td>...</td>\n",
       "      <td>8</td>\n",
       "      <td>9.0</td>\n",
       "      <td>1854</td>\n",
       "      <td>-1.5</td>\n",
       "      <td>-0.2</td>\n",
       "      <td>-0.6</td>\n",
       "      <td>-0.3</td>\n",
       "      <td>0.8</td>\n",
       "      <td>31.690903</td>\n",
       "      <td>19.209511</td>\n",
       "    </tr>\n",
       "    <tr>\n",
       "      <th>4</th>\n",
       "      <td>111123</td>\n",
       "      <td>2022010210</td>\n",
       "      <td>0.003</td>\n",
       "      <td>0.6</td>\n",
       "      <td>0.012</td>\n",
       "      <td>0.031</td>\n",
       "      <td>42.0</td>\n",
       "      <td>30.0</td>\n",
       "      <td>108</td>\n",
       "      <td>-0.8</td>\n",
       "      <td>...</td>\n",
       "      <td>7</td>\n",
       "      <td>9.0</td>\n",
       "      <td>1924</td>\n",
       "      <td>-0.8</td>\n",
       "      <td>-0.2</td>\n",
       "      <td>-0.6</td>\n",
       "      <td>-0.3</td>\n",
       "      <td>0.8</td>\n",
       "      <td>31.690903</td>\n",
       "      <td>19.209511</td>\n",
       "    </tr>\n",
       "  </tbody>\n",
       "</table>\n",
       "<p>5 rows × 24 columns</p>\n",
       "</div>"
      ],
      "text/plain": [
       "    측정소코드        측정일시    SO2   CO     O3    NO2  PM10  PM25   지점  기온(°C)  ...  \\\n",
       "0  111123  2022010206  0.003  0.5  0.004  0.041  33.0  26.0  108    -1.9  ...   \n",
       "1  111123  2022010207  0.003  0.6  0.002  0.042  33.0  22.0  108    -2.2  ...   \n",
       "2  111123  2022010208  0.003  0.6  0.003  0.042  35.0  22.0  108    -2.2  ...   \n",
       "3  111123  2022010209  0.003  0.6  0.006  0.039  34.0  24.0  108    -1.9  ...   \n",
       "4  111123  2022010210  0.003  0.6  0.012  0.031  42.0  30.0  108    -0.8  ...   \n",
       "\n",
       "   중하층운량(10분위)  최저운고(100m )  시정(10m)  지면온도(°C)  5cm 지중온도(°C)  10cm 지중온도(°C)  \\\n",
       "0            9          7.0      647      -1.8          -0.3           -0.7   \n",
       "1            9         10.0      692      -1.6          -0.3           -0.6   \n",
       "2            8         12.0     1839      -1.9          -0.2           -0.6   \n",
       "3            8          9.0     1854      -1.5          -0.2           -0.6   \n",
       "4            7          9.0     1924      -0.8          -0.2           -0.6   \n",
       "\n",
       "   20cm 지중온도(°C)  30cm 지중온도(°C)    PM10_24    PM25_24  \n",
       "0           -0.3            0.8  31.690903  19.209511  \n",
       "1           -0.3            0.8  31.690903  19.209511  \n",
       "2           -0.3            0.8  31.690903  19.209511  \n",
       "3           -0.3            0.8  31.690903  19.209511  \n",
       "4           -0.3            0.8  31.690903  19.209511  \n",
       "\n",
       "[5 rows x 24 columns]"
      ]
     },
     "execution_count": 65,
     "metadata": {},
     "output_type": "execute_result"
    }
   ],
   "source": [
    "# 아래에 실습코드를 작성하고 결과를 확인합니다.\n",
    "train_x.head()"
   ]
  },
  {
   "cell_type": "markdown",
   "id": "20aaca37-89d7-4045-affa-5a510c69495e",
   "metadata": {
    "tags": []
   },
   "source": [
    "## **2.머신러닝 모델링**"
   ]
  },
  {
   "cell_type": "markdown",
   "id": "66dca0e8-a0d1-4562-8afe-3e8f85733393",
   "metadata": {
    "tags": []
   },
   "source": [
    "### (1) 모델링: LinearRegression"
   ]
  },
  {
   "cell_type": "markdown",
   "id": "joined-client",
   "metadata": {},
   "source": [
    "* Train과 Test로 나눈 데이터를 기준으로 LinearRegression 모델링을 진행하고 평가를 해주세요.\n",
    "* 그리고 모델 파일을 pkl로 저장해주세요.\n",
    "* 성능지표 : MSE, R-squared Score(소수점 5째자리까지)"
   ]
  },
  {
   "cell_type": "code",
   "execution_count": 66,
   "id": "willing-disclaimer",
   "metadata": {
    "tags": []
   },
   "outputs": [
    {
     "data": {
      "text/html": [
       "<style>#sk-container-id-6 {color: black;}#sk-container-id-6 pre{padding: 0;}#sk-container-id-6 div.sk-toggleable {background-color: white;}#sk-container-id-6 label.sk-toggleable__label {cursor: pointer;display: block;width: 100%;margin-bottom: 0;padding: 0.3em;box-sizing: border-box;text-align: center;}#sk-container-id-6 label.sk-toggleable__label-arrow:before {content: \"▸\";float: left;margin-right: 0.25em;color: #696969;}#sk-container-id-6 label.sk-toggleable__label-arrow:hover:before {color: black;}#sk-container-id-6 div.sk-estimator:hover label.sk-toggleable__label-arrow:before {color: black;}#sk-container-id-6 div.sk-toggleable__content {max-height: 0;max-width: 0;overflow: hidden;text-align: left;background-color: #f0f8ff;}#sk-container-id-6 div.sk-toggleable__content pre {margin: 0.2em;color: black;border-radius: 0.25em;background-color: #f0f8ff;}#sk-container-id-6 input.sk-toggleable__control:checked~div.sk-toggleable__content {max-height: 200px;max-width: 100%;overflow: auto;}#sk-container-id-6 input.sk-toggleable__control:checked~label.sk-toggleable__label-arrow:before {content: \"▾\";}#sk-container-id-6 div.sk-estimator input.sk-toggleable__control:checked~label.sk-toggleable__label {background-color: #d4ebff;}#sk-container-id-6 div.sk-label input.sk-toggleable__control:checked~label.sk-toggleable__label {background-color: #d4ebff;}#sk-container-id-6 input.sk-hidden--visually {border: 0;clip: rect(1px 1px 1px 1px);clip: rect(1px, 1px, 1px, 1px);height: 1px;margin: -1px;overflow: hidden;padding: 0;position: absolute;width: 1px;}#sk-container-id-6 div.sk-estimator {font-family: monospace;background-color: #f0f8ff;border: 1px dotted black;border-radius: 0.25em;box-sizing: border-box;margin-bottom: 0.5em;}#sk-container-id-6 div.sk-estimator:hover {background-color: #d4ebff;}#sk-container-id-6 div.sk-parallel-item::after {content: \"\";width: 100%;border-bottom: 1px solid gray;flex-grow: 1;}#sk-container-id-6 div.sk-label:hover label.sk-toggleable__label {background-color: #d4ebff;}#sk-container-id-6 div.sk-serial::before {content: \"\";position: absolute;border-left: 1px solid gray;box-sizing: border-box;top: 0;bottom: 0;left: 50%;z-index: 0;}#sk-container-id-6 div.sk-serial {display: flex;flex-direction: column;align-items: center;background-color: white;padding-right: 0.2em;padding-left: 0.2em;position: relative;}#sk-container-id-6 div.sk-item {position: relative;z-index: 1;}#sk-container-id-6 div.sk-parallel {display: flex;align-items: stretch;justify-content: center;background-color: white;position: relative;}#sk-container-id-6 div.sk-item::before, #sk-container-id-6 div.sk-parallel-item::before {content: \"\";position: absolute;border-left: 1px solid gray;box-sizing: border-box;top: 0;bottom: 0;left: 50%;z-index: -1;}#sk-container-id-6 div.sk-parallel-item {display: flex;flex-direction: column;z-index: 1;position: relative;background-color: white;}#sk-container-id-6 div.sk-parallel-item:first-child::after {align-self: flex-end;width: 50%;}#sk-container-id-6 div.sk-parallel-item:last-child::after {align-self: flex-start;width: 50%;}#sk-container-id-6 div.sk-parallel-item:only-child::after {width: 0;}#sk-container-id-6 div.sk-dashed-wrapped {border: 1px dashed gray;margin: 0 0.4em 0.5em 0.4em;box-sizing: border-box;padding-bottom: 0.4em;background-color: white;}#sk-container-id-6 div.sk-label label {font-family: monospace;font-weight: bold;display: inline-block;line-height: 1.2em;}#sk-container-id-6 div.sk-label-container {text-align: center;}#sk-container-id-6 div.sk-container {/* jupyter's `normalize.less` sets `[hidden] { display: none; }` but bootstrap.min.css set `[hidden] { display: none !important; }` so we also need the `!important` here to be able to override the default hidden behavior on the sphinx rendered scikit-learn.org. See: https://github.com/scikit-learn/scikit-learn/issues/21755 */display: inline-block !important;position: relative;}#sk-container-id-6 div.sk-text-repr-fallback {display: none;}</style><div id=\"sk-container-id-6\" class=\"sk-top-container\"><div class=\"sk-text-repr-fallback\"><pre>LinearRegression()</pre><b>In a Jupyter environment, please rerun this cell to show the HTML representation or trust the notebook. <br />On GitHub, the HTML representation is unable to render, please try loading this page with nbviewer.org.</b></div><div class=\"sk-container\" hidden><div class=\"sk-item\"><div class=\"sk-estimator sk-toggleable\"><input class=\"sk-toggleable__control sk-hidden--visually\" id=\"sk-estimator-id-6\" type=\"checkbox\" checked><label for=\"sk-estimator-id-6\" class=\"sk-toggleable__label sk-toggleable__label-arrow\">LinearRegression</label><div class=\"sk-toggleable__content\"><pre>LinearRegression()</pre></div></div></div></div></div>"
      ],
      "text/plain": [
       "LinearRegression()"
      ]
     },
     "execution_count": 66,
     "metadata": {},
     "output_type": "execute_result"
    }
   ],
   "source": [
    "# LinearRegression 코드를 작성하세요.\n",
    "model_LR = LinearRegression()\n",
    "model_LR.fit(train_x, train_y)"
   ]
  },
  {
   "cell_type": "code",
   "execution_count": 67,
   "id": "34e3d420-703f-4de5-bd81-4b1b167318e2",
   "metadata": {
    "tags": []
   },
   "outputs": [],
   "source": [
    "# predict로 예측하여 y_pred_LR에 저장해보세요.\n",
    "y_pred_LR = model_LR.predict(test_x)"
   ]
  },
  {
   "cell_type": "code",
   "execution_count": 68,
   "id": "0a21d60f",
   "metadata": {
    "tags": []
   },
   "outputs": [
    {
     "name": "stdout",
     "output_type": "stream",
     "text": [
      "MSE:  93.5274161561117\n",
      "R2-Score:  0.9179130715169624\n"
     ]
    }
   ],
   "source": [
    "# test_y 데이터와 y_pred_LR 데이터로 성능을 평가하여 출력해보세요.\n",
    "# 성능지표는 mse와 r2를 이용하세요.\n",
    "print('MSE: ', mse(test_y, y_pred_LR))\n",
    "print('R2-Score: ', r2_score(test_y, y_pred_LR))"
   ]
  },
  {
   "cell_type": "code",
   "execution_count": 69,
   "id": "fe2096b7",
   "metadata": {
    "tags": []
   },
   "outputs": [
    {
     "data": {
      "text/plain": [
       "['model_LR.pkl']"
      ]
     },
     "execution_count": 69,
     "metadata": {},
     "output_type": "execute_result"
    }
   ],
   "source": [
    "# 학습한 모델을 pkl 파일로 저장해보세요.(joblib 활용)\n",
    "joblib.dump(model_LR, 'model_LR.pkl')"
   ]
  },
  {
   "cell_type": "code",
   "execution_count": 70,
   "id": "e62410c3-e855-4ca0-aaa5-de67740a4556",
   "metadata": {
    "tags": []
   },
   "outputs": [
    {
     "name": "stdout",
     "output_type": "stream",
     "text": [
      "[0.94545461 0.91961024 0.93697847 0.94407608 0.85881904 0.8772128\n",
      " 0.86203477 0.90846011 0.92613144 0.94589226]\n",
      "0.9124669819631815\n"
     ]
    }
   ],
   "source": [
    "cv_score = cross_val_score(model_LR, train_x, train_y, cv=10)\n",
    "print(cv_score)\n",
    "print(cv_score.mean())"
   ]
  },
  {
   "cell_type": "code",
   "execution_count": 71,
   "id": "28ff5c2c-6f4e-40c5-bbbf-bc233f2897db",
   "metadata": {
    "tags": []
   },
   "outputs": [],
   "source": [
    "result = {}\n",
    "result['Linear Regression'] = cv_score.mean()"
   ]
  },
  {
   "cell_type": "markdown",
   "id": "44e1265e-939a-41d6-87cd-98211da2b7d1",
   "metadata": {
    "tags": []
   },
   "source": [
    "### (2) 모델링: 랜덤포레스트"
   ]
  },
  {
   "cell_type": "markdown",
   "id": "crazy-escape",
   "metadata": {},
   "source": [
    "* 랜덤포레스트: 배깅의 일종으로 의사결정나무(Decision Tree) 여러 개를 모아서 숲을 랜덤으로 구성하고 이를 종합해서 최종 모델을 산출하는 기법\n",
    "* Train과 Test로 나눈 데이터를 기준으로 렌덤포레스트로 모델을 학습을 진행하고 평가를 해주세요.\n",
    "* 그리고 모델 파일을 pkl로 저장해주세요.\n",
    "* 성능지표 : MSE, R-squared Score(소수점 5째자리까지)"
   ]
  },
  {
   "cell_type": "code",
   "execution_count": 72,
   "id": "10b33a11",
   "metadata": {
    "tags": []
   },
   "outputs": [
    {
     "name": "stderr",
     "output_type": "stream",
     "text": [
      "C:\\Users\\User\\anaconda3\\Lib\\site-packages\\sklearn\\base.py:1151: DataConversionWarning: A column-vector y was passed when a 1d array was expected. Please change the shape of y to (n_samples,), for example using ravel().\n",
      "  return fit_method(estimator, *args, **kwargs)\n"
     ]
    },
    {
     "data": {
      "text/html": [
       "<style>#sk-container-id-7 {color: black;}#sk-container-id-7 pre{padding: 0;}#sk-container-id-7 div.sk-toggleable {background-color: white;}#sk-container-id-7 label.sk-toggleable__label {cursor: pointer;display: block;width: 100%;margin-bottom: 0;padding: 0.3em;box-sizing: border-box;text-align: center;}#sk-container-id-7 label.sk-toggleable__label-arrow:before {content: \"▸\";float: left;margin-right: 0.25em;color: #696969;}#sk-container-id-7 label.sk-toggleable__label-arrow:hover:before {color: black;}#sk-container-id-7 div.sk-estimator:hover label.sk-toggleable__label-arrow:before {color: black;}#sk-container-id-7 div.sk-toggleable__content {max-height: 0;max-width: 0;overflow: hidden;text-align: left;background-color: #f0f8ff;}#sk-container-id-7 div.sk-toggleable__content pre {margin: 0.2em;color: black;border-radius: 0.25em;background-color: #f0f8ff;}#sk-container-id-7 input.sk-toggleable__control:checked~div.sk-toggleable__content {max-height: 200px;max-width: 100%;overflow: auto;}#sk-container-id-7 input.sk-toggleable__control:checked~label.sk-toggleable__label-arrow:before {content: \"▾\";}#sk-container-id-7 div.sk-estimator input.sk-toggleable__control:checked~label.sk-toggleable__label {background-color: #d4ebff;}#sk-container-id-7 div.sk-label input.sk-toggleable__control:checked~label.sk-toggleable__label {background-color: #d4ebff;}#sk-container-id-7 input.sk-hidden--visually {border: 0;clip: rect(1px 1px 1px 1px);clip: rect(1px, 1px, 1px, 1px);height: 1px;margin: -1px;overflow: hidden;padding: 0;position: absolute;width: 1px;}#sk-container-id-7 div.sk-estimator {font-family: monospace;background-color: #f0f8ff;border: 1px dotted black;border-radius: 0.25em;box-sizing: border-box;margin-bottom: 0.5em;}#sk-container-id-7 div.sk-estimator:hover {background-color: #d4ebff;}#sk-container-id-7 div.sk-parallel-item::after {content: \"\";width: 100%;border-bottom: 1px solid gray;flex-grow: 1;}#sk-container-id-7 div.sk-label:hover label.sk-toggleable__label {background-color: #d4ebff;}#sk-container-id-7 div.sk-serial::before {content: \"\";position: absolute;border-left: 1px solid gray;box-sizing: border-box;top: 0;bottom: 0;left: 50%;z-index: 0;}#sk-container-id-7 div.sk-serial {display: flex;flex-direction: column;align-items: center;background-color: white;padding-right: 0.2em;padding-left: 0.2em;position: relative;}#sk-container-id-7 div.sk-item {position: relative;z-index: 1;}#sk-container-id-7 div.sk-parallel {display: flex;align-items: stretch;justify-content: center;background-color: white;position: relative;}#sk-container-id-7 div.sk-item::before, #sk-container-id-7 div.sk-parallel-item::before {content: \"\";position: absolute;border-left: 1px solid gray;box-sizing: border-box;top: 0;bottom: 0;left: 50%;z-index: -1;}#sk-container-id-7 div.sk-parallel-item {display: flex;flex-direction: column;z-index: 1;position: relative;background-color: white;}#sk-container-id-7 div.sk-parallel-item:first-child::after {align-self: flex-end;width: 50%;}#sk-container-id-7 div.sk-parallel-item:last-child::after {align-self: flex-start;width: 50%;}#sk-container-id-7 div.sk-parallel-item:only-child::after {width: 0;}#sk-container-id-7 div.sk-dashed-wrapped {border: 1px dashed gray;margin: 0 0.4em 0.5em 0.4em;box-sizing: border-box;padding-bottom: 0.4em;background-color: white;}#sk-container-id-7 div.sk-label label {font-family: monospace;font-weight: bold;display: inline-block;line-height: 1.2em;}#sk-container-id-7 div.sk-label-container {text-align: center;}#sk-container-id-7 div.sk-container {/* jupyter's `normalize.less` sets `[hidden] { display: none; }` but bootstrap.min.css set `[hidden] { display: none !important; }` so we also need the `!important` here to be able to override the default hidden behavior on the sphinx rendered scikit-learn.org. See: https://github.com/scikit-learn/scikit-learn/issues/21755 */display: inline-block !important;position: relative;}#sk-container-id-7 div.sk-text-repr-fallback {display: none;}</style><div id=\"sk-container-id-7\" class=\"sk-top-container\"><div class=\"sk-text-repr-fallback\"><pre>RandomForestRegressor(max_depth=5, random_state=1)</pre><b>In a Jupyter environment, please rerun this cell to show the HTML representation or trust the notebook. <br />On GitHub, the HTML representation is unable to render, please try loading this page with nbviewer.org.</b></div><div class=\"sk-container\" hidden><div class=\"sk-item\"><div class=\"sk-estimator sk-toggleable\"><input class=\"sk-toggleable__control sk-hidden--visually\" id=\"sk-estimator-id-7\" type=\"checkbox\" checked><label for=\"sk-estimator-id-7\" class=\"sk-toggleable__label sk-toggleable__label-arrow\">RandomForestRegressor</label><div class=\"sk-toggleable__content\"><pre>RandomForestRegressor(max_depth=5, random_state=1)</pre></div></div></div></div></div>"
      ],
      "text/plain": [
       "RandomForestRegressor(max_depth=5, random_state=1)"
      ]
     },
     "execution_count": 72,
     "metadata": {},
     "output_type": "execute_result"
    }
   ],
   "source": [
    "# 랜덤포레스트로 모델 학습 진행 하고 성능을 평가하여 출력해 보세요.\n",
    "# 성능평가는 MSE, R-Squared Score\n",
    "model_RFR = RFR(max_depth=5, random_state=1)\n",
    "model_RFR.fit(train_x, train_y)"
   ]
  },
  {
   "cell_type": "code",
   "execution_count": 73,
   "id": "bdc25aec-8eaa-4312-affc-3f1c88608886",
   "metadata": {
    "tags": []
   },
   "outputs": [],
   "source": [
    "y_pred_RFR = model_RFR.predict(test_x)"
   ]
  },
  {
   "cell_type": "code",
   "execution_count": 74,
   "id": "a6117484-f50c-4ee6-8a8a-1c2e57cfdaba",
   "metadata": {
    "tags": []
   },
   "outputs": [
    {
     "name": "stdout",
     "output_type": "stream",
     "text": [
      "MSE:  49.250782248837396\n",
      "R2-Score:  0.9567736861943685\n"
     ]
    }
   ],
   "source": [
    "print('MSE: ', mse(test_y, y_pred_RFR))\n",
    "print('R2-Score: ', r2_score(test_y, y_pred_RFR))"
   ]
  },
  {
   "cell_type": "code",
   "execution_count": 75,
   "id": "41971ff8",
   "metadata": {},
   "outputs": [
    {
     "data": {
      "text/plain": [
       "['model_RFR.pkl']"
      ]
     },
     "execution_count": 75,
     "metadata": {},
     "output_type": "execute_result"
    }
   ],
   "source": [
    "# 학습한 모델을 파일로 저장해보세요.(joblib 활용)\n",
    "joblib.dump(model_RFR, 'model_RFR.pkl')"
   ]
  },
  {
   "cell_type": "code",
   "execution_count": 76,
   "id": "71cfd515-32dc-4480-a53c-cb6d1e727ba8",
   "metadata": {
    "tags": []
   },
   "outputs": [
    {
     "name": "stderr",
     "output_type": "stream",
     "text": [
      "C:\\Users\\User\\anaconda3\\Lib\\site-packages\\sklearn\\base.py:1151: DataConversionWarning: A column-vector y was passed when a 1d array was expected. Please change the shape of y to (n_samples,), for example using ravel().\n",
      "  return fit_method(estimator, *args, **kwargs)\n",
      "C:\\Users\\User\\anaconda3\\Lib\\site-packages\\sklearn\\base.py:1151: DataConversionWarning: A column-vector y was passed when a 1d array was expected. Please change the shape of y to (n_samples,), for example using ravel().\n",
      "  return fit_method(estimator, *args, **kwargs)\n",
      "C:\\Users\\User\\anaconda3\\Lib\\site-packages\\sklearn\\base.py:1151: DataConversionWarning: A column-vector y was passed when a 1d array was expected. Please change the shape of y to (n_samples,), for example using ravel().\n",
      "  return fit_method(estimator, *args, **kwargs)\n",
      "C:\\Users\\User\\anaconda3\\Lib\\site-packages\\sklearn\\base.py:1151: DataConversionWarning: A column-vector y was passed when a 1d array was expected. Please change the shape of y to (n_samples,), for example using ravel().\n",
      "  return fit_method(estimator, *args, **kwargs)\n",
      "C:\\Users\\User\\anaconda3\\Lib\\site-packages\\sklearn\\base.py:1151: DataConversionWarning: A column-vector y was passed when a 1d array was expected. Please change the shape of y to (n_samples,), for example using ravel().\n",
      "  return fit_method(estimator, *args, **kwargs)\n",
      "C:\\Users\\User\\anaconda3\\Lib\\site-packages\\sklearn\\base.py:1151: DataConversionWarning: A column-vector y was passed when a 1d array was expected. Please change the shape of y to (n_samples,), for example using ravel().\n",
      "  return fit_method(estimator, *args, **kwargs)\n",
      "C:\\Users\\User\\anaconda3\\Lib\\site-packages\\sklearn\\base.py:1151: DataConversionWarning: A column-vector y was passed when a 1d array was expected. Please change the shape of y to (n_samples,), for example using ravel().\n",
      "  return fit_method(estimator, *args, **kwargs)\n",
      "C:\\Users\\User\\anaconda3\\Lib\\site-packages\\sklearn\\base.py:1151: DataConversionWarning: A column-vector y was passed when a 1d array was expected. Please change the shape of y to (n_samples,), for example using ravel().\n",
      "  return fit_method(estimator, *args, **kwargs)\n",
      "C:\\Users\\User\\anaconda3\\Lib\\site-packages\\sklearn\\base.py:1151: DataConversionWarning: A column-vector y was passed when a 1d array was expected. Please change the shape of y to (n_samples,), for example using ravel().\n",
      "  return fit_method(estimator, *args, **kwargs)\n",
      "C:\\Users\\User\\anaconda3\\Lib\\site-packages\\sklearn\\base.py:1151: DataConversionWarning: A column-vector y was passed when a 1d array was expected. Please change the shape of y to (n_samples,), for example using ravel().\n",
      "  return fit_method(estimator, *args, **kwargs)\n"
     ]
    }
   ],
   "source": [
    "cv_score = cross_val_score(model_RFR, train_x, train_y, cv=10)\n",
    "result['Random Forest Regression'] = cv_score.mean()"
   ]
  },
  {
   "cell_type": "markdown",
   "id": "4b942bb3",
   "metadata": {},
   "source": [
    "### (2-1) 랜덤포레스트 feature_importances 확인\n",
    "* 렌덤포레스트로 학습한 모델의 feature_importances를 구해보세요."
   ]
  },
  {
   "cell_type": "code",
   "execution_count": 77,
   "id": "e19f84b0",
   "metadata": {},
   "outputs": [
    {
     "name": "stdout",
     "output_type": "stream",
     "text": [
      "[0.00000000e+00 1.76564973e-03 6.69025707e-06 7.16098682e-04\n",
      " 1.86684923e-03 4.20613569e-04 9.83565304e-01 2.11514186e-03\n",
      " 0.00000000e+00 1.03484101e-03 1.35009844e-04 5.66005226e-04\n",
      " 1.27451864e-03 4.24454889e-04 5.67307229e-04 4.86145087e-04\n",
      " 7.03124523e-04 6.73067977e-04 1.04349440e-04 1.23758647e-04\n",
      " 2.27884954e-04 1.07370625e-04 2.37443184e-03 7.41382415e-04]\n"
     ]
    },
    {
     "data": {
      "image/png": "[encoded data removed]",
      "text/plain": [
       "<Figure size 640x480 with 1 Axes>"
      ]
     },
     "metadata": {},
     "output_type": "display_data"
    }
   ],
   "source": [
    "# 렌덤포레스트로 학습한 모델의 feature_importances를 구해보세요.\n",
    "# 아래에 필요한 코드를 작성하고 결과를 확인합니다.\n",
    "print(model_RFR.feature_importances_)\n",
    "plt.barh(y=list(train_x), width=model_RFR.feature_importances_)\n",
    "plt.show()"
   ]
  },
  {
   "cell_type": "code",
   "execution_count": 78,
   "id": "7c21c320",
   "metadata": {},
   "outputs": [],
   "source": [
    "# 확인 후 알수 있었던 인사이트가 있었으면 정리해보세요!\n"
   ]
  },
  {
   "cell_type": "markdown",
   "id": "95401368-9bff-4118-b07a-92b833e33f20",
   "metadata": {
    "tags": []
   },
   "source": [
    "### (3) 모델링: GradientBoosting"
   ]
  },
  {
   "cell_type": "markdown",
   "id": "convinced-vocabulary",
   "metadata": {},
   "source": [
    "* GradientBoosting: 앞선 모델의 에러를 다음 모델의 예측 값으로 활용하면서 가중치 업데이트 하는데 경사하강법(Gradient Descent)를 활용해서 최적 모델을 만드는 기법\n",
    "* Train과 Test로 나눈 데이터를 기준으로 그라디언트부스팅으로 모델을 학습을 진행하고 평가를 해주세요.\n",
    "* 그리고 모델 파일을 pkl로 저장해주세요.\n",
    "* 성능지표 : MSE, R-squared Score(소수점 5째자리까지)"
   ]
  },
  {
   "cell_type": "code",
   "execution_count": 79,
   "id": "continent-olympus",
   "metadata": {},
   "outputs": [
    {
     "name": "stderr",
     "output_type": "stream",
     "text": [
      "C:\\Users\\User\\anaconda3\\Lib\\site-packages\\sklearn\\ensemble\\_gb.py:424: DataConversionWarning: A column-vector y was passed when a 1d array was expected. Please change the shape of y to (n_samples, ), for example using ravel().\n",
      "  y = column_or_1d(y, warn=True)\n"
     ]
    }
   ],
   "source": [
    "# 아래에 필요한 코드를 작성하고 결과를 확인합니다.\n",
    "model_GBR = GBR()\n",
    "model_GBR.fit(train_x, train_y)\n",
    "y_pred_GBR = model_GBR.predict(test_x)\n",
    "# 랜덤포레스트로 모델 학습 진행 하고 성능을 평가하여 출력해 보세요.\n",
    "# 성능평가는 MSE, R-Squared Score\n"
   ]
  },
  {
   "cell_type": "code",
   "execution_count": 80,
   "id": "9bdccb80",
   "metadata": {},
   "outputs": [
    {
     "data": {
      "text/plain": [
       "['model_GBR.pkl']"
      ]
     },
     "execution_count": 80,
     "metadata": {},
     "output_type": "execute_result"
    }
   ],
   "source": [
    "# 학습한 모델을 파일로 저장해보세요.(joblib 활용)\n",
    "joblib.dump(model_GBR, 'model_GBR.pkl')\n",
    "\n"
   ]
  },
  {
   "cell_type": "code",
   "execution_count": 81,
   "id": "ed34e9b6-e715-4bc5-b817-6c4ad0dc633f",
   "metadata": {
    "tags": []
   },
   "outputs": [
    {
     "name": "stderr",
     "output_type": "stream",
     "text": [
      "C:\\Users\\User\\anaconda3\\Lib\\site-packages\\sklearn\\ensemble\\_gb.py:424: DataConversionWarning: A column-vector y was passed when a 1d array was expected. Please change the shape of y to (n_samples, ), for example using ravel().\n",
      "  y = column_or_1d(y, warn=True)\n",
      "C:\\Users\\User\\anaconda3\\Lib\\site-packages\\sklearn\\ensemble\\_gb.py:424: DataConversionWarning: A column-vector y was passed when a 1d array was expected. Please change the shape of y to (n_samples, ), for example using ravel().\n",
      "  y = column_or_1d(y, warn=True)\n",
      "C:\\Users\\User\\anaconda3\\Lib\\site-packages\\sklearn\\ensemble\\_gb.py:424: DataConversionWarning: A column-vector y was passed when a 1d array was expected. Please change the shape of y to (n_samples, ), for example using ravel().\n",
      "  y = column_or_1d(y, warn=True)\n",
      "C:\\Users\\User\\anaconda3\\Lib\\site-packages\\sklearn\\ensemble\\_gb.py:424: DataConversionWarning: A column-vector y was passed when a 1d array was expected. Please change the shape of y to (n_samples, ), for example using ravel().\n",
      "  y = column_or_1d(y, warn=True)\n",
      "C:\\Users\\User\\anaconda3\\Lib\\site-packages\\sklearn\\ensemble\\_gb.py:424: DataConversionWarning: A column-vector y was passed when a 1d array was expected. Please change the shape of y to (n_samples, ), for example using ravel().\n",
      "  y = column_or_1d(y, warn=True)\n",
      "C:\\Users\\User\\anaconda3\\Lib\\site-packages\\sklearn\\ensemble\\_gb.py:424: DataConversionWarning: A column-vector y was passed when a 1d array was expected. Please change the shape of y to (n_samples, ), for example using ravel().\n",
      "  y = column_or_1d(y, warn=True)\n",
      "C:\\Users\\User\\anaconda3\\Lib\\site-packages\\sklearn\\ensemble\\_gb.py:424: DataConversionWarning: A column-vector y was passed when a 1d array was expected. Please change the shape of y to (n_samples, ), for example using ravel().\n",
      "  y = column_or_1d(y, warn=True)\n",
      "C:\\Users\\User\\anaconda3\\Lib\\site-packages\\sklearn\\ensemble\\_gb.py:424: DataConversionWarning: A column-vector y was passed when a 1d array was expected. Please change the shape of y to (n_samples, ), for example using ravel().\n",
      "  y = column_or_1d(y, warn=True)\n",
      "C:\\Users\\User\\anaconda3\\Lib\\site-packages\\sklearn\\ensemble\\_gb.py:424: DataConversionWarning: A column-vector y was passed when a 1d array was expected. Please change the shape of y to (n_samples, ), for example using ravel().\n",
      "  y = column_or_1d(y, warn=True)\n",
      "C:\\Users\\User\\anaconda3\\Lib\\site-packages\\sklearn\\ensemble\\_gb.py:424: DataConversionWarning: A column-vector y was passed when a 1d array was expected. Please change the shape of y to (n_samples, ), for example using ravel().\n",
      "  y = column_or_1d(y, warn=True)\n"
     ]
    }
   ],
   "source": [
    "cv_score = cross_val_score(model_GBR, train_x, train_y, cv=10)\n",
    "result['model_GBR'] = cv_score.mean()"
   ]
  },
  {
   "cell_type": "code",
   "execution_count": null,
   "id": "53a42d44-6b73-437b-8e14-f34cbcb204eb",
   "metadata": {},
   "outputs": [],
   "source": []
  },
  {
   "cell_type": "markdown",
   "id": "803ed8fd",
   "metadata": {},
   "source": [
    "### (3-1) 그라디언트부스팅 feature_importances 확인\n",
    "* 학습한 모델의 feature_importances를 구해보세요."
   ]
  },
  {
   "cell_type": "code",
   "execution_count": 82,
   "id": "8deba58d",
   "metadata": {},
   "outputs": [
    {
     "name": "stdout",
     "output_type": "stream",
     "text": [
      "[0.00000000e+00 6.52089049e-04 6.36306995e-05 1.99661037e-04\n",
      " 2.25142043e-03 3.72966753e-04 9.81680104e-01 3.43817439e-03\n",
      " 0.00000000e+00 1.11288806e-03 7.29572124e-05 5.53179714e-04\n",
      " 1.18168538e-03 5.37011273e-04 8.15096031e-04 6.98324052e-04\n",
      " 1.91749387e-03 1.35246765e-03 1.65410378e-04 6.63006999e-06\n",
      " 9.58168465e-05 1.16829944e-05 1.37399506e-03 1.44731473e-03]\n"
     ]
    }
   ],
   "source": [
    "# 그라디언트부스팅으로 학습한 모델의 feature_importances를 구해보세요.\n",
    "# 아래에 필요한 코드를 작성하고 결과를 확인합니다.\n",
    "print(model_GBR.feature_importances_)"
   ]
  },
  {
   "cell_type": "code",
   "execution_count": 83,
   "id": "9d1bfe7d",
   "metadata": {
    "tags": []
   },
   "outputs": [
    {
     "data": {
      "image/png": "[encoded data removed]",
      "text/plain": [
       "<Figure size 640x480 with 1 Axes>"
      ]
     },
     "metadata": {},
     "output_type": "display_data"
    }
   ],
   "source": [
    "# 확인 후 알수 있었던 인사이트가 있었으면 정리해보세요!\n",
    "plt.barh(y=list(train_x), width=model_GBR.feature_importances_)\n",
    "plt.show()"
   ]
  },
  {
   "cell_type": "markdown",
   "id": "eb89852b-b155-4f0a-aaef-2a035caccda7",
   "metadata": {
    "tags": []
   },
   "source": [
    "### (4) 모델링: Self Choice Model "
   ]
  },
  {
   "cell_type": "markdown",
   "id": "305bbd5b",
   "metadata": {},
   "source": [
    "* Self Choice Model: 앞선 교육과정에서 배운 머신러닝 모델 중 어떤 것이든 좋습니다. 원하는 모델을 선택해서 학습을 시켜보세요.\n",
    "* Train과 Test로 나눈 데이터를 기준으로 Self Choice Model로 모델을 학습을 진행하고 평가를 해주세요.\n",
    "* 그리고 모델 파일을 pkl로 저장해주세요.\n",
    "* 성능지표 : MSE, R-squared Score(소수점 5째자리까지)"
   ]
  },
  {
   "cell_type": "code",
   "execution_count": 84,
   "id": "a2c66605",
   "metadata": {},
   "outputs": [
    {
     "name": "stdout",
     "output_type": "stream",
     "text": [
      "{'Linear Regression': 0.9124669819631815, 'Random Forest Regression': 0.8921597165504813, 'model_GBR': 0.8908037129494076}\n"
     ]
    },
    {
     "data": {
      "image/png": "[encoded data removed]",
      "text/plain": [
       "<Figure size 640x480 with 1 Axes>"
      ]
     },
     "metadata": {},
     "output_type": "display_data"
    }
   ],
   "source": [
    "# 아래에 필요한 코드를 작성하고 결과를 확인합니다.\n",
    "print(result)\n",
    "plt.barh(list(result), result.values())\n",
    "plt.show()"
   ]
  },
  {
   "cell_type": "code",
   "execution_count": 87,
   "id": "546ac8bf",
   "metadata": {},
   "outputs": [],
   "source": [
    "# Test 데이터로 성능을 평가해보세요.\n",
    "model_LR = LinearRegression()\n",
    "param={'max_depth':5}\n",
    "model = GridSearchCV(model_LR,param ,cv=5)"
   ]
  },
  {
   "cell_type": "code",
   "execution_count": 88,
   "id": "91afdf19-4b3a-4656-8667-e3f610ea73f4",
   "metadata": {
    "tags": []
   },
   "outputs": [
    {
     "ename": "TypeError",
     "evalue": "Parameter grid for parameter 'max_depth' needs to be a list or a numpy array, but got 5 (of type int) instead. Single values need to be wrapped in a list with one element.",
     "output_type": "error",
     "traceback": [
      "\u001b[1;31m---------------------------------------------------------------------------\u001b[0m",
      "\u001b[1;31mTypeError\u001b[0m                                 Traceback (most recent call last)",
      "Cell \u001b[1;32mIn[88], line 1\u001b[0m\n\u001b[1;32m----> 1\u001b[0m model\u001b[38;5;241m.\u001b[39mfit(train_x, train_y)\n",
      "File \u001b[1;32m~\\anaconda3\\Lib\\site-packages\\sklearn\\base.py:1151\u001b[0m, in \u001b[0;36m_fit_context.<locals>.decorator.<locals>.wrapper\u001b[1;34m(estimator, *args, **kwargs)\u001b[0m\n\u001b[0;32m   1144\u001b[0m     estimator\u001b[38;5;241m.\u001b[39m_validate_params()\n\u001b[0;32m   1146\u001b[0m \u001b[38;5;28;01mwith\u001b[39;00m config_context(\n\u001b[0;32m   1147\u001b[0m     skip_parameter_validation\u001b[38;5;241m=\u001b[39m(\n\u001b[0;32m   1148\u001b[0m         prefer_skip_nested_validation \u001b[38;5;129;01mor\u001b[39;00m global_skip_validation\n\u001b[0;32m   1149\u001b[0m     )\n\u001b[0;32m   1150\u001b[0m ):\n\u001b[1;32m-> 1151\u001b[0m     \u001b[38;5;28;01mreturn\u001b[39;00m fit_method(estimator, \u001b[38;5;241m*\u001b[39margs, \u001b[38;5;241m*\u001b[39m\u001b[38;5;241m*\u001b[39mkwargs)\n",
      "File \u001b[1;32m~\\anaconda3\\Lib\\site-packages\\sklearn\\model_selection\\_search.py:898\u001b[0m, in \u001b[0;36mBaseSearchCV.fit\u001b[1;34m(self, X, y, groups, **fit_params)\u001b[0m\n\u001b[0;32m    892\u001b[0m     results \u001b[38;5;241m=\u001b[39m \u001b[38;5;28mself\u001b[39m\u001b[38;5;241m.\u001b[39m_format_results(\n\u001b[0;32m    893\u001b[0m         all_candidate_params, n_splits, all_out, all_more_results\n\u001b[0;32m    894\u001b[0m     )\n\u001b[0;32m    896\u001b[0m     \u001b[38;5;28;01mreturn\u001b[39;00m results\n\u001b[1;32m--> 898\u001b[0m \u001b[38;5;28mself\u001b[39m\u001b[38;5;241m.\u001b[39m_run_search(evaluate_candidates)\n\u001b[0;32m    900\u001b[0m \u001b[38;5;66;03m# multimetric is determined here because in the case of a callable\u001b[39;00m\n\u001b[0;32m    901\u001b[0m \u001b[38;5;66;03m# self.scoring the return type is only known after calling\u001b[39;00m\n\u001b[0;32m    902\u001b[0m first_test_score \u001b[38;5;241m=\u001b[39m all_out[\u001b[38;5;241m0\u001b[39m][\u001b[38;5;124m\"\u001b[39m\u001b[38;5;124mtest_scores\u001b[39m\u001b[38;5;124m\"\u001b[39m]\n",
      "File \u001b[1;32m~\\anaconda3\\Lib\\site-packages\\sklearn\\model_selection\\_search.py:1419\u001b[0m, in \u001b[0;36mGridSearchCV._run_search\u001b[1;34m(self, evaluate_candidates)\u001b[0m\n\u001b[0;32m   1417\u001b[0m \u001b[38;5;28;01mdef\u001b[39;00m \u001b[38;5;21m_run_search\u001b[39m(\u001b[38;5;28mself\u001b[39m, evaluate_candidates):\n\u001b[0;32m   1418\u001b[0m \u001b[38;5;250m    \u001b[39m\u001b[38;5;124;03m\"\"\"Search all candidates in param_grid\"\"\"\u001b[39;00m\n\u001b[1;32m-> 1419\u001b[0m     evaluate_candidates(ParameterGrid(\u001b[38;5;28mself\u001b[39m\u001b[38;5;241m.\u001b[39mparam_grid))\n",
      "File \u001b[1;32m~\\anaconda3\\Lib\\site-packages\\sklearn\\model_selection\\_search.py:119\u001b[0m, in \u001b[0;36mParameterGrid.__init__\u001b[1;34m(self, param_grid)\u001b[0m\n\u001b[0;32m    112\u001b[0m     \u001b[38;5;28;01mraise\u001b[39;00m \u001b[38;5;167;01mValueError\u001b[39;00m(\n\u001b[0;32m    113\u001b[0m         \u001b[38;5;124mf\u001b[39m\u001b[38;5;124m\"\u001b[39m\u001b[38;5;124mParameter array for \u001b[39m\u001b[38;5;132;01m{\u001b[39;00mkey\u001b[38;5;132;01m!r}\u001b[39;00m\u001b[38;5;124m should be one-dimensional, got:\u001b[39m\u001b[38;5;124m\"\u001b[39m\n\u001b[0;32m    114\u001b[0m         \u001b[38;5;124mf\u001b[39m\u001b[38;5;124m\"\u001b[39m\u001b[38;5;124m \u001b[39m\u001b[38;5;132;01m{\u001b[39;00mvalue\u001b[38;5;132;01m!r}\u001b[39;00m\u001b[38;5;124m with shape \u001b[39m\u001b[38;5;132;01m{\u001b[39;00mvalue\u001b[38;5;241m.\u001b[39mshape\u001b[38;5;132;01m}\u001b[39;00m\u001b[38;5;124m\"\u001b[39m\n\u001b[0;32m    115\u001b[0m     )\n\u001b[0;32m    116\u001b[0m \u001b[38;5;28;01mif\u001b[39;00m \u001b[38;5;28misinstance\u001b[39m(value, \u001b[38;5;28mstr\u001b[39m) \u001b[38;5;129;01mor\u001b[39;00m \u001b[38;5;129;01mnot\u001b[39;00m \u001b[38;5;28misinstance\u001b[39m(\n\u001b[0;32m    117\u001b[0m     value, (np\u001b[38;5;241m.\u001b[39mndarray, Sequence)\n\u001b[0;32m    118\u001b[0m ):\n\u001b[1;32m--> 119\u001b[0m     \u001b[38;5;28;01mraise\u001b[39;00m \u001b[38;5;167;01mTypeError\u001b[39;00m(\n\u001b[0;32m    120\u001b[0m         \u001b[38;5;124mf\u001b[39m\u001b[38;5;124m\"\u001b[39m\u001b[38;5;124mParameter grid for parameter \u001b[39m\u001b[38;5;132;01m{\u001b[39;00mkey\u001b[38;5;132;01m!r}\u001b[39;00m\u001b[38;5;124m needs to be a list or a\u001b[39m\u001b[38;5;124m\"\u001b[39m\n\u001b[0;32m    121\u001b[0m         \u001b[38;5;124mf\u001b[39m\u001b[38;5;124m\"\u001b[39m\u001b[38;5;124m numpy array, but got \u001b[39m\u001b[38;5;132;01m{\u001b[39;00mvalue\u001b[38;5;132;01m!r}\u001b[39;00m\u001b[38;5;124m (of type \u001b[39m\u001b[38;5;124m\"\u001b[39m\n\u001b[0;32m    122\u001b[0m         \u001b[38;5;124mf\u001b[39m\u001b[38;5;124m\"\u001b[39m\u001b[38;5;132;01m{\u001b[39;00m\u001b[38;5;28mtype\u001b[39m(value)\u001b[38;5;241m.\u001b[39m\u001b[38;5;18m__name__\u001b[39m\u001b[38;5;132;01m}\u001b[39;00m\u001b[38;5;124m) instead. Single values \u001b[39m\u001b[38;5;124m\"\u001b[39m\n\u001b[0;32m    123\u001b[0m         \u001b[38;5;124m\"\u001b[39m\u001b[38;5;124mneed to be wrapped in a list with one element.\u001b[39m\u001b[38;5;124m\"\u001b[39m\n\u001b[0;32m    124\u001b[0m     )\n\u001b[0;32m    125\u001b[0m \u001b[38;5;28;01mif\u001b[39;00m \u001b[38;5;28mlen\u001b[39m(value) \u001b[38;5;241m==\u001b[39m \u001b[38;5;241m0\u001b[39m:\n\u001b[0;32m    126\u001b[0m     \u001b[38;5;28;01mraise\u001b[39;00m \u001b[38;5;167;01mValueError\u001b[39;00m(\n\u001b[0;32m    127\u001b[0m         \u001b[38;5;124mf\u001b[39m\u001b[38;5;124m\"\u001b[39m\u001b[38;5;124mParameter grid for parameter \u001b[39m\u001b[38;5;132;01m{\u001b[39;00mkey\u001b[38;5;132;01m!r}\u001b[39;00m\u001b[38;5;124m need \u001b[39m\u001b[38;5;124m\"\u001b[39m\n\u001b[0;32m    128\u001b[0m         \u001b[38;5;124mf\u001b[39m\u001b[38;5;124m\"\u001b[39m\u001b[38;5;124mto be a non-empty sequence, got: \u001b[39m\u001b[38;5;132;01m{\u001b[39;00mvalue\u001b[38;5;132;01m!r}\u001b[39;00m\u001b[38;5;124m\"\u001b[39m\n\u001b[0;32m    129\u001b[0m     )\n",
      "\u001b[1;31mTypeError\u001b[0m: Parameter grid for parameter 'max_depth' needs to be a list or a numpy array, but got 5 (of type int) instead. Single values need to be wrapped in a list with one element."
     ]
    }
   ],
   "source": [
    "model.fit(train_x, train_y)"
   ]
  },
  {
   "cell_type": "code",
   "execution_count": null,
   "id": "a59b07be-3cca-49ff-89a2-2eba11ae397a",
   "metadata": {},
   "outputs": [],
   "source": []
  },
  {
   "cell_type": "code",
   "execution_count": null,
   "id": "e69d0d7c",
   "metadata": {},
   "outputs": [],
   "source": [
    "# 학습한 모델을 파일로 저장해보세요.\n",
    "\n",
    "\n"
   ]
  },
  {
   "cell_type": "code",
   "execution_count": null,
   "id": "a8ac782c",
   "metadata": {},
   "outputs": [],
   "source": [
    "# 시간이 되면 Seif choice Model로 학습한 모델의 feature_importances를 구해보세요.\n",
    "# 확인 후 알수 있었던 인사이트가 있었으면 정리해보세요!"
   ]
  },
  {
   "cell_type": "markdown",
   "id": "cb9a8cf9",
   "metadata": {},
   "source": [
    "# 고생하셨습니다👍👍 "
   ]
  }
 ],
 "metadata": {
  "kernelspec": {
   "display_name": "Python 3 (ipykernel)",
   "language": "python",
   "name": "python3"
  },
  "language_info": {
   "codemirror_mode": {
    "name": "ipython",
    "version": 3
   },
   "file_extension": ".py",
   "mimetype": "text/x-python",
   "name": "python",
   "nbconvert_exporter": "python",
   "pygments_lexer": "ipython3",
   "version": "3.11.5"
  },
  "vscode": {
   "interpreter": {
    "hash": "f08154012ddadd8e950e6e9e035c7a7b32c136e7647e9b7c77e02eb723a8bedb"
   }
  },
  "widgets": {
   "application/vnd.jupyter.widget-state+json": {
    "state": {},
    "version_major": 2,
    "version_minor": 0
   }
  }
 },
 "nbformat": 4,
 "nbformat_minor": 5
}
