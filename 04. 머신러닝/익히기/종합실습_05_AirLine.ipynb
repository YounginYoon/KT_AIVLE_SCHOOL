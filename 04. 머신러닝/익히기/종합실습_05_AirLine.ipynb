{
 "cells": [
  {
   "cell_type": "markdown",
   "metadata": {
    "id": "y1J78TFSRrSA"
   },
   "source": [
    "<center><img src='https://raw.githubusercontent.com/Jangrae/img/master/ml_python.png' width=600/></center>"
   ]
  },
  {
   "cell_type": "markdown",
   "metadata": {
    "id": "rGgqxsrmo-BT"
   },
   "source": [
    "<img src = \"https://github.com/Jangrae/img/blob/master/airport2.png?raw=true\" width=800 align=\"left\"/>"
   ]
  },
  {
   "cell_type": "markdown",
   "metadata": {
    "id": "elUlK1gCJHGh"
   },
   "source": [
    "# 실습 내용\n",
    "\n",
    "- 다양한 알고리즘으로 모델을 만들고 성능을 예측합니다.\n",
    "- 성능이 좋을 것으로 판단된 모델의 성능을 튜닝합니다.\n",
    "- 튜닝된 모델의 성능을 평가합니다."
   ]
  },
  {
   "cell_type": "markdown",
   "metadata": {
    "id": "IciCQGJy5PO-"
   },
   "source": [
    "# 1.환경 준비\n",
    "\n",
    "- 기본 라이브러리와 대상 데이터를 가져와 이후 과정을 준비합니다."
   ]
  },
  {
   "cell_type": "code",
   "execution_count": 1,
   "metadata": {
    "id": "jB0l6oqDsG8B",
    "tags": []
   },
   "outputs": [],
   "source": [
    "# 라이브러리 불러오기\n",
    "import numpy as np\n",
    "import pandas as pd\n",
    "import matplotlib.pyplot as plt\n",
    "import seaborn as sns\n",
    "import warnings\n",
    "\n",
    "warnings.filterwarnings(action='ignore')\n",
    "%config InlineBackend.figure_format = 'retina'"
   ]
  },
  {
   "cell_type": "code",
   "execution_count": 2,
   "metadata": {
    "id": "PXqyu_0LsG8C",
    "tags": []
   },
   "outputs": [],
   "source": [
    "# 데이터 불러오기\n",
    "path = 'https://raw.githubusercontent.com/jangrae/csv/master/airline_satisfaction_small.csv'\n",
    "data = pd.read_csv(path)"
   ]
  },
  {
   "cell_type": "markdown",
   "metadata": {
    "id": "hDHOQrUbNGSK"
   },
   "source": [
    "# 2.데이터 이해\n",
    "\n",
    "- 분석할 데이터를 충분히 이해할 수 있도록 다양한 탐색 과정을 수행합니다."
   ]
  },
  {
   "cell_type": "code",
   "execution_count": 4,
   "metadata": {
    "id": "Z1ahypi3irLz",
    "tags": []
   },
   "outputs": [
    {
     "data": {
      "text/html": [
       "<div>\n",
       "<style scoped>\n",
       "    .dataframe tbody tr th:only-of-type {\n",
       "        vertical-align: middle;\n",
       "    }\n",
       "\n",
       "    .dataframe tbody tr th {\n",
       "        vertical-align: top;\n",
       "    }\n",
       "\n",
       "    .dataframe thead th {\n",
       "        text-align: right;\n",
       "    }\n",
       "</style>\n",
       "<table border=\"1\" class=\"dataframe\">\n",
       "  <thead>\n",
       "    <tr style=\"text-align: right;\">\n",
       "      <th></th>\n",
       "      <th>id</th>\n",
       "      <th>gender</th>\n",
       "      <th>customer_type</th>\n",
       "      <th>age</th>\n",
       "      <th>type_of_travel</th>\n",
       "      <th>class</th>\n",
       "      <th>flight_distance</th>\n",
       "      <th>inflight_wifi_service</th>\n",
       "      <th>departure/arrival_time_convenient</th>\n",
       "      <th>ease_of_online_booking</th>\n",
       "      <th>...</th>\n",
       "      <th>inflight_entertainment</th>\n",
       "      <th>on-board_service</th>\n",
       "      <th>leg_room_service</th>\n",
       "      <th>baggage_handling</th>\n",
       "      <th>checkin_service</th>\n",
       "      <th>inflight_service</th>\n",
       "      <th>cleanliness</th>\n",
       "      <th>departure_delay_in_minutes</th>\n",
       "      <th>arrival_delay_in_minutes</th>\n",
       "      <th>satisfaction</th>\n",
       "    </tr>\n",
       "  </thead>\n",
       "  <tbody>\n",
       "    <tr>\n",
       "      <th>0</th>\n",
       "      <td>70172</td>\n",
       "      <td>Male</td>\n",
       "      <td>Loyal Customer</td>\n",
       "      <td>13</td>\n",
       "      <td>Personal Travel</td>\n",
       "      <td>Eco Plus</td>\n",
       "      <td>460</td>\n",
       "      <td>3</td>\n",
       "      <td>4</td>\n",
       "      <td>3</td>\n",
       "      <td>...</td>\n",
       "      <td>5</td>\n",
       "      <td>4</td>\n",
       "      <td>3</td>\n",
       "      <td>4</td>\n",
       "      <td>4</td>\n",
       "      <td>5</td>\n",
       "      <td>5</td>\n",
       "      <td>25</td>\n",
       "      <td>18.0</td>\n",
       "      <td>0</td>\n",
       "    </tr>\n",
       "    <tr>\n",
       "      <th>1</th>\n",
       "      <td>5047</td>\n",
       "      <td>Male</td>\n",
       "      <td>disloyal Customer</td>\n",
       "      <td>25</td>\n",
       "      <td>Business travel</td>\n",
       "      <td>Business</td>\n",
       "      <td>235</td>\n",
       "      <td>3</td>\n",
       "      <td>2</td>\n",
       "      <td>3</td>\n",
       "      <td>...</td>\n",
       "      <td>1</td>\n",
       "      <td>1</td>\n",
       "      <td>5</td>\n",
       "      <td>3</td>\n",
       "      <td>1</td>\n",
       "      <td>4</td>\n",
       "      <td>1</td>\n",
       "      <td>1</td>\n",
       "      <td>6.0</td>\n",
       "      <td>0</td>\n",
       "    </tr>\n",
       "    <tr>\n",
       "      <th>2</th>\n",
       "      <td>110028</td>\n",
       "      <td>Female</td>\n",
       "      <td>Loyal Customer</td>\n",
       "      <td>26</td>\n",
       "      <td>Business travel</td>\n",
       "      <td>Business</td>\n",
       "      <td>1142</td>\n",
       "      <td>2</td>\n",
       "      <td>2</td>\n",
       "      <td>2</td>\n",
       "      <td>...</td>\n",
       "      <td>5</td>\n",
       "      <td>4</td>\n",
       "      <td>3</td>\n",
       "      <td>4</td>\n",
       "      <td>4</td>\n",
       "      <td>4</td>\n",
       "      <td>5</td>\n",
       "      <td>0</td>\n",
       "      <td>0.0</td>\n",
       "      <td>1</td>\n",
       "    </tr>\n",
       "    <tr>\n",
       "      <th>3</th>\n",
       "      <td>24026</td>\n",
       "      <td>Female</td>\n",
       "      <td>Loyal Customer</td>\n",
       "      <td>25</td>\n",
       "      <td>Business travel</td>\n",
       "      <td>Business</td>\n",
       "      <td>562</td>\n",
       "      <td>2</td>\n",
       "      <td>5</td>\n",
       "      <td>5</td>\n",
       "      <td>...</td>\n",
       "      <td>2</td>\n",
       "      <td>2</td>\n",
       "      <td>5</td>\n",
       "      <td>3</td>\n",
       "      <td>1</td>\n",
       "      <td>4</td>\n",
       "      <td>2</td>\n",
       "      <td>11</td>\n",
       "      <td>9.0</td>\n",
       "      <td>0</td>\n",
       "    </tr>\n",
       "    <tr>\n",
       "      <th>4</th>\n",
       "      <td>119299</td>\n",
       "      <td>Male</td>\n",
       "      <td>Loyal Customer</td>\n",
       "      <td>61</td>\n",
       "      <td>Business travel</td>\n",
       "      <td>Business</td>\n",
       "      <td>214</td>\n",
       "      <td>3</td>\n",
       "      <td>3</td>\n",
       "      <td>3</td>\n",
       "      <td>...</td>\n",
       "      <td>3</td>\n",
       "      <td>3</td>\n",
       "      <td>4</td>\n",
       "      <td>4</td>\n",
       "      <td>3</td>\n",
       "      <td>3</td>\n",
       "      <td>3</td>\n",
       "      <td>0</td>\n",
       "      <td>0.0</td>\n",
       "      <td>1</td>\n",
       "    </tr>\n",
       "  </tbody>\n",
       "</table>\n",
       "<p>5 rows × 24 columns</p>\n",
       "</div>"
      ],
      "text/plain": [
       "       id  gender      customer_type  age   type_of_travel     class  \\\n",
       "0   70172    Male     Loyal Customer   13  Personal Travel  Eco Plus   \n",
       "1    5047    Male  disloyal Customer   25  Business travel  Business   \n",
       "2  110028  Female     Loyal Customer   26  Business travel  Business   \n",
       "3   24026  Female     Loyal Customer   25  Business travel  Business   \n",
       "4  119299    Male     Loyal Customer   61  Business travel  Business   \n",
       "\n",
       "   flight_distance  inflight_wifi_service  departure/arrival_time_convenient  \\\n",
       "0              460                      3                                  4   \n",
       "1              235                      3                                  2   \n",
       "2             1142                      2                                  2   \n",
       "3              562                      2                                  5   \n",
       "4              214                      3                                  3   \n",
       "\n",
       "   ease_of_online_booking  ...  inflight_entertainment  on-board_service  \\\n",
       "0                       3  ...                       5                 4   \n",
       "1                       3  ...                       1                 1   \n",
       "2                       2  ...                       5                 4   \n",
       "3                       5  ...                       2                 2   \n",
       "4                       3  ...                       3                 3   \n",
       "\n",
       "   leg_room_service  baggage_handling  checkin_service  inflight_service  \\\n",
       "0                 3                 4                4                 5   \n",
       "1                 5                 3                1                 4   \n",
       "2                 3                 4                4                 4   \n",
       "3                 5                 3                1                 4   \n",
       "4                 4                 4                3                 3   \n",
       "\n",
       "   cleanliness  departure_delay_in_minutes  arrival_delay_in_minutes  \\\n",
       "0            5                          25                      18.0   \n",
       "1            1                           1                       6.0   \n",
       "2            5                           0                       0.0   \n",
       "3            2                          11                       9.0   \n",
       "4            3                           0                       0.0   \n",
       "\n",
       "   satisfaction  \n",
       "0             0  \n",
       "1             0  \n",
       "2             1  \n",
       "3             0  \n",
       "4             1  \n",
       "\n",
       "[5 rows x 24 columns]"
      ]
     },
     "execution_count": 4,
     "metadata": {},
     "output_type": "execute_result"
    }
   ],
   "source": [
    "# 데이터 살펴보기\n",
    "data.head()"
   ]
  },
  {
   "cell_type": "markdown",
   "metadata": {
    "id": "Y1GBK8vJo-BV"
   },
   "source": [
    "**데이터 설명**\n",
    "\n",
    "- id : 탑승자 고유 아이디\n",
    "- gender: 성별 (Female, Male)\n",
    "- customer_type: 고객 유형 (Loyal customer, disloyal customer)\n",
    "- age: 탑승자 나이\n",
    "- type_of_travel: 비행 목적(Personal Travel, Business Travel)\n",
    "- class: 등급 (Business, Eco, Eco Plus)\n",
    "- flight_distance: 비행 거리\n",
    "- inflight_wifi_service: 와이파이 서비스 만족도 (0:N/A; 1-5)\n",
    "- departure/arrival_time_convenient: 출발, 도착 시간 만족도 (0:N/A; 1-5)\n",
    "- ease_of_online_booking: 온라인 부킹 만족도 (0:N/A; 1-5)\n",
    "- gate_location: 게이트 위치 만족도 (0:N/A; 1-5)\n",
    "- food_and_drink: 식사와 음료 만족도 (0:N/A; 1-5)\n",
    "- online_boarding: 온라인 보딩 만족도 (0:N/A; 1-5)\n",
    "- seat_comfort: 좌석 편안함 만족도 (0:N/A; 1-5)\n",
    "- inflight_entertainment: 기내 엔터테인먼트 만족도 (0:N/A; 1-5)\n",
    "- on-board_service: 온 보드 서비스 만족도 (0:N/A; 1-5)\n",
    "- leg_room_service: 다리 공간 만족도 (0:N/A; 1-5)\n",
    "- baggage_handling: 수하물 처리 만족도 (0:N/A; 1-5)\n",
    "- check-in_service: 체크인 서비스 만족도 (0:N/A; 1-5)\n",
    "- inflight_service: 기내 서비스 만족도 (0:N/A; 1-5)\n",
    "- cleanliness: 청결 만족도 (0:N/A; 1-5)\n",
    "- departure_delay_in_minutes: 출발 지연 시간(분)\n",
    "- arrival_delay_in_minutes: 도착 지연 시간(분)\n",
    "- satisfaction: 항공 만족도(1: Satisfaction, 0: Neutral or Dissatisfaction) - Target"
   ]
  },
  {
   "cell_type": "code",
   "execution_count": 5,
   "metadata": {
    "id": "HGHlgWSwtSYh",
    "tags": []
   },
   "outputs": [
    {
     "data": {
      "text/html": [
       "<div>\n",
       "<style scoped>\n",
       "    .dataframe tbody tr th:only-of-type {\n",
       "        vertical-align: middle;\n",
       "    }\n",
       "\n",
       "    .dataframe tbody tr th {\n",
       "        vertical-align: top;\n",
       "    }\n",
       "\n",
       "    .dataframe thead th {\n",
       "        text-align: right;\n",
       "    }\n",
       "</style>\n",
       "<table border=\"1\" class=\"dataframe\">\n",
       "  <thead>\n",
       "    <tr style=\"text-align: right;\">\n",
       "      <th></th>\n",
       "      <th>id</th>\n",
       "      <th>age</th>\n",
       "      <th>flight_distance</th>\n",
       "      <th>inflight_wifi_service</th>\n",
       "      <th>departure/arrival_time_convenient</th>\n",
       "      <th>ease_of_online_booking</th>\n",
       "      <th>gate_location</th>\n",
       "      <th>food_and_drink</th>\n",
       "      <th>online_boarding</th>\n",
       "      <th>seat_comfort</th>\n",
       "      <th>inflight_entertainment</th>\n",
       "      <th>on-board_service</th>\n",
       "      <th>leg_room_service</th>\n",
       "      <th>baggage_handling</th>\n",
       "      <th>checkin_service</th>\n",
       "      <th>inflight_service</th>\n",
       "      <th>cleanliness</th>\n",
       "      <th>departure_delay_in_minutes</th>\n",
       "      <th>arrival_delay_in_minutes</th>\n",
       "      <th>satisfaction</th>\n",
       "    </tr>\n",
       "  </thead>\n",
       "  <tbody>\n",
       "    <tr>\n",
       "      <th>count</th>\n",
       "      <td>2580.000000</td>\n",
       "      <td>2580.000000</td>\n",
       "      <td>2580.000000</td>\n",
       "      <td>2580.000000</td>\n",
       "      <td>2580.000000</td>\n",
       "      <td>2580.000000</td>\n",
       "      <td>2580.000000</td>\n",
       "      <td>2580.000000</td>\n",
       "      <td>2580.000000</td>\n",
       "      <td>2580.000000</td>\n",
       "      <td>2580.000000</td>\n",
       "      <td>2580.000000</td>\n",
       "      <td>2580.000000</td>\n",
       "      <td>2580.000000</td>\n",
       "      <td>2580.000000</td>\n",
       "      <td>2580.000000</td>\n",
       "      <td>2580.000000</td>\n",
       "      <td>2580.000000</td>\n",
       "      <td>2574.000000</td>\n",
       "      <td>2580.000000</td>\n",
       "    </tr>\n",
       "    <tr>\n",
       "      <th>mean</th>\n",
       "      <td>65179.742248</td>\n",
       "      <td>39.229845</td>\n",
       "      <td>1204.824806</td>\n",
       "      <td>2.732558</td>\n",
       "      <td>3.041473</td>\n",
       "      <td>2.758527</td>\n",
       "      <td>2.973256</td>\n",
       "      <td>3.229457</td>\n",
       "      <td>3.242248</td>\n",
       "      <td>3.440310</td>\n",
       "      <td>3.329070</td>\n",
       "      <td>3.361628</td>\n",
       "      <td>3.298450</td>\n",
       "      <td>3.599225</td>\n",
       "      <td>3.318992</td>\n",
       "      <td>3.620155</td>\n",
       "      <td>3.277907</td>\n",
       "      <td>14.856202</td>\n",
       "      <td>15.285159</td>\n",
       "      <td>0.427132</td>\n",
       "    </tr>\n",
       "    <tr>\n",
       "      <th>std</th>\n",
       "      <td>37320.994433</td>\n",
       "      <td>15.295065</td>\n",
       "      <td>1008.852185</td>\n",
       "      <td>1.317032</td>\n",
       "      <td>1.542290</td>\n",
       "      <td>1.400792</td>\n",
       "      <td>1.271752</td>\n",
       "      <td>1.341635</td>\n",
       "      <td>1.341842</td>\n",
       "      <td>1.329681</td>\n",
       "      <td>1.334021</td>\n",
       "      <td>1.266627</td>\n",
       "      <td>1.313897</td>\n",
       "      <td>1.168210</td>\n",
       "      <td>1.256309</td>\n",
       "      <td>1.182093</td>\n",
       "      <td>1.317367</td>\n",
       "      <td>35.808534</td>\n",
       "      <td>36.301790</td>\n",
       "      <td>0.494758</td>\n",
       "    </tr>\n",
       "    <tr>\n",
       "      <th>min</th>\n",
       "      <td>54.000000</td>\n",
       "      <td>7.000000</td>\n",
       "      <td>67.000000</td>\n",
       "      <td>0.000000</td>\n",
       "      <td>0.000000</td>\n",
       "      <td>0.000000</td>\n",
       "      <td>1.000000</td>\n",
       "      <td>0.000000</td>\n",
       "      <td>0.000000</td>\n",
       "      <td>1.000000</td>\n",
       "      <td>0.000000</td>\n",
       "      <td>0.000000</td>\n",
       "      <td>0.000000</td>\n",
       "      <td>1.000000</td>\n",
       "      <td>1.000000</td>\n",
       "      <td>0.000000</td>\n",
       "      <td>1.000000</td>\n",
       "      <td>0.000000</td>\n",
       "      <td>0.000000</td>\n",
       "      <td>0.000000</td>\n",
       "    </tr>\n",
       "    <tr>\n",
       "      <th>25%</th>\n",
       "      <td>32988.750000</td>\n",
       "      <td>26.000000</td>\n",
       "      <td>405.750000</td>\n",
       "      <td>2.000000</td>\n",
       "      <td>2.000000</td>\n",
       "      <td>2.000000</td>\n",
       "      <td>2.000000</td>\n",
       "      <td>2.000000</td>\n",
       "      <td>2.000000</td>\n",
       "      <td>2.000000</td>\n",
       "      <td>2.000000</td>\n",
       "      <td>2.000000</td>\n",
       "      <td>2.000000</td>\n",
       "      <td>3.000000</td>\n",
       "      <td>3.000000</td>\n",
       "      <td>3.000000</td>\n",
       "      <td>2.000000</td>\n",
       "      <td>0.000000</td>\n",
       "      <td>0.000000</td>\n",
       "      <td>0.000000</td>\n",
       "    </tr>\n",
       "    <tr>\n",
       "      <th>50%</th>\n",
       "      <td>64877.000000</td>\n",
       "      <td>40.000000</td>\n",
       "      <td>860.000000</td>\n",
       "      <td>3.000000</td>\n",
       "      <td>3.000000</td>\n",
       "      <td>3.000000</td>\n",
       "      <td>3.000000</td>\n",
       "      <td>3.000000</td>\n",
       "      <td>3.000000</td>\n",
       "      <td>4.000000</td>\n",
       "      <td>4.000000</td>\n",
       "      <td>4.000000</td>\n",
       "      <td>3.000000</td>\n",
       "      <td>4.000000</td>\n",
       "      <td>3.000000</td>\n",
       "      <td>4.000000</td>\n",
       "      <td>3.000000</td>\n",
       "      <td>0.000000</td>\n",
       "      <td>0.000000</td>\n",
       "      <td>0.000000</td>\n",
       "    </tr>\n",
       "    <tr>\n",
       "      <th>75%</th>\n",
       "      <td>97717.000000</td>\n",
       "      <td>51.000000</td>\n",
       "      <td>1754.500000</td>\n",
       "      <td>4.000000</td>\n",
       "      <td>4.000000</td>\n",
       "      <td>4.000000</td>\n",
       "      <td>4.000000</td>\n",
       "      <td>4.000000</td>\n",
       "      <td>4.000000</td>\n",
       "      <td>5.000000</td>\n",
       "      <td>4.000000</td>\n",
       "      <td>4.000000</td>\n",
       "      <td>4.000000</td>\n",
       "      <td>4.000000</td>\n",
       "      <td>4.000000</td>\n",
       "      <td>5.000000</td>\n",
       "      <td>4.000000</td>\n",
       "      <td>13.000000</td>\n",
       "      <td>14.000000</td>\n",
       "      <td>1.000000</td>\n",
       "    </tr>\n",
       "    <tr>\n",
       "      <th>max</th>\n",
       "      <td>129860.000000</td>\n",
       "      <td>85.000000</td>\n",
       "      <td>4963.000000</td>\n",
       "      <td>5.000000</td>\n",
       "      <td>5.000000</td>\n",
       "      <td>5.000000</td>\n",
       "      <td>5.000000</td>\n",
       "      <td>5.000000</td>\n",
       "      <td>5.000000</td>\n",
       "      <td>5.000000</td>\n",
       "      <td>5.000000</td>\n",
       "      <td>5.000000</td>\n",
       "      <td>5.000000</td>\n",
       "      <td>5.000000</td>\n",
       "      <td>5.000000</td>\n",
       "      <td>5.000000</td>\n",
       "      <td>5.000000</td>\n",
       "      <td>435.000000</td>\n",
       "      <td>470.000000</td>\n",
       "      <td>1.000000</td>\n",
       "    </tr>\n",
       "  </tbody>\n",
       "</table>\n",
       "</div>"
      ],
      "text/plain": [
       "                  id          age  flight_distance  inflight_wifi_service  \\\n",
       "count    2580.000000  2580.000000      2580.000000            2580.000000   \n",
       "mean    65179.742248    39.229845      1204.824806               2.732558   \n",
       "std     37320.994433    15.295065      1008.852185               1.317032   \n",
       "min        54.000000     7.000000        67.000000               0.000000   \n",
       "25%     32988.750000    26.000000       405.750000               2.000000   \n",
       "50%     64877.000000    40.000000       860.000000               3.000000   \n",
       "75%     97717.000000    51.000000      1754.500000               4.000000   \n",
       "max    129860.000000    85.000000      4963.000000               5.000000   \n",
       "\n",
       "       departure/arrival_time_convenient  ease_of_online_booking  \\\n",
       "count                        2580.000000             2580.000000   \n",
       "mean                            3.041473                2.758527   \n",
       "std                             1.542290                1.400792   \n",
       "min                             0.000000                0.000000   \n",
       "25%                             2.000000                2.000000   \n",
       "50%                             3.000000                3.000000   \n",
       "75%                             4.000000                4.000000   \n",
       "max                             5.000000                5.000000   \n",
       "\n",
       "       gate_location  food_and_drink  online_boarding  seat_comfort  \\\n",
       "count    2580.000000     2580.000000      2580.000000   2580.000000   \n",
       "mean        2.973256        3.229457         3.242248      3.440310   \n",
       "std         1.271752        1.341635         1.341842      1.329681   \n",
       "min         1.000000        0.000000         0.000000      1.000000   \n",
       "25%         2.000000        2.000000         2.000000      2.000000   \n",
       "50%         3.000000        3.000000         3.000000      4.000000   \n",
       "75%         4.000000        4.000000         4.000000      5.000000   \n",
       "max         5.000000        5.000000         5.000000      5.000000   \n",
       "\n",
       "       inflight_entertainment  on-board_service  leg_room_service  \\\n",
       "count             2580.000000       2580.000000       2580.000000   \n",
       "mean                 3.329070          3.361628          3.298450   \n",
       "std                  1.334021          1.266627          1.313897   \n",
       "min                  0.000000          0.000000          0.000000   \n",
       "25%                  2.000000          2.000000          2.000000   \n",
       "50%                  4.000000          4.000000          3.000000   \n",
       "75%                  4.000000          4.000000          4.000000   \n",
       "max                  5.000000          5.000000          5.000000   \n",
       "\n",
       "       baggage_handling  checkin_service  inflight_service  cleanliness  \\\n",
       "count       2580.000000      2580.000000       2580.000000  2580.000000   \n",
       "mean           3.599225         3.318992          3.620155     3.277907   \n",
       "std            1.168210         1.256309          1.182093     1.317367   \n",
       "min            1.000000         1.000000          0.000000     1.000000   \n",
       "25%            3.000000         3.000000          3.000000     2.000000   \n",
       "50%            4.000000         3.000000          4.000000     3.000000   \n",
       "75%            4.000000         4.000000          5.000000     4.000000   \n",
       "max            5.000000         5.000000          5.000000     5.000000   \n",
       "\n",
       "       departure_delay_in_minutes  arrival_delay_in_minutes  satisfaction  \n",
       "count                 2580.000000               2574.000000   2580.000000  \n",
       "mean                    14.856202                 15.285159      0.427132  \n",
       "std                     35.808534                 36.301790      0.494758  \n",
       "min                      0.000000                  0.000000      0.000000  \n",
       "25%                      0.000000                  0.000000      0.000000  \n",
       "50%                      0.000000                  0.000000      0.000000  \n",
       "75%                     13.000000                 14.000000      1.000000  \n",
       "max                    435.000000                470.000000      1.000000  "
      ]
     },
     "execution_count": 5,
     "metadata": {},
     "output_type": "execute_result"
    }
   ],
   "source": [
    "# 기술통계 확인\n",
    "data.describe()"
   ]
  },
  {
   "cell_type": "code",
   "execution_count": null,
   "metadata": {
    "tags": []
   },
   "outputs": [],
   "source": []
  },
  {
   "cell_type": "code",
   "execution_count": 9,
   "metadata": {
    "tags": []
   },
   "outputs": [],
   "source": [
    "# print(data.corr(numeric_only=True))"
   ]
  },
  {
   "cell_type": "markdown",
   "metadata": {
    "id": "xyfvv8VLTvgu",
    "tags": []
   },
   "source": [
    "# 3.데이터 준비\n",
    "\n",
    "- 전처리 과정을 통해 머신러닝 알고리즘에 사용할 수 있는 형태의 데이터를 준비합니다."
   ]
  },
  {
   "cell_type": "markdown",
   "metadata": {
    "id": "yiG5rTcJo-BW"
   },
   "source": [
    "**1) 변수 제거**"
   ]
  },
  {
   "cell_type": "code",
   "execution_count": 10,
   "metadata": {
    "id": "XQoM6XBco-BW",
    "tags": []
   },
   "outputs": [
    {
     "data": {
      "text/html": [
       "<div>\n",
       "<style scoped>\n",
       "    .dataframe tbody tr th:only-of-type {\n",
       "        vertical-align: middle;\n",
       "    }\n",
       "\n",
       "    .dataframe tbody tr th {\n",
       "        vertical-align: top;\n",
       "    }\n",
       "\n",
       "    .dataframe thead th {\n",
       "        text-align: right;\n",
       "    }\n",
       "</style>\n",
       "<table border=\"1\" class=\"dataframe\">\n",
       "  <thead>\n",
       "    <tr style=\"text-align: right;\">\n",
       "      <th></th>\n",
       "      <th>gender</th>\n",
       "      <th>customer_type</th>\n",
       "      <th>age</th>\n",
       "      <th>type_of_travel</th>\n",
       "      <th>class</th>\n",
       "      <th>flight_distance</th>\n",
       "      <th>inflight_wifi_service</th>\n",
       "      <th>ease_of_online_booking</th>\n",
       "      <th>food_and_drink</th>\n",
       "      <th>online_boarding</th>\n",
       "      <th>seat_comfort</th>\n",
       "      <th>inflight_entertainment</th>\n",
       "      <th>on-board_service</th>\n",
       "      <th>leg_room_service</th>\n",
       "      <th>baggage_handling</th>\n",
       "      <th>checkin_service</th>\n",
       "      <th>inflight_service</th>\n",
       "      <th>cleanliness</th>\n",
       "      <th>arrival_delay_in_minutes</th>\n",
       "      <th>satisfaction</th>\n",
       "    </tr>\n",
       "  </thead>\n",
       "  <tbody>\n",
       "    <tr>\n",
       "      <th>0</th>\n",
       "      <td>Male</td>\n",
       "      <td>Loyal Customer</td>\n",
       "      <td>13</td>\n",
       "      <td>Personal Travel</td>\n",
       "      <td>Eco Plus</td>\n",
       "      <td>460</td>\n",
       "      <td>3</td>\n",
       "      <td>3</td>\n",
       "      <td>5</td>\n",
       "      <td>3</td>\n",
       "      <td>5</td>\n",
       "      <td>5</td>\n",
       "      <td>4</td>\n",
       "      <td>3</td>\n",
       "      <td>4</td>\n",
       "      <td>4</td>\n",
       "      <td>5</td>\n",
       "      <td>5</td>\n",
       "      <td>18.0</td>\n",
       "      <td>0</td>\n",
       "    </tr>\n",
       "    <tr>\n",
       "      <th>1</th>\n",
       "      <td>Male</td>\n",
       "      <td>disloyal Customer</td>\n",
       "      <td>25</td>\n",
       "      <td>Business travel</td>\n",
       "      <td>Business</td>\n",
       "      <td>235</td>\n",
       "      <td>3</td>\n",
       "      <td>3</td>\n",
       "      <td>1</td>\n",
       "      <td>3</td>\n",
       "      <td>1</td>\n",
       "      <td>1</td>\n",
       "      <td>1</td>\n",
       "      <td>5</td>\n",
       "      <td>3</td>\n",
       "      <td>1</td>\n",
       "      <td>4</td>\n",
       "      <td>1</td>\n",
       "      <td>6.0</td>\n",
       "      <td>0</td>\n",
       "    </tr>\n",
       "    <tr>\n",
       "      <th>2</th>\n",
       "      <td>Female</td>\n",
       "      <td>Loyal Customer</td>\n",
       "      <td>26</td>\n",
       "      <td>Business travel</td>\n",
       "      <td>Business</td>\n",
       "      <td>1142</td>\n",
       "      <td>2</td>\n",
       "      <td>2</td>\n",
       "      <td>5</td>\n",
       "      <td>5</td>\n",
       "      <td>5</td>\n",
       "      <td>5</td>\n",
       "      <td>4</td>\n",
       "      <td>3</td>\n",
       "      <td>4</td>\n",
       "      <td>4</td>\n",
       "      <td>4</td>\n",
       "      <td>5</td>\n",
       "      <td>0.0</td>\n",
       "      <td>1</td>\n",
       "    </tr>\n",
       "    <tr>\n",
       "      <th>3</th>\n",
       "      <td>Female</td>\n",
       "      <td>Loyal Customer</td>\n",
       "      <td>25</td>\n",
       "      <td>Business travel</td>\n",
       "      <td>Business</td>\n",
       "      <td>562</td>\n",
       "      <td>2</td>\n",
       "      <td>5</td>\n",
       "      <td>2</td>\n",
       "      <td>2</td>\n",
       "      <td>2</td>\n",
       "      <td>2</td>\n",
       "      <td>2</td>\n",
       "      <td>5</td>\n",
       "      <td>3</td>\n",
       "      <td>1</td>\n",
       "      <td>4</td>\n",
       "      <td>2</td>\n",
       "      <td>9.0</td>\n",
       "      <td>0</td>\n",
       "    </tr>\n",
       "    <tr>\n",
       "      <th>4</th>\n",
       "      <td>Male</td>\n",
       "      <td>Loyal Customer</td>\n",
       "      <td>61</td>\n",
       "      <td>Business travel</td>\n",
       "      <td>Business</td>\n",
       "      <td>214</td>\n",
       "      <td>3</td>\n",
       "      <td>3</td>\n",
       "      <td>4</td>\n",
       "      <td>5</td>\n",
       "      <td>5</td>\n",
       "      <td>3</td>\n",
       "      <td>3</td>\n",
       "      <td>4</td>\n",
       "      <td>4</td>\n",
       "      <td>3</td>\n",
       "      <td>3</td>\n",
       "      <td>3</td>\n",
       "      <td>0.0</td>\n",
       "      <td>1</td>\n",
       "    </tr>\n",
       "  </tbody>\n",
       "</table>\n",
       "</div>"
      ],
      "text/plain": [
       "   gender      customer_type  age   type_of_travel     class  flight_distance  \\\n",
       "0    Male     Loyal Customer   13  Personal Travel  Eco Plus              460   \n",
       "1    Male  disloyal Customer   25  Business travel  Business              235   \n",
       "2  Female     Loyal Customer   26  Business travel  Business             1142   \n",
       "3  Female     Loyal Customer   25  Business travel  Business              562   \n",
       "4    Male     Loyal Customer   61  Business travel  Business              214   \n",
       "\n",
       "   inflight_wifi_service  ease_of_online_booking  food_and_drink  \\\n",
       "0                      3                       3               5   \n",
       "1                      3                       3               1   \n",
       "2                      2                       2               5   \n",
       "3                      2                       5               2   \n",
       "4                      3                       3               4   \n",
       "\n",
       "   online_boarding  seat_comfort  inflight_entertainment  on-board_service  \\\n",
       "0                3             5                       5                 4   \n",
       "1                3             1                       1                 1   \n",
       "2                5             5                       5                 4   \n",
       "3                2             2                       2                 2   \n",
       "4                5             5                       3                 3   \n",
       "\n",
       "   leg_room_service  baggage_handling  checkin_service  inflight_service  \\\n",
       "0                 3                 4                4                 5   \n",
       "1                 5                 3                1                 4   \n",
       "2                 3                 4                4                 4   \n",
       "3                 5                 3                1                 4   \n",
       "4                 4                 4                3                 3   \n",
       "\n",
       "   cleanliness  arrival_delay_in_minutes  satisfaction  \n",
       "0            5                      18.0             0  \n",
       "1            1                       6.0             0  \n",
       "2            5                       0.0             1  \n",
       "3            2                       9.0             0  \n",
       "4            3                       0.0             1  "
      ]
     },
     "execution_count": 10,
     "metadata": {},
     "output_type": "execute_result"
    }
   ],
   "source": [
    "# 변수 제거: id, departure/arrival_time_convenient, gate_location, departure_delay_in_minutes\n",
    "drop_cols = ['id', 'departure/arrival_time_convenient', 'gate_location', 'departure_delay_in_minutes']\n",
    "\n",
    "data.drop(columns=drop_cols, axis=1, inplace=True)\n",
    "# 확인\n",
    "data.head()"
   ]
  },
  {
   "cell_type": "code",
   "execution_count": 11,
   "metadata": {
    "tags": []
   },
   "outputs": [
    {
     "data": {
      "text/plain": [
       "gender                      0\n",
       "customer_type               0\n",
       "age                         0\n",
       "type_of_travel              0\n",
       "class                       0\n",
       "flight_distance             0\n",
       "inflight_wifi_service       0\n",
       "ease_of_online_booking      0\n",
       "food_and_drink              0\n",
       "online_boarding             0\n",
       "seat_comfort                0\n",
       "inflight_entertainment      0\n",
       "on-board_service            0\n",
       "leg_room_service            0\n",
       "baggage_handling            0\n",
       "checkin_service             0\n",
       "inflight_service            0\n",
       "cleanliness                 0\n",
       "arrival_delay_in_minutes    6\n",
       "satisfaction                0\n",
       "dtype: int64"
      ]
     },
     "execution_count": 11,
     "metadata": {},
     "output_type": "execute_result"
    }
   ],
   "source": [
    "data.isna().sum()"
   ]
  },
  {
   "cell_type": "code",
   "execution_count": null,
   "metadata": {
    "tags": []
   },
   "outputs": [],
   "source": []
  },
  {
   "cell_type": "markdown",
   "metadata": {
    "id": "cFKMHYToo-BW"
   },
   "source": [
    "**2) 결측치 제거**"
   ]
  },
  {
   "cell_type": "code",
   "execution_count": 17,
   "metadata": {
    "id": "_cabTQRjo-BW",
    "tags": []
   },
   "outputs": [],
   "source": [
    "# 결측치 제거\n",
    "data['arrival_delay_in_minutes'] = data['arrival_delay_in_minutes'].fillna(method='ffill')"
   ]
  },
  {
   "cell_type": "code",
   "execution_count": 18,
   "metadata": {
    "tags": []
   },
   "outputs": [
    {
     "data": {
      "text/plain": [
       "gender                      0\n",
       "customer_type               0\n",
       "age                         0\n",
       "type_of_travel              0\n",
       "class                       0\n",
       "flight_distance             0\n",
       "inflight_wifi_service       0\n",
       "ease_of_online_booking      0\n",
       "food_and_drink              0\n",
       "online_boarding             0\n",
       "seat_comfort                0\n",
       "inflight_entertainment      0\n",
       "on-board_service            0\n",
       "leg_room_service            0\n",
       "baggage_handling            0\n",
       "checkin_service             0\n",
       "inflight_service            0\n",
       "cleanliness                 0\n",
       "arrival_delay_in_minutes    0\n",
       "satisfaction                0\n",
       "dtype: int64"
      ]
     },
     "execution_count": 18,
     "metadata": {},
     "output_type": "execute_result"
    }
   ],
   "source": [
    "# 확인\n",
    "data.isna().sum()"
   ]
  },
  {
   "cell_type": "markdown",
   "metadata": {
    "id": "qbyV3l1m1b03"
   },
   "source": [
    "**3) x, y 분리**"
   ]
  },
  {
   "cell_type": "code",
   "execution_count": 19,
   "metadata": {
    "id": "B1oiY7x4uO8m",
    "tags": []
   },
   "outputs": [],
   "source": [
    "# Target 설정\n",
    "target = 'satisfaction'\n",
    "\n",
    "# 데이터 분리\n",
    "x = data.drop(target, axis=1)\n",
    "y = data[target]"
   ]
  },
  {
   "cell_type": "markdown",
   "metadata": {
    "id": "IR20q7PHo-BW"
   },
   "source": [
    "**4) 가변수화**"
   ]
  },
  {
   "cell_type": "code",
   "execution_count": 20,
   "metadata": {
    "id": "rHciagMUo-BW",
    "tags": []
   },
   "outputs": [
    {
     "data": {
      "text/html": [
       "<div>\n",
       "<style scoped>\n",
       "    .dataframe tbody tr th:only-of-type {\n",
       "        vertical-align: middle;\n",
       "    }\n",
       "\n",
       "    .dataframe tbody tr th {\n",
       "        vertical-align: top;\n",
       "    }\n",
       "\n",
       "    .dataframe thead th {\n",
       "        text-align: right;\n",
       "    }\n",
       "</style>\n",
       "<table border=\"1\" class=\"dataframe\">\n",
       "  <thead>\n",
       "    <tr style=\"text-align: right;\">\n",
       "      <th></th>\n",
       "      <th>age</th>\n",
       "      <th>flight_distance</th>\n",
       "      <th>inflight_wifi_service</th>\n",
       "      <th>ease_of_online_booking</th>\n",
       "      <th>food_and_drink</th>\n",
       "      <th>online_boarding</th>\n",
       "      <th>seat_comfort</th>\n",
       "      <th>inflight_entertainment</th>\n",
       "      <th>on-board_service</th>\n",
       "      <th>leg_room_service</th>\n",
       "      <th>baggage_handling</th>\n",
       "      <th>checkin_service</th>\n",
       "      <th>inflight_service</th>\n",
       "      <th>cleanliness</th>\n",
       "      <th>arrival_delay_in_minutes</th>\n",
       "      <th>gender_Male</th>\n",
       "      <th>customer_type_disloyal Customer</th>\n",
       "      <th>type_of_travel_Personal Travel</th>\n",
       "      <th>class_Eco</th>\n",
       "      <th>class_Eco Plus</th>\n",
       "    </tr>\n",
       "  </thead>\n",
       "  <tbody>\n",
       "    <tr>\n",
       "      <th>0</th>\n",
       "      <td>13</td>\n",
       "      <td>460</td>\n",
       "      <td>3</td>\n",
       "      <td>3</td>\n",
       "      <td>5</td>\n",
       "      <td>3</td>\n",
       "      <td>5</td>\n",
       "      <td>5</td>\n",
       "      <td>4</td>\n",
       "      <td>3</td>\n",
       "      <td>4</td>\n",
       "      <td>4</td>\n",
       "      <td>5</td>\n",
       "      <td>5</td>\n",
       "      <td>18.0</td>\n",
       "      <td>1</td>\n",
       "      <td>0</td>\n",
       "      <td>1</td>\n",
       "      <td>0</td>\n",
       "      <td>1</td>\n",
       "    </tr>\n",
       "    <tr>\n",
       "      <th>1</th>\n",
       "      <td>25</td>\n",
       "      <td>235</td>\n",
       "      <td>3</td>\n",
       "      <td>3</td>\n",
       "      <td>1</td>\n",
       "      <td>3</td>\n",
       "      <td>1</td>\n",
       "      <td>1</td>\n",
       "      <td>1</td>\n",
       "      <td>5</td>\n",
       "      <td>3</td>\n",
       "      <td>1</td>\n",
       "      <td>4</td>\n",
       "      <td>1</td>\n",
       "      <td>6.0</td>\n",
       "      <td>1</td>\n",
       "      <td>1</td>\n",
       "      <td>0</td>\n",
       "      <td>0</td>\n",
       "      <td>0</td>\n",
       "    </tr>\n",
       "    <tr>\n",
       "      <th>2</th>\n",
       "      <td>26</td>\n",
       "      <td>1142</td>\n",
       "      <td>2</td>\n",
       "      <td>2</td>\n",
       "      <td>5</td>\n",
       "      <td>5</td>\n",
       "      <td>5</td>\n",
       "      <td>5</td>\n",
       "      <td>4</td>\n",
       "      <td>3</td>\n",
       "      <td>4</td>\n",
       "      <td>4</td>\n",
       "      <td>4</td>\n",
       "      <td>5</td>\n",
       "      <td>0.0</td>\n",
       "      <td>0</td>\n",
       "      <td>0</td>\n",
       "      <td>0</td>\n",
       "      <td>0</td>\n",
       "      <td>0</td>\n",
       "    </tr>\n",
       "    <tr>\n",
       "      <th>3</th>\n",
       "      <td>25</td>\n",
       "      <td>562</td>\n",
       "      <td>2</td>\n",
       "      <td>5</td>\n",
       "      <td>2</td>\n",
       "      <td>2</td>\n",
       "      <td>2</td>\n",
       "      <td>2</td>\n",
       "      <td>2</td>\n",
       "      <td>5</td>\n",
       "      <td>3</td>\n",
       "      <td>1</td>\n",
       "      <td>4</td>\n",
       "      <td>2</td>\n",
       "      <td>9.0</td>\n",
       "      <td>0</td>\n",
       "      <td>0</td>\n",
       "      <td>0</td>\n",
       "      <td>0</td>\n",
       "      <td>0</td>\n",
       "    </tr>\n",
       "    <tr>\n",
       "      <th>4</th>\n",
       "      <td>61</td>\n",
       "      <td>214</td>\n",
       "      <td>3</td>\n",
       "      <td>3</td>\n",
       "      <td>4</td>\n",
       "      <td>5</td>\n",
       "      <td>5</td>\n",
       "      <td>3</td>\n",
       "      <td>3</td>\n",
       "      <td>4</td>\n",
       "      <td>4</td>\n",
       "      <td>3</td>\n",
       "      <td>3</td>\n",
       "      <td>3</td>\n",
       "      <td>0.0</td>\n",
       "      <td>1</td>\n",
       "      <td>0</td>\n",
       "      <td>0</td>\n",
       "      <td>0</td>\n",
       "      <td>0</td>\n",
       "    </tr>\n",
       "  </tbody>\n",
       "</table>\n",
       "</div>"
      ],
      "text/plain": [
       "   age  flight_distance  inflight_wifi_service  ease_of_online_booking  \\\n",
       "0   13              460                      3                       3   \n",
       "1   25              235                      3                       3   \n",
       "2   26             1142                      2                       2   \n",
       "3   25              562                      2                       5   \n",
       "4   61              214                      3                       3   \n",
       "\n",
       "   food_and_drink  online_boarding  seat_comfort  inflight_entertainment  \\\n",
       "0               5                3             5                       5   \n",
       "1               1                3             1                       1   \n",
       "2               5                5             5                       5   \n",
       "3               2                2             2                       2   \n",
       "4               4                5             5                       3   \n",
       "\n",
       "   on-board_service  leg_room_service  baggage_handling  checkin_service  \\\n",
       "0                 4                 3                 4                4   \n",
       "1                 1                 5                 3                1   \n",
       "2                 4                 3                 4                4   \n",
       "3                 2                 5                 3                1   \n",
       "4                 3                 4                 4                3   \n",
       "\n",
       "   inflight_service  cleanliness  arrival_delay_in_minutes  gender_Male  \\\n",
       "0                 5            5                      18.0            1   \n",
       "1                 4            1                       6.0            1   \n",
       "2                 4            5                       0.0            0   \n",
       "3                 4            2                       9.0            0   \n",
       "4                 3            3                       0.0            1   \n",
       "\n",
       "   customer_type_disloyal Customer  type_of_travel_Personal Travel  class_Eco  \\\n",
       "0                                0                               1          0   \n",
       "1                                1                               0          0   \n",
       "2                                0                               0          0   \n",
       "3                                0                               0          0   \n",
       "4                                0                               0          0   \n",
       "\n",
       "   class_Eco Plus  \n",
       "0               1  \n",
       "1               0  \n",
       "2               0  \n",
       "3               0  \n",
       "4               0  "
      ]
     },
     "execution_count": 20,
     "metadata": {},
     "output_type": "execute_result"
    }
   ],
   "source": [
    "# 가변수화 대상: gender, customer_type, type_of_travel, class\n",
    "dumm_cols = ['gender', 'customer_type', 'type_of_travel', 'class']\n",
    "\n",
    "# 가변수화\n",
    "x = pd.get_dummies(x, columns=dumm_cols, drop_first=True, dtype=int)\n",
    "\n",
    "# 확인\n",
    "x.head()"
   ]
  },
  {
   "cell_type": "markdown",
   "metadata": {
    "id": "JyUW2Hxm1hIW"
   },
   "source": [
    "**5) 학습용, 평가용 데이터 분리**"
   ]
  },
  {
   "cell_type": "code",
   "execution_count": 21,
   "metadata": {
    "id": "vGgJGFX5ZAn8",
    "tags": []
   },
   "outputs": [],
   "source": [
    "# 모듈 불러오기\n",
    "from sklearn.model_selection import train_test_split\n",
    "\n",
    "# 7:3으로 분리\n",
    "x_train, x_test, y_train, y_test = train_test_split(x, y, random_state=1, test_size=0.3)"
   ]
  },
  {
   "cell_type": "markdown",
   "metadata": {
    "id": "MiOvRRzso-BW"
   },
   "source": [
    "**6) 정규화**"
   ]
  },
  {
   "cell_type": "code",
   "execution_count": 22,
   "metadata": {
    "id": "ErKzbKJIFL2B",
    "tags": []
   },
   "outputs": [],
   "source": [
    "# 모듈 불러오기\n",
    "from sklearn.preprocessing import MinMaxScaler\n",
    "\n",
    "# 정규화\n",
    "scaler = MinMaxScaler()\n",
    "x_train_s = scaler.fit_transform(x_train)\n",
    "x_test_s = scaler.transform(x_test)\n"
   ]
  },
  {
   "cell_type": "markdown",
   "metadata": {
    "id": "BYr1vtpd8uw4",
    "tags": []
   },
   "source": [
    "# 4.성능 예측\n",
    "\n",
    "- 여러 알고리즘으로 모델을 만들고 K-Fold CV로 성능을 예측합니다.\n",
    "- 하이퍼파라미터를 설정하지 않고 진행합니다.\n",
    "- 각 모델의 성능 정보를 수집해 마지막에 비교합니다."
   ]
  },
  {
   "cell_type": "code",
   "execution_count": 23,
   "metadata": {
    "id": "-vHhNXU_o-BX",
    "tags": []
   },
   "outputs": [],
   "source": [
    "# xgboost 설치\n",
    "# !pip install xgboost"
   ]
  },
  {
   "cell_type": "code",
   "execution_count": 24,
   "metadata": {
    "id": "1HIlmyMIo-BX",
    "tags": []
   },
   "outputs": [],
   "source": [
    "# lightgbm 설치\n",
    "# !pip install lightgbm"
   ]
  },
  {
   "cell_type": "markdown",
   "metadata": {
    "id": "zGh7p4AWo-BX"
   },
   "source": [
    "- 이후 사용할 함수를 모두 불러옵니다."
   ]
  },
  {
   "cell_type": "code",
   "execution_count": 25,
   "metadata": {
    "id": "3mn7dVsSo-BX",
    "tags": []
   },
   "outputs": [],
   "source": [
    "# 불러오기\n",
    "from sklearn.neighbors import KNeighborsClassifier\n",
    "from sklearn.tree import DecisionTreeClassifier\n",
    "from sklearn.linear_model import LogisticRegression\n",
    "from sklearn.ensemble import RandomForestClassifier\n",
    "from sklearn.metrics import *\n",
    "from sklearn.model_selection import cross_val_score, GridSearchCV\n",
    "from xgboost import XGBClassifier\n",
    "from lightgbm import LGBMClassifier\n",
    "\n",
    "\n"
   ]
  },
  {
   "cell_type": "markdown",
   "metadata": {
    "id": "9pqwajKFyK4F"
   },
   "source": [
    "**1) KNN**\n",
    "\n",
    "- KNN 알고리즘으로 모델링하고 K-Fold CV로 성능을 검증합니다."
   ]
  },
  {
   "cell_type": "code",
   "execution_count": 26,
   "metadata": {
    "id": "ziotuce6yK4G",
    "tags": []
   },
   "outputs": [],
   "source": [
    "# 선언하기\n",
    "model_knn = KNeighborsClassifier(n_neighbors=5)"
   ]
  },
  {
   "cell_type": "code",
   "execution_count": 27,
   "metadata": {
    "id": "J-zashLGyK4H",
    "tags": []
   },
   "outputs": [],
   "source": [
    "# 성능예측\n",
    "cv_score = cross_val_score(model_knn, x_train_s, y_train, cv=5)"
   ]
  },
  {
   "cell_type": "code",
   "execution_count": 28,
   "metadata": {
    "id": "Irm5YCAeo-BX",
    "tags": []
   },
   "outputs": [
    {
     "name": "stdout",
     "output_type": "stream",
     "text": [
      "[0.8839779  0.86980609 0.89473684 0.88919668 0.91135734]\n",
      "0.8898149706922147\n"
     ]
    }
   ],
   "source": [
    "# 결과확인\n",
    "print(cv_score)\n",
    "print(cv_score.mean())"
   ]
  },
  {
   "cell_type": "code",
   "execution_count": 30,
   "metadata": {
    "id": "2KMvCx_-yK4H",
    "tags": []
   },
   "outputs": [],
   "source": [
    "# 결과수집\n",
    "result = {}\n",
    "result['KNN'] = cv_score.mean()"
   ]
  },
  {
   "cell_type": "markdown",
   "metadata": {
    "id": "_2Dzy1phyWRM"
   },
   "source": [
    "**2) Decision Tree**\n",
    "\n",
    "- Decision Tree 알고리즘으로 모델링하고 K-Fold CV로 성능을 검증합니다."
   ]
  },
  {
   "cell_type": "code",
   "execution_count": 31,
   "metadata": {
    "id": "wFMRZVcZo-BX",
    "tags": []
   },
   "outputs": [],
   "source": [
    "# 선언하기\n",
    "model_dt = DecisionTreeClassifier(random_state=1)"
   ]
  },
  {
   "cell_type": "code",
   "execution_count": 32,
   "metadata": {
    "id": "4BSQ9S9po-BX",
    "tags": []
   },
   "outputs": [],
   "source": [
    "# 성능예측\n",
    "cv_score = cross_val_score(model_dt, x_train, y_train, cv=5)"
   ]
  },
  {
   "cell_type": "code",
   "execution_count": 33,
   "metadata": {
    "id": "XZvy99dQo-BX",
    "tags": []
   },
   "outputs": [
    {
     "name": "stdout",
     "output_type": "stream",
     "text": [
      "[0.90055249 0.88919668 0.88365651 0.89196676 0.90581717]\n",
      "0.8942379210602838\n"
     ]
    }
   ],
   "source": [
    "# 결과확인\n",
    "print(cv_score)\n",
    "print(cv_score.mean())"
   ]
  },
  {
   "cell_type": "code",
   "execution_count": 34,
   "metadata": {
    "id": "SrUah9dEo-BX",
    "tags": []
   },
   "outputs": [],
   "source": [
    "# 결과수집\n",
    "result['Decision Tree'] = cv_score.mean()"
   ]
  },
  {
   "cell_type": "markdown",
   "metadata": {
    "id": "-7sIgnuno-BY"
   },
   "source": [
    "**3) Logistic Regression**\n",
    "\n",
    "- Logistic Regression 알고리즘으로 모델링하고 K-Fold CV로 성능을 검증합니다."
   ]
  },
  {
   "cell_type": "code",
   "execution_count": 35,
   "metadata": {
    "id": "9yxxDXjUo-BY",
    "tags": []
   },
   "outputs": [],
   "source": [
    "# 선언하기\n",
    "model_lr = LogisticRegression()"
   ]
  },
  {
   "cell_type": "code",
   "execution_count": 36,
   "metadata": {
    "id": "gQYEExduo-BY",
    "tags": []
   },
   "outputs": [],
   "source": [
    "# 성능예측\n",
    "cv_score = cross_val_score(model_lr, x_train, y_train, cv=5)"
   ]
  },
  {
   "cell_type": "code",
   "execution_count": 37,
   "metadata": {
    "id": "Zk-kwcbno-BY",
    "tags": []
   },
   "outputs": [
    {
     "name": "stdout",
     "output_type": "stream",
     "text": [
      "[0.80662983 0.85595568 0.81163435 0.83933518 0.86426593]\n",
      "0.8355641939976431\n"
     ]
    }
   ],
   "source": [
    "# 결과확인\n",
    "print(cv_score)\n",
    "print(cv_score.mean())"
   ]
  },
  {
   "cell_type": "code",
   "execution_count": 38,
   "metadata": {
    "id": "4hiPgE1Zo-BY",
    "tags": []
   },
   "outputs": [],
   "source": [
    "# 결과수집\n",
    "result['Logistic Regression'] = cv_score.mean()"
   ]
  },
  {
   "cell_type": "markdown",
   "metadata": {
    "id": "b0crO5W_ygXk"
   },
   "source": [
    "**4) Random Forest**\n",
    "\n",
    "- Random Forest 알고리즘으로 모델링하고 K-Fold CV로 성능을 검증합니다."
   ]
  },
  {
   "cell_type": "code",
   "execution_count": 39,
   "metadata": {
    "id": "lZhEcAv7o-BY",
    "tags": []
   },
   "outputs": [],
   "source": [
    "# 선언하기\n",
    "model_rf = RandomForestClassifier(random_state=1)"
   ]
  },
  {
   "cell_type": "code",
   "execution_count": 40,
   "metadata": {
    "id": "nsOUDhrbo-BY",
    "tags": []
   },
   "outputs": [],
   "source": [
    "# 성능예측\n",
    "cv_score = cross_val_score(model_rf, x_train, y_train, cv=5)"
   ]
  },
  {
   "cell_type": "code",
   "execution_count": 41,
   "metadata": {
    "id": "DLQxERa2o-BY",
    "tags": []
   },
   "outputs": [
    {
     "name": "stdout",
     "output_type": "stream",
     "text": [
      "[0.93093923 0.91966759 0.93074792 0.91689751 0.93905817]\n",
      "0.9274620835310141\n"
     ]
    }
   ],
   "source": [
    "# 결과확인\n",
    "print(cv_score)\n",
    "print(cv_score.mean())"
   ]
  },
  {
   "cell_type": "code",
   "execution_count": 42,
   "metadata": {
    "id": "vzaMREUHo-BY",
    "tags": []
   },
   "outputs": [],
   "source": [
    "# 결과수집\n",
    "result['Random Forest'] = cv_score.mean()"
   ]
  },
  {
   "cell_type": "markdown",
   "metadata": {
    "id": "OfBvePtkys70"
   },
   "source": [
    "**5) XGBoost**\n",
    "\n",
    "- XGBoost 알고리즘으로 모델링하고 K-Fold CV로 성능을 검증합니다."
   ]
  },
  {
   "cell_type": "code",
   "execution_count": 44,
   "metadata": {
    "id": "R4SpqzEao-BY",
    "tags": []
   },
   "outputs": [],
   "source": [
    "# 선언하기\n",
    "model_xgb = XGBClassifier(random_state=1)"
   ]
  },
  {
   "cell_type": "code",
   "execution_count": 45,
   "metadata": {
    "id": "ppOx3uFMo-BY",
    "tags": []
   },
   "outputs": [],
   "source": [
    "# 성능예측\n",
    "cv_score = cross_val_score(model_xgb, x_train, y_train, cv=5)"
   ]
  },
  {
   "cell_type": "code",
   "execution_count": 46,
   "metadata": {
    "id": "Fjw5VdRIo-BY",
    "tags": []
   },
   "outputs": [
    {
     "name": "stdout",
     "output_type": "stream",
     "text": [
      "[0.93922652 0.93074792 0.93074792 0.91966759 0.95290859]\n",
      "0.9346597082995363\n"
     ]
    }
   ],
   "source": [
    "# 결과확인\n",
    "print(cv_score)\n",
    "print(cv_score.mean())"
   ]
  },
  {
   "cell_type": "code",
   "execution_count": 47,
   "metadata": {
    "id": "XwAY1Nklo-BZ",
    "tags": []
   },
   "outputs": [],
   "source": [
    "# 결과수집\n",
    "result['XGBoost'] = cv_score.mean()"
   ]
  },
  {
   "cell_type": "markdown",
   "metadata": {
    "id": "TEoBeCLIo-BZ"
   },
   "source": [
    "**6) LightGBM**\n",
    "\n",
    "- LightGBM 알고리즘으로 모델링하고 K-Fold CV로 성능을 검증합니다."
   ]
  },
  {
   "cell_type": "code",
   "execution_count": 48,
   "metadata": {
    "id": "cRFfRPkXo-BZ",
    "tags": []
   },
   "outputs": [],
   "source": [
    "# 선언하기\n",
    "model_lgbm = LGBMClassifier(random_state=1, verbose=-1)"
   ]
  },
  {
   "cell_type": "code",
   "execution_count": 49,
   "metadata": {
    "id": "PmdkjWYao-BZ",
    "tags": []
   },
   "outputs": [],
   "source": [
    "# 성능예측\n",
    "cv_score = cross_val_score(model_lgbm, x_train, y_train, cv=5)"
   ]
  },
  {
   "cell_type": "code",
   "execution_count": 50,
   "metadata": {
    "id": "0TU3d9zdo-BZ",
    "tags": []
   },
   "outputs": [
    {
     "name": "stdout",
     "output_type": "stream",
     "text": [
      "[0.94198895 0.93351801 0.93628809 0.90581717 0.95290859]\n",
      "0.9341041612463844\n"
     ]
    }
   ],
   "source": [
    "# 결과확인\n",
    "print(cv_score)\n",
    "print(cv_score.mean())"
   ]
  },
  {
   "cell_type": "code",
   "execution_count": 51,
   "metadata": {
    "id": "PzLaGxUUo-BZ",
    "tags": []
   },
   "outputs": [],
   "source": [
    "# 결과수집\n",
    "result['LightGBM'] = cv_score.mean()"
   ]
  },
  {
   "cell_type": "markdown",
   "metadata": {
    "id": "1dYmU-6vo-BZ"
   },
   "source": [
    "# 5.결과 확인\n",
    "\n",
    "- 예측된 각 모델의 성능을 비교합니다."
   ]
  },
  {
   "cell_type": "code",
   "execution_count": 52,
   "metadata": {
    "id": "0fqRv36go-BZ",
    "tags": []
   },
   "outputs": [
    {
     "name": "stdout",
     "output_type": "stream",
     "text": [
      "========================================\n",
      "KNN 0.89\n",
      "Decision Tree 0.894\n",
      "Logistic Regression 0.836\n",
      "Random Forest 0.927\n",
      "XGBoost 0.935\n",
      "LightGBM 0.934\n",
      "========================================\n"
     ]
    }
   ],
   "source": [
    "# 성능 비교\n",
    "print('=' * 40)\n",
    "for m_name, score in result.items():\n",
    "    print(m_name, score.round(3))\n",
    "print('=' * 40)"
   ]
  },
  {
   "cell_type": "code",
   "execution_count": 53,
   "metadata": {
    "id": "cbi6mrJ5o-BZ",
    "tags": []
   },
   "outputs": [
    {
     "data": {
      "image/png": "[encoded data removed]",
      "text/plain": [
       "<Figure size 640x480 with 1 Axes>"
      ]
     },
     "metadata": {
      "image/png": {
       "height": 413,
       "width": 659
      }
     },
     "output_type": "display_data"
    }
   ],
   "source": [
    "# 성능 시각화 비교\n",
    "plt.barh(list(result.keys()), result.values())\n",
    "plt.show()"
   ]
  },
  {
   "cell_type": "markdown",
   "metadata": {
    "id": "oinKI1UJo-BZ"
   },
   "source": [
    "# 6.성능 튜닝\n",
    "\n",
    "- 위에서 성능이 가장 좋을 것으로 예측된 모델을 튜닝합니다.\n",
    "- 본 실습에서는 XGBoost 모델 성능을 튜닝합니다."
   ]
  },
  {
   "cell_type": "code",
   "execution_count": 54,
   "metadata": {
    "id": "VHRXMuIUo-BZ",
    "tags": []
   },
   "outputs": [],
   "source": [
    "# 기본 모델 선언\n",
    "model_xgb = XGBClassifier(random_state=1)\n",
    "\n",
    "# 파라미터 지정\n",
    "  # max_depth: range(1, 21)\n",
    "param = {'max_depth': range(1, 20)}\n",
    "\n",
    "# 모델 선언\n",
    "model = GridSearchCV(model_xgb,\n",
    "                     param,\n",
    "                     cv=5\n",
    "                    )\n"
   ]
  },
  {
   "cell_type": "code",
   "execution_count": 55,
   "metadata": {
    "id": "5TPmwpWpo-BZ",
    "tags": []
   },
   "outputs": [
    {
     "data": {
      "text/html": [
       "<style>#sk-container-id-1 {color: black;}#sk-container-id-1 pre{padding: 0;}#sk-container-id-1 div.sk-toggleable {background-color: white;}#sk-container-id-1 label.sk-toggleable__label {cursor: pointer;display: block;width: 100%;margin-bottom: 0;padding: 0.3em;box-sizing: border-box;text-align: center;}#sk-container-id-1 label.sk-toggleable__label-arrow:before {content: \"▸\";float: left;margin-right: 0.25em;color: #696969;}#sk-container-id-1 label.sk-toggleable__label-arrow:hover:before {color: black;}#sk-container-id-1 div.sk-estimator:hover label.sk-toggleable__label-arrow:before {color: black;}#sk-container-id-1 div.sk-toggleable__content {max-height: 0;max-width: 0;overflow: hidden;text-align: left;background-color: #f0f8ff;}#sk-container-id-1 div.sk-toggleable__content pre {margin: 0.2em;color: black;border-radius: 0.25em;background-color: #f0f8ff;}#sk-container-id-1 input.sk-toggleable__control:checked~div.sk-toggleable__content {max-height: 200px;max-width: 100%;overflow: auto;}#sk-container-id-1 input.sk-toggleable__control:checked~label.sk-toggleable__label-arrow:before {content: \"▾\";}#sk-container-id-1 div.sk-estimator input.sk-toggleable__control:checked~label.sk-toggleable__label {background-color: #d4ebff;}#sk-container-id-1 div.sk-label input.sk-toggleable__control:checked~label.sk-toggleable__label {background-color: #d4ebff;}#sk-container-id-1 input.sk-hidden--visually {border: 0;clip: rect(1px 1px 1px 1px);clip: rect(1px, 1px, 1px, 1px);height: 1px;margin: -1px;overflow: hidden;padding: 0;position: absolute;width: 1px;}#sk-container-id-1 div.sk-estimator {font-family: monospace;background-color: #f0f8ff;border: 1px dotted black;border-radius: 0.25em;box-sizing: border-box;margin-bottom: 0.5em;}#sk-container-id-1 div.sk-estimator:hover {background-color: #d4ebff;}#sk-container-id-1 div.sk-parallel-item::after {content: \"\";width: 100%;border-bottom: 1px solid gray;flex-grow: 1;}#sk-container-id-1 div.sk-label:hover label.sk-toggleable__label {background-color: #d4ebff;}#sk-container-id-1 div.sk-serial::before {content: \"\";position: absolute;border-left: 1px solid gray;box-sizing: border-box;top: 0;bottom: 0;left: 50%;z-index: 0;}#sk-container-id-1 div.sk-serial {display: flex;flex-direction: column;align-items: center;background-color: white;padding-right: 0.2em;padding-left: 0.2em;position: relative;}#sk-container-id-1 div.sk-item {position: relative;z-index: 1;}#sk-container-id-1 div.sk-parallel {display: flex;align-items: stretch;justify-content: center;background-color: white;position: relative;}#sk-container-id-1 div.sk-item::before, #sk-container-id-1 div.sk-parallel-item::before {content: \"\";position: absolute;border-left: 1px solid gray;box-sizing: border-box;top: 0;bottom: 0;left: 50%;z-index: -1;}#sk-container-id-1 div.sk-parallel-item {display: flex;flex-direction: column;z-index: 1;position: relative;background-color: white;}#sk-container-id-1 div.sk-parallel-item:first-child::after {align-self: flex-end;width: 50%;}#sk-container-id-1 div.sk-parallel-item:last-child::after {align-self: flex-start;width: 50%;}#sk-container-id-1 div.sk-parallel-item:only-child::after {width: 0;}#sk-container-id-1 div.sk-dashed-wrapped {border: 1px dashed gray;margin: 0 0.4em 0.5em 0.4em;box-sizing: border-box;padding-bottom: 0.4em;background-color: white;}#sk-container-id-1 div.sk-label label {font-family: monospace;font-weight: bold;display: inline-block;line-height: 1.2em;}#sk-container-id-1 div.sk-label-container {text-align: center;}#sk-container-id-1 div.sk-container {/* jupyter's `normalize.less` sets `[hidden] { display: none; }` but bootstrap.min.css set `[hidden] { display: none !important; }` so we also need the `!important` here to be able to override the default hidden behavior on the sphinx rendered scikit-learn.org. See: https://github.com/scikit-learn/scikit-learn/issues/21755 */display: inline-block !important;position: relative;}#sk-container-id-1 div.sk-text-repr-fallback {display: none;}</style><div id=\"sk-container-id-1\" class=\"sk-top-container\"><div class=\"sk-text-repr-fallback\"><pre>GridSearchCV(cv=5,\n",
       "             estimator=XGBClassifier(base_score=None, booster=None,\n",
       "                                     callbacks=None, colsample_bylevel=None,\n",
       "                                     colsample_bynode=None,\n",
       "                                     colsample_bytree=None, device=None,\n",
       "                                     early_stopping_rounds=None,\n",
       "                                     enable_categorical=False, eval_metric=None,\n",
       "                                     feature_types=None, gamma=None,\n",
       "                                     grow_policy=None, importance_type=None,\n",
       "                                     interaction_constraints=None,\n",
       "                                     learning_rate=None, max_bin=None,\n",
       "                                     max_cat_threshold=None,\n",
       "                                     max_cat_to_onehot=None,\n",
       "                                     max_delta_step=None, max_depth=None,\n",
       "                                     max_leaves=None, min_child_weight=None,\n",
       "                                     missing=nan, monotone_constraints=None,\n",
       "                                     multi_strategy=None, n_estimators=None,\n",
       "                                     n_jobs=None, num_parallel_tree=None,\n",
       "                                     random_state=1, ...),\n",
       "             param_grid={&#x27;max_depth&#x27;: range(1, 20)})</pre><b>In a Jupyter environment, please rerun this cell to show the HTML representation or trust the notebook. <br />On GitHub, the HTML representation is unable to render, please try loading this page with nbviewer.org.</b></div><div class=\"sk-container\" hidden><div class=\"sk-item sk-dashed-wrapped\"><div class=\"sk-label-container\"><div class=\"sk-label sk-toggleable\"><input class=\"sk-toggleable__control sk-hidden--visually\" id=\"sk-estimator-id-1\" type=\"checkbox\" ><label for=\"sk-estimator-id-1\" class=\"sk-toggleable__label sk-toggleable__label-arrow\">GridSearchCV</label><div class=\"sk-toggleable__content\"><pre>GridSearchCV(cv=5,\n",
       "             estimator=XGBClassifier(base_score=None, booster=None,\n",
       "                                     callbacks=None, colsample_bylevel=None,\n",
       "                                     colsample_bynode=None,\n",
       "                                     colsample_bytree=None, device=None,\n",
       "                                     early_stopping_rounds=None,\n",
       "                                     enable_categorical=False, eval_metric=None,\n",
       "                                     feature_types=None, gamma=None,\n",
       "                                     grow_policy=None, importance_type=None,\n",
       "                                     interaction_constraints=None,\n",
       "                                     learning_rate=None, max_bin=None,\n",
       "                                     max_cat_threshold=None,\n",
       "                                     max_cat_to_onehot=None,\n",
       "                                     max_delta_step=None, max_depth=None,\n",
       "                                     max_leaves=None, min_child_weight=None,\n",
       "                                     missing=nan, monotone_constraints=None,\n",
       "                                     multi_strategy=None, n_estimators=None,\n",
       "                                     n_jobs=None, num_parallel_tree=None,\n",
       "                                     random_state=1, ...),\n",
       "             param_grid={&#x27;max_depth&#x27;: range(1, 20)})</pre></div></div></div><div class=\"sk-parallel\"><div class=\"sk-parallel-item\"><div class=\"sk-item\"><div class=\"sk-label-container\"><div class=\"sk-label sk-toggleable\"><input class=\"sk-toggleable__control sk-hidden--visually\" id=\"sk-estimator-id-2\" type=\"checkbox\" ><label for=\"sk-estimator-id-2\" class=\"sk-toggleable__label sk-toggleable__label-arrow\">estimator: XGBClassifier</label><div class=\"sk-toggleable__content\"><pre>XGBClassifier(base_score=None, booster=None, callbacks=None,\n",
       "              colsample_bylevel=None, colsample_bynode=None,\n",
       "              colsample_bytree=None, device=None, early_stopping_rounds=None,\n",
       "              enable_categorical=False, eval_metric=None, feature_types=None,\n",
       "              gamma=None, grow_policy=None, importance_type=None,\n",
       "              interaction_constraints=None, learning_rate=None, max_bin=None,\n",
       "              max_cat_threshold=None, max_cat_to_onehot=None,\n",
       "              max_delta_step=None, max_depth=None, max_leaves=None,\n",
       "              min_child_weight=None, missing=nan, monotone_constraints=None,\n",
       "              multi_strategy=None, n_estimators=None, n_jobs=None,\n",
       "              num_parallel_tree=None, random_state=1, ...)</pre></div></div></div><div class=\"sk-serial\"><div class=\"sk-item\"><div class=\"sk-estimator sk-toggleable\"><input class=\"sk-toggleable__control sk-hidden--visually\" id=\"sk-estimator-id-3\" type=\"checkbox\" ><label for=\"sk-estimator-id-3\" class=\"sk-toggleable__label sk-toggleable__label-arrow\">XGBClassifier</label><div class=\"sk-toggleable__content\"><pre>XGBClassifier(base_score=None, booster=None, callbacks=None,\n",
       "              colsample_bylevel=None, colsample_bynode=None,\n",
       "              colsample_bytree=None, device=None, early_stopping_rounds=None,\n",
       "              enable_categorical=False, eval_metric=None, feature_types=None,\n",
       "              gamma=None, grow_policy=None, importance_type=None,\n",
       "              interaction_constraints=None, learning_rate=None, max_bin=None,\n",
       "              max_cat_threshold=None, max_cat_to_onehot=None,\n",
       "              max_delta_step=None, max_depth=None, max_leaves=None,\n",
       "              min_child_weight=None, missing=nan, monotone_constraints=None,\n",
       "              multi_strategy=None, n_estimators=None, n_jobs=None,\n",
       "              num_parallel_tree=None, random_state=1, ...)</pre></div></div></div></div></div></div></div></div></div></div>"
      ],
      "text/plain": [
       "GridSearchCV(cv=5,\n",
       "             estimator=XGBClassifier(base_score=None, booster=None,\n",
       "                                     callbacks=None, colsample_bylevel=None,\n",
       "                                     colsample_bynode=None,\n",
       "                                     colsample_bytree=None, device=None,\n",
       "                                     early_stopping_rounds=None,\n",
       "                                     enable_categorical=False, eval_metric=None,\n",
       "                                     feature_types=None, gamma=None,\n",
       "                                     grow_policy=None, importance_type=None,\n",
       "                                     interaction_constraints=None,\n",
       "                                     learning_rate=None, max_bin=None,\n",
       "                                     max_cat_threshold=None,\n",
       "                                     max_cat_to_onehot=None,\n",
       "                                     max_delta_step=None, max_depth=None,\n",
       "                                     max_leaves=None, min_child_weight=None,\n",
       "                                     missing=nan, monotone_constraints=None,\n",
       "                                     multi_strategy=None, n_estimators=None,\n",
       "                                     n_jobs=None, num_parallel_tree=None,\n",
       "                                     random_state=1, ...),\n",
       "             param_grid={'max_depth': range(1, 20)})"
      ]
     },
     "execution_count": 55,
     "metadata": {},
     "output_type": "execute_result"
    }
   ],
   "source": [
    "# 학습하기(많은 시간이 소요될 수 있음)\n",
    "model.fit(x_train, y_train)"
   ]
  },
  {
   "cell_type": "code",
   "execution_count": 56,
   "metadata": {
    "id": "Srn0VWdwo-BZ",
    "tags": []
   },
   "outputs": [
    {
     "name": "stdout",
     "output_type": "stream",
     "text": [
      "최적 파라미터:  {'max_depth': 5}\n",
      "최고 성능:  0.9363186972957255\n"
     ]
    }
   ],
   "source": [
    "# 최적 파라미터, 예측 최고 성능\n",
    "print('최적 파라미터: ', model.best_params_)\n",
    "print('최고 성능: ', model.best_score_)"
   ]
  },
  {
   "cell_type": "code",
   "execution_count": 57,
   "metadata": {
    "id": "ZNNSqleYo-BZ",
    "tags": []
   },
   "outputs": [
    {
     "data": {
      "image/png": "[encoded data removed]",
      "text/plain": [
       "<Figure size 640x480 with 1 Axes>"
      ]
     },
     "metadata": {
      "image/png": {
       "height": 413,
       "width": 760
      }
     },
     "output_type": "display_data"
    }
   ],
   "source": [
    "# 변수 중요도 시각화\n",
    "plt.barh(y=list(x), width=model.best_estimator_.feature_importances_)\n",
    "plt.show()\n"
   ]
  },
  {
   "cell_type": "markdown",
   "metadata": {
    "id": "WIbRGsI9o-Ba"
   },
   "source": [
    "# 7.성능 평가\n",
    "\n",
    "- 최적 파라미터로 학습된 모델에 대해 최종 성능 평가를 진행합니다."
   ]
  },
  {
   "cell_type": "code",
   "execution_count": 58,
   "metadata": {
    "id": "1FRuELdRo-Ba",
    "tags": []
   },
   "outputs": [],
   "source": [
    "# 예측하기\n",
    "y_pred = model.predict(x_test)"
   ]
  },
  {
   "cell_type": "code",
   "execution_count": 59,
   "metadata": {
    "id": "3qbzFjbYo-Ba",
    "tags": []
   },
   "outputs": [
    {
     "name": "stdout",
     "output_type": "stream",
     "text": [
      "[[407  14]\n",
      " [ 32 321]]\n",
      "              precision    recall  f1-score   support\n",
      "\n",
      "           0       0.93      0.97      0.95       421\n",
      "           1       0.96      0.91      0.93       353\n",
      "\n",
      "    accuracy                           0.94       774\n",
      "   macro avg       0.94      0.94      0.94       774\n",
      "weighted avg       0.94      0.94      0.94       774\n",
      "\n"
     ]
    }
   ],
   "source": [
    "# 성능평가\n",
    "print(confusion_matrix(y_test, y_pred))\n",
    "print(classification_report(y_test, y_pred))"
   ]
  }
 ],
 "metadata": {
  "colab": {
   "provenance": []
  },
  "kernelspec": {
   "display_name": "Python 3 (ipykernel)",
   "language": "python",
   "name": "python3"
  },
  "language_info": {
   "codemirror_mode": {
    "name": "ipython",
    "version": 3
   },
   "file_extension": ".py",
   "mimetype": "text/x-python",
   "name": "python",
   "nbconvert_exporter": "python",
   "pygments_lexer": "ipython3",
   "version": "3.11.5"
  },
  "widgets": {
   "application/vnd.jupyter.widget-state+json": {
    "state": {},
    "version_major": 2,
    "version_minor": 0
   }
  }
 },
 "nbformat": 4,
 "nbformat_minor": 4
}
