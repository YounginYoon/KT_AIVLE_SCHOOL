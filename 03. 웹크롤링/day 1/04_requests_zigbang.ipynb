{
 "cells": [
  {
   "cell_type": "markdown",
   "id": "democratic-utility",
   "metadata": {
    "id": "democratic-utility"
   },
   "source": [
    "## Zigbang 원룸 매물 데이터 수집"
   ]
  },
  {
   "cell_type": "code",
   "execution_count": 1,
   "id": "minor-irrigation",
   "metadata": {
    "id": "minor-irrigation",
    "tags": []
   },
   "outputs": [],
   "source": [
    "import requests\n",
    "import pandas as pd"
   ]
  },
  {
   "cell_type": "markdown",
   "id": "whole-answer",
   "metadata": {
    "id": "whole-answer"
   },
   "source": [
    "#### Process\n",
    "    - 동이름으로 위도 경도 구하기\n",
    "    - 위도 경도로 geohash 알아내기\n",
    "    - geohash로 매물 아이디 가져오기\n",
    "    - 매물 아이디로 매물 정보 가져오기"
   ]
  },
  {
   "cell_type": "markdown",
   "id": "b17864a3",
   "metadata": {
    "id": "b17864a3"
   },
   "source": [
    "### 1\\. 동이름으로 위도 경도 구하기"
   ]
  },
  {
   "cell_type": "code",
   "execution_count": 3,
   "id": "e_0LGgefNlrN",
   "metadata": {
    "id": "e_0LGgefNlrN",
    "tags": []
   },
   "outputs": [
    {
     "data": {
      "text/plain": [
       "<Response [200]>"
      ]
     },
     "execution_count": 3,
     "metadata": {},
     "output_type": "execute_result"
    }
   ],
   "source": [
    "addr = '망원동'\n",
    "url = f'https://apis.zigbang.com/v2/search?leaseYn=N&q={addr}&serviceType=원룸'\n",
    "\n",
    "response = requests.get(url)\n",
    "response"
   ]
  },
  {
   "cell_type": "code",
   "execution_count": 8,
   "id": "e67b6f72-78bf-4a69-bf77-78f2bbce3eff",
   "metadata": {
    "tags": []
   },
   "outputs": [
    {
     "data": {
      "text/plain": [
       "'{\"success\":true,\"code\":\"200\",\"items\":[{\"id\":4002,\"type\":\"address\",\"name\":\"망원동\",\"hint\":\"\",\"description\":\"서울특별시 마포구 망원동\",\"lat\":37.556785583496094,\"lng\":126.9013442993164,\"zoom\":5,\"polygon\":[],\"_score\":null,\"_source\":{\"name_length\":3,\"local1\":\"서울시\",\"local2\":\"마포구\",\"local3\":\"망원동\",\"web_level\":15,\"web_lat\":37.556785583496094,\"web_lng\":126.9013442993164,\"app_level\":15,\"app_lat\":37.556785583496094,\"app_lng\":126.9013442993164,\"법정동코드\":\"1144012300\"},\"zoom_level\":{\"google\":15,\"daum\":4},\"zoom_level_v2\":{\"app\":5,\"web\":4}}],\"next\":null,\"limit\":0}'"
      ]
     },
     "execution_count": 8,
     "metadata": {},
     "output_type": "execute_result"
    }
   ],
   "source": [
    "response.text"
   ]
  },
  {
   "cell_type": "code",
   "execution_count": 12,
   "id": "d503a098-a422-4f4f-80e2-a060906071cf",
   "metadata": {
    "tags": []
   },
   "outputs": [
    {
     "data": {
      "text/plain": [
       "(37.556785583496094, 126.9013442993164)"
      ]
     },
     "execution_count": 12,
     "metadata": {},
     "output_type": "execute_result"
    }
   ],
   "source": [
    "data = response.json()['items'][0]\n",
    "lat, lng = data['lat'], data['lng']\n",
    "lat, lng"
   ]
  },
  {
   "cell_type": "code",
   "execution_count": null,
   "id": "73390049-ea2e-4642-990f-7c57a4ab37d5",
   "metadata": {},
   "outputs": [],
   "source": []
  },
  {
   "cell_type": "markdown",
   "id": "13114fd8",
   "metadata": {
    "id": "13114fd8"
   },
   "source": [
    "### 2\\. 위도 경도로 geohash 알아내기"
   ]
  },
  {
   "cell_type": "code",
   "execution_count": 14,
   "id": "122284eb",
   "metadata": {
    "id": "122284eb",
    "tags": []
   },
   "outputs": [
    {
     "name": "stdout",
     "output_type": "stream",
     "text": [
      "Collecting geohash2\n",
      "  Downloading geohash2-1.1.tar.gz (15 kB)\n",
      "  Preparing metadata (setup.py): started\n",
      "  Preparing metadata (setup.py): finished with status 'done'\n",
      "Requirement already satisfied: docutils>=0.3 in c:\\users\\user\\anaconda3\\lib\\site-packages (from geohash2) (0.18.1)\n",
      "Building wheels for collected packages: geohash2\n",
      "  Building wheel for geohash2 (setup.py): started\n",
      "  Building wheel for geohash2 (setup.py): finished with status 'done'\n",
      "  Created wheel for geohash2: filename=geohash2-1.1-py3-none-any.whl size=15554 sha256=a96755d1c892b3bd38fde0368cd2ed4fce525378f651afeb20f99ee65c2bb30a\n",
      "  Stored in directory: c:\\users\\user\\appdata\\local\\pip\\cache\\wheels\\f6\\7c\\c4\\1b3c6fea0ebc53bf730dc86bbee7a713d501455dfb4c1f0623\n",
      "Successfully built geohash2\n",
      "Installing collected packages: geohash2\n",
      "Successfully installed geohash2-1.1\n"
     ]
    }
   ],
   "source": [
    "# install geohash2\n",
    "!pip install geohash2"
   ]
  },
  {
   "cell_type": "code",
   "execution_count": 15,
   "id": "aware-liquid",
   "metadata": {
    "id": "aware-liquid",
    "tags": []
   },
   "outputs": [],
   "source": [
    "import geohash2"
   ]
  },
  {
   "cell_type": "code",
   "execution_count": 17,
   "id": "0e626af5-f91c-4fcf-9e60-ed719c8646dc",
   "metadata": {
    "tags": []
   },
   "outputs": [
    {
     "data": {
      "text/plain": [
       "'wydjx'"
      ]
     },
     "execution_count": 17,
     "metadata": {},
     "output_type": "execute_result"
    }
   ],
   "source": [
    "geohash = geohash2.encode(lat, lng, precision=5) # precision: 영역 -> 숫자가 커질 수록 영역의 규모가 작아짐\n",
    "geohash"
   ]
  },
  {
   "cell_type": "code",
   "execution_count": null,
   "id": "4a1fcca0-827f-4e45-b9fc-b90bf01acc33",
   "metadata": {},
   "outputs": [],
   "source": []
  },
  {
   "cell_type": "code",
   "execution_count": null,
   "id": "AnRA2VaUNnFC",
   "metadata": {
    "id": "AnRA2VaUNnFC"
   },
   "outputs": [],
   "source": []
  },
  {
   "cell_type": "markdown",
   "id": "6df839b9",
   "metadata": {
    "id": "6df839b9"
   },
   "source": [
    "### 3\\. geohash로 매물 아이디 가져오기"
   ]
  },
  {
   "cell_type": "code",
   "execution_count": 25,
   "id": "MrsBsdbeNn1f",
   "metadata": {
    "id": "MrsBsdbeNn1f",
    "tags": []
   },
   "outputs": [
    {
     "data": {
      "text/plain": [
       "<Response [200]>"
      ]
     },
     "execution_count": 25,
     "metadata": {},
     "output_type": "execute_result"
    }
   ],
   "source": [
    "url = f'https://apis.zigbang.com/v2/items/oneroom?\\\n",
    "geohash={geohash}&depositMin=0&rentMin=0&salesTypes[0]=전세&salesTypes[1]=월세\\\n",
    "&domain=zigbang&checkAnyItemWithoutFilter=true'\n",
    "\n",
    "response = requests.get(url)\n",
    "response"
   ]
  },
  {
   "cell_type": "code",
   "execution_count": 26,
   "id": "4e407ca4-f979-4a55-b6cc-a281b0b3e161",
   "metadata": {
    "tags": []
   },
   "outputs": [
    {
     "data": {
      "text/plain": [
       "[{'lat': 37.52957191936743,\n",
       "  'lng': 126.900435212516,\n",
       "  'itemId': 39817840,\n",
       "  'itemBmType': 'ZIGBANG'},\n",
       " {'lat': 37.52955993739013,\n",
       "  'lng': 126.89979844625006,\n",
       "  'itemId': 40042434,\n",
       "  'itemBmType': 'ZIGBANG'},\n",
       " {'lat': 37.52907304257156,\n",
       "  'lng': 126.90042820847293,\n",
       "  'itemId': 40058332,\n",
       "  'itemBmType': 'ZIGBANG'}]"
      ]
     },
     "execution_count": 26,
     "metadata": {},
     "output_type": "execute_result"
    }
   ],
   "source": [
    "# response.text[:500]\n",
    "\n",
    "items = response.json()['items']\n",
    "items[:3]"
   ]
  },
  {
   "cell_type": "code",
   "execution_count": 27,
   "id": "e9248a46-6fd4-4cc4-99a9-3f0e974eb849",
   "metadata": {
    "tags": []
   },
   "outputs": [
    {
     "data": {
      "text/plain": [
       "(605, [39817840, 40042434, 40058332, 39791961, 40096518])"
      ]
     },
     "execution_count": 27,
     "metadata": {},
     "output_type": "execute_result"
    }
   ],
   "source": [
    "items = [item['itemId'] for item in items]\n",
    "len(items), items[:5]"
   ]
  },
  {
   "cell_type": "code",
   "execution_count": null,
   "id": "325edaee-c813-486e-b7c7-e311fc84729c",
   "metadata": {},
   "outputs": [],
   "source": []
  },
  {
   "cell_type": "code",
   "execution_count": null,
   "id": "89910dd9-39d0-4f64-8f1c-6444fc707a41",
   "metadata": {},
   "outputs": [],
   "source": []
  },
  {
   "cell_type": "markdown",
   "id": "37fea52f",
   "metadata": {
    "id": "37fea52f"
   },
   "source": [
    "### 4\\. 매물 아이디로 매물 정보 가져오기"
   ]
  },
  {
   "cell_type": "code",
   "execution_count": 29,
   "id": "OOcvZ6_jNpOq",
   "metadata": {
    "id": "OOcvZ6_jNpOq",
    "tags": []
   },
   "outputs": [
    {
     "data": {
      "text/plain": [
       "<Response [200]>"
      ]
     },
     "execution_count": 29,
     "metadata": {},
     "output_type": "execute_result"
    }
   ],
   "source": [
    "url = 'https://apis.zigbang.com/v2/items/list'\n",
    "params = {\n",
    "    'domain': 'zigbang',\n",
    "    'item_ids': items\n",
    "}\n",
    "\n",
    "response = requests.post(url, params) # params에 한글이 없으므로 json.dumps로 인코딩할 필요 없음\n",
    "response"
   ]
  },
  {
   "cell_type": "code",
   "execution_count": 37,
   "id": "1489f5e5-a8f4-42cc-8ade-494614117ee2",
   "metadata": {
    "tags": []
   },
   "outputs": [],
   "source": [
    "pd.options.display.max_columns=40 # 원하는 갯수만큼 컬럼 출력"
   ]
  },
  {
   "cell_type": "code",
   "execution_count": 43,
   "id": "f2f79f74-6dff-4c30-966f-41c2c62a59ab",
   "metadata": {
    "tags": []
   },
   "outputs": [
    {
     "data": {
      "text/html": [
       "<div>\n",
       "<style scoped>\n",
       "    .dataframe tbody tr th:only-of-type {\n",
       "        vertical-align: middle;\n",
       "    }\n",
       "\n",
       "    .dataframe tbody tr th {\n",
       "        vertical-align: top;\n",
       "    }\n",
       "\n",
       "    .dataframe thead th {\n",
       "        text-align: right;\n",
       "    }\n",
       "</style>\n",
       "<table border=\"1\" class=\"dataframe\">\n",
       "  <thead>\n",
       "    <tr style=\"text-align: right;\">\n",
       "      <th></th>\n",
       "      <th>item_id</th>\n",
       "      <th>sales_title</th>\n",
       "      <th>deposit</th>\n",
       "      <th>rent</th>\n",
       "      <th>size_m2</th>\n",
       "      <th>title</th>\n",
       "      <th>address1</th>\n",
       "    </tr>\n",
       "  </thead>\n",
       "  <tbody>\n",
       "    <tr>\n",
       "      <th>61</th>\n",
       "      <td>40009046</td>\n",
       "      <td>월세</td>\n",
       "      <td>500</td>\n",
       "      <td>50</td>\n",
       "      <td>13.22</td>\n",
       "      <td>신축급풀옵션마포구청역5분깔끔한방</td>\n",
       "      <td>서울시 마포구 망원동</td>\n",
       "    </tr>\n",
       "    <tr>\n",
       "      <th>62</th>\n",
       "      <td>40089526</td>\n",
       "      <td>월세</td>\n",
       "      <td>200</td>\n",
       "      <td>63</td>\n",
       "      <td>16.53</td>\n",
       "      <td>신축급 깔끔원룸</td>\n",
       "      <td>서울시 마포구 망원동</td>\n",
       "    </tr>\n",
       "  </tbody>\n",
       "</table>\n",
       "</div>"
      ],
      "text/plain": [
       "     item_id sales_title  deposit  rent  size_m2              title  \\\n",
       "61  40009046          월세      500    50    13.22  신축급풀옵션마포구청역5분깔끔한방   \n",
       "62  40089526          월세      200    63    16.53           신축급 깔끔원룸   \n",
       "\n",
       "       address1  \n",
       "61  서울시 마포구 망원동  \n",
       "62  서울시 마포구 망원동  "
      ]
     },
     "execution_count": 43,
     "metadata": {},
     "output_type": "execute_result"
    }
   ],
   "source": [
    "data = response.json()['items']\n",
    "columns = ['item_id','sales_title', 'deposit', 'rent', 'size_m2', 'title', 'address1']\n",
    "df = pd.DataFrame(data)[columns]\n",
    "\n",
    "# 망원동 옆 동인 중동의 데이터도 가져오므로 망원동만 가져오도록 필터링\n",
    "df = df[df['address1'].str.contains('망원동')].reset_index(drop=True)\n",
    "df.tail(2)"
   ]
  },
  {
   "cell_type": "code",
   "execution_count": 40,
   "id": "69cbafbd-08fd-4da6-937b-50d38e384a90",
   "metadata": {
    "collapsed": true,
    "jupyter": {
     "outputs_hidden": true
    },
    "tags": []
   },
   "outputs": [
    {
     "data": {
      "text/plain": [
       "Index(['item_id', 'section_type', 'images_thumbnail', 'sales_type',\n",
       "       'sales_title', 'deposit', 'rent', 'size_m2', '공급면적', '전용면적', '계약면적',\n",
       "       'room_type_title', 'floor', 'floor_string', 'building_floor', 'title',\n",
       "       'is_first_movein', 'room_type', 'status', 'tags', 'service_type',\n",
       "       'random_location', 'manage_cost', 'reg_date', 'is_new', 'addressOrigin',\n",
       "       'action', 'contract', 'address', 'is_zzim', 'address1', 'address2',\n",
       "       'address3', 'item_bm_type', 'zikim'],\n",
       "      dtype='object')"
      ]
     },
     "execution_count": 40,
     "metadata": {},
     "output_type": "execute_result"
    }
   ],
   "source": [
    "df.columns"
   ]
  },
  {
   "cell_type": "code",
   "execution_count": null,
   "id": "b5bd8893-4f80-41e6-8633-20f46ba80d45",
   "metadata": {},
   "outputs": [],
   "source": []
  },
  {
   "cell_type": "code",
   "execution_count": null,
   "id": "a7fb4958-715f-4994-a0fa-7dad3e1d06f5",
   "metadata": {},
   "outputs": [],
   "source": []
  },
  {
   "cell_type": "code",
   "execution_count": null,
   "id": "5b0ad4a3-f15b-465c-bb51-5b35dc9f145f",
   "metadata": {},
   "outputs": [],
   "source": []
  }
 ],
 "metadata": {
  "colab": {
   "provenance": []
  },
  "kernelspec": {
   "display_name": "Python 3 (ipykernel)",
   "language": "python",
   "name": "python3"
  },
  "language_info": {
   "codemirror_mode": {
    "name": "ipython",
    "version": 3
   },
   "file_extension": ".py",
   "mimetype": "text/x-python",
   "name": "python",
   "nbconvert_exporter": "python",
   "pygments_lexer": "ipython3",
   "version": "3.11.5"
  },
  "toc": {
   "base_numbering": 1,
   "nav_menu": {},
   "number_sections": false,
   "sideBar": true,
   "skip_h1_title": false,
   "title_cell": "Table of Contents",
   "title_sidebar": "Contents",
   "toc_cell": false,
   "toc_position": {},
   "toc_section_display": true,
   "toc_window_display": false
  }
 },
 "nbformat": 4,
 "nbformat_minor": 5
}
