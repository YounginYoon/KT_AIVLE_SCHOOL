{
 "cells": [
  {
   "cell_type": "markdown",
   "metadata": {
    "tags": []
   },
   "source": [
    "# REST API\n",
    "- Representational State Transfer\n",
    "- Client와 Server가 통신하기 위한 URL 구조에 대한 정의 및 디자인"
   ]
  },
  {
   "cell_type": "markdown",
   "metadata": {
    "tags": []
   },
   "source": [
    "## 1\\. Kakao API"
   ]
  },
  {
   "cell_type": "code",
   "execution_count": 1,
   "metadata": {},
   "outputs": [],
   "source": [
    "import warnings\n",
    "warnings.filterwarnings('ignore')\n",
    "import pandas as pd\n",
    "import requests, json"
   ]
  },
  {
   "cell_type": "markdown",
   "metadata": {},
   "source": [
    "### 1-1. request token 얻기\n",
    "- `https://developers.kakao.com/`\n",
    "- 내 애플리케이션 > 애플리케이션 추가하기"
   ]
  },
  {
   "cell_type": "code",
   "execution_count": 2,
   "metadata": {},
   "outputs": [],
   "source": [
    "REST_API_KEY = '841d5ba127b64c7c02391f4359ad756e'"
   ]
  },
  {
   "cell_type": "markdown",
   "metadata": {},
   "source": [
    "### 1-2. KoGPT\n",
    "- 문서 > KoGPT > REST API\n",
    "- tokens : 공백을 제외한 글자수"
   ]
  },
  {
   "cell_type": "markdown",
   "metadata": {},
   "source": [
    "#### 1. 다음문장 만들기"
   ]
  },
  {
   "cell_type": "code",
   "execution_count": null,
   "metadata": {},
   "outputs": [],
   "source": [
    "# 1. document : URL"
   ]
  },
  {
   "cell_type": "code",
   "execution_count": 3,
   "metadata": {},
   "outputs": [],
   "source": [
    "url = 'https://api.kakaobrain.com/v1/inference/kogpt/generation'"
   ]
  },
  {
   "cell_type": "code",
   "execution_count": 4,
   "metadata": {},
   "outputs": [],
   "source": [
    "# 2. request(URL: headers, params) > response : json(str)"
   ]
  },
  {
   "cell_type": "code",
   "execution_count": 11,
   "metadata": {},
   "outputs": [],
   "source": [
    "prompt = '원자폭탄을 개발한 사람은'\n",
    "params = {'prompt': prompt, 'max_tokens': 50, 'n': 2}\n",
    "headers = {'Authorization': f'KakaoAK {REST_API_KEY}', 'Content-Type': 'application/json'}"
   ]
  },
  {
   "cell_type": "code",
   "execution_count": 12,
   "metadata": {},
   "outputs": [
    {
     "data": {
      "text/plain": [
       "<Response [200]>"
      ]
     },
     "execution_count": 12,
     "metadata": {},
     "output_type": "execute_result"
    }
   ],
   "source": [
    "response = requests.post(url, json.dumps(params), headers=headers)\n",
    "response"
   ]
  },
  {
   "cell_type": "code",
   "execution_count": 13,
   "metadata": {},
   "outputs": [],
   "source": [
    "# json.dumps : 문자열 인코딩 -> 한글은 인터넷 상에서 사용이 안됨 -> 한글 > 영문, 특수문자로 인코딩"
   ]
  },
  {
   "cell_type": "code",
   "execution_count": 14,
   "metadata": {},
   "outputs": [
    {
     "data": {
      "text/plain": [
       "'{\"prompt\": \"\\\\uc6d0\\\\uc790\\\\ud3ed\\\\ud0c4\\\\uc744 \\\\uac1c\\\\ubc1c\\\\ud55c \\\\uc0ac\\\\ub78c\\\\uc740\", \"max_tokens\": 50, \"n\": 2}'"
      ]
     },
     "execution_count": 14,
     "metadata": {},
     "output_type": "execute_result"
    }
   ],
   "source": [
    "json.dumps(params)"
   ]
  },
  {
   "cell_type": "code",
   "execution_count": 15,
   "metadata": {},
   "outputs": [
    {
     "data": {
      "text/plain": [
       "'{\"id\":\"86e62bf9-6422-428c-9b16-eab8c9fbe10e\",\"generations\":[{\"text\":\" 미국의 핵과학자 로버트 오펜하이머(오른쪽)와 당시 활약하던 영국 과학자 퍼시 스코트 손턴이다. 최초 수소폭탄은 1945년 7월16일 뉴멕시코 주 앨라모고도 남쪽 30마일 지점에서 실험됐다. /\",\"tokens\":50},{\"text\":\" 누구일까? 화학반응으로 원자를 조작하는 방법을 탐색해온 과학자들에 의해서 수수께끼로만 남아 있던 이 문제가 마침내 풀렸다. 1960년대 미국 버클리대학의 해군연구소, 이 연구소에서 물질조작연구실장이\",\"tokens\":50}],\"usage\":{\"prompt_tokens\":14,\"generated_tokens\":100,\"total_tokens\":114}}\\n'"
      ]
     },
     "execution_count": 15,
     "metadata": {},
     "output_type": "execute_result"
    }
   ],
   "source": [
    "response.text"
   ]
  },
  {
   "cell_type": "code",
   "execution_count": 16,
   "metadata": {},
   "outputs": [],
   "source": [
    "# 3. json(str) > parsing : text"
   ]
  },
  {
   "cell_type": "code",
   "execution_count": 17,
   "metadata": {},
   "outputs": [
    {
     "data": {
      "text/plain": [
       "[{'text': ' 미국의 핵과학자 로버트 오펜하이머(오른쪽)와 당시 활약하던 영국 과학자 퍼시 스코트 손턴이다. 최초 수소폭탄은 1945년 7월16일 뉴멕시코 주 앨라모고도 남쪽 30마일 지점에서 실험됐다. /',\n",
       "  'tokens': 50},\n",
       " {'text': ' 누구일까? 화학반응으로 원자를 조작하는 방법을 탐색해온 과학자들에 의해서 수수께끼로만 남아 있던 이 문제가 마침내 풀렸다. 1960년대 미국 버클리대학의 해군연구소, 이 연구소에서 물질조작연구실장이',\n",
       "  'tokens': 50}]"
      ]
     },
     "execution_count": 17,
     "metadata": {},
     "output_type": "execute_result"
    }
   ],
   "source": [
    "texts = response.json()['generations']\n",
    "texts"
   ]
  },
  {
   "cell_type": "code",
   "execution_count": 18,
   "metadata": {},
   "outputs": [
    {
     "data": {
      "text/plain": [
       "[' 미국의 핵과학자 로버트 오펜하이머(오른쪽)와 당시 활약하던 영국 과학자 퍼시 스코트 손턴이다. 최초 수소폭탄은 1945년 7월16일 뉴멕시코 주 앨라모고도 남쪽 30마일 지점에서 실험됐다. /',\n",
       " ' 누구일까? 화학반응으로 원자를 조작하는 방법을 탐색해온 과학자들에 의해서 수수께끼로만 남아 있던 이 문제가 마침내 풀렸다. 1960년대 미국 버클리대학의 해군연구소, 이 연구소에서 물질조작연구실장이']"
      ]
     },
     "execution_count": 18,
     "metadata": {},
     "output_type": "execute_result"
    }
   ],
   "source": [
    "texts = [text['text'] for text in texts]\n",
    "texts"
   ]
  },
  {
   "cell_type": "markdown",
   "metadata": {},
   "source": [
    "#### 2. 문장 분류하기\n",
    "- 문장 마다 `=긍정`, `=부정` 문자열 작성\n",
    "- 분류할 마지막 문장 `=` 문자열 작성"
   ]
  },
  {
   "cell_type": "code",
   "execution_count": 22,
   "metadata": {},
   "outputs": [],
   "source": [
    "# 함수 만들기\n",
    "def kogpt_api(prompt, command='', max_tokens=128, temperature=1, n=1):\n",
    "    headers = {'Authorization': f'KakaoAK {REST_API_KEY}', 'Content-Type': 'application/json'}\n",
    "    params = {'prompt': prompt + command, 'max_tokens': max_tokens, 'temperature': temperature,'n': n}\n",
    "    response = requests.post(url, json.dumps(params), headers=headers)\n",
    "    results = response.json()\n",
    "    results = results['generations']\n",
    "    return [result['text'] for result in results]"
   ]
  },
  {
   "cell_type": "code",
   "execution_count": 23,
   "metadata": {},
   "outputs": [],
   "source": [
    "prompt='''상품 후기를 긍정 또는 부정으로 분류합니다.\n",
    "가격대비좀 부족한게많은듯=부정\n",
    "재구매 친구들이 좋은 향 난다고 해요=긍정\n",
    "ㅠㅠ약간 후회가 됩니다..=부정\n",
    "이전에 먹고 만족해서 재구매합니다=긍정\n",
    "튼튼하고 잘 쓸수 있을 것 같습니다. 이 가격에 이 퀄리티면 훌륭하죠='''"
   ]
  },
  {
   "cell_type": "code",
   "execution_count": 24,
   "metadata": {},
   "outputs": [
    {
     "data": {
      "text/plain": [
       "['긍정']"
      ]
     },
     "execution_count": 24,
     "metadata": {},
     "output_type": "execute_result"
    }
   ],
   "source": [
    "results = kogpt_api(prompt, max_tokens=1, temperature=0.4)\n",
    "results"
   ]
  },
  {
   "cell_type": "markdown",
   "metadata": {},
   "source": [
    "#### 3. 뉴스 한 줄 요약하기\n",
    "- 마지막에 `한줄 요약:` 문자열 작성"
   ]
  },
  {
   "cell_type": "code",
   "execution_count": 28,
   "metadata": {},
   "outputs": [
    {
     "data": {
      "text/plain": [
       "[\" 인공지능(AI), 딥러닝, 머신 러닝, 기계학습...... 4차 산업혁명 시대를 이끌어갈 핵심 키워드입니다. 이들 용어 중 가장 많이 회자되는 단어인 '머신 러닝'은 인간 두뇌처럼 스스로 판단하고 결정할\"]"
      ]
     },
     "execution_count": 28,
     "metadata": {},
     "output_type": "execute_result"
    }
   ],
   "source": [
    "prompt='''미국의 생성형 AI(인공지능) 모델·서비스 개발사 오픈AI(OpenAI)를 상대로 제기된 소송이 누적되고 있다. 쟁점 또한 AI 자료 학습부터 오픈소스\n",
    "5일 IT(정보기술) 업계와 블룸버그 등 외신에 따르면 일론 머스크 테슬라 CEO(최고경영자)는 미국 캘리포니아주 샌프란시스코에서 오픈AI 법인과\n",
    "머스크는 소장에서 오픈AI가 마이크로소프트(MS)와 체결한 수십억달러 규모의 파트너십과 사실상 비공개된 AI 기술정보 등에 비춰 오픈AI가 인류의\n",
    "오픈AI를 둘러싼 법적 분쟁은 지난해 7월 미국 코미디언 겸 작가 사라 실버맨 등이 소송을 제기하면서 부각됐다. 언어모델 훈련 과정에서 창작물이\n",
    "다만 법원은 챗GPT로 생성된 결과물과 작가들의 원작물 사이의 유사성이 떨어진다는 이유로 지난달 실버맨 등의 청구를 상당 부분 기각한 채 심리를\n",
    "지난해 12월에는 미국 신문사 뉴욕타임스가 뉴스 저작권 침해를 주장하며 오픈AI와 오픈AI의 주요 투자자 MS를 상대로 소송을 제기했다. 뉴욕타임\n",
    "업계에선 오픈AI가 지난달 15일 동영상 생성 AI 모델 '소라(Sora)'를 출시한 데 따라 법적 분쟁이 더 복잡해질 것이라는 전망도 나온다. AI 학\n",
    "법무법인 화우 정보보호센터는 지난달 29일 \"데이터를 입력한 주체는 권리침해 등에 대해 책임을 질 가능성이 존재하므로 사전에 입력 데이터에 대한\n",
    "한줄 요약:'''\n",
    "\n",
    "results = kogpt_api(prompt, max_tokens=50, temperature=0.4)\n",
    "results"
   ]
  },
  {
   "cell_type": "markdown",
   "metadata": {
    "tags": []
   },
   "source": [
    "#### 4. 질문에 답변하기\n",
    "- 문장 마지막에 `?:` 로 끝남"
   ]
  },
  {
   "cell_type": "code",
   "execution_count": 35,
   "metadata": {},
   "outputs": [
    {
     "data": {
      "text/plain": [
       "[' 몬베베 (MONBEBE)']"
      ]
     },
     "execution_count": 35,
     "metadata": {},
     "output_type": "execute_result"
    }
   ],
   "source": [
    "prompt = '''\n",
    "몬스타엑스의 멤버에는 셔누, 기현, 민혁, 형원, 주헌, 아이엠이 있다.\n",
    "몬스타엑스 멤버의 이름은?:'''\n",
    "results = kogpt_api(prompt, temperature=0.2)\n",
    "results"
   ]
  },
  {
   "cell_type": "markdown",
   "metadata": {},
   "source": [
    "#### 5. 응용하기"
   ]
  },
  {
   "cell_type": "code",
   "execution_count": null,
   "metadata": {},
   "outputs": [],
   "source": []
  },
  {
   "cell_type": "markdown",
   "metadata": {
    "id": "apodUP-CYr3_"
   },
   "source": [
    "## 2\\. Naver API\n",
    "- 통합검색어 트렌드 API\n",
    "    - https://datalab.naver.com/\n",
    "    - https://datalab.naver.com/keyword/trendSearch.naver"
   ]
  },
  {
   "cell_type": "markdown",
   "metadata": {
    "id": "ZEU1PeYTYr4C"
   },
   "source": [
    "### 2-1. Request Token 얻기\n",
    "- `https://developers.naver.com`\n",
    "- 1. Request Token 얻기 : 애플리케이션등록 -> app_key 획득\n",
    "- 2. app_key를 이용해서 데이터 가져오기"
   ]
  },
  {
   "cell_type": "code",
   "execution_count": 2,
   "metadata": {},
   "outputs": [
    {
     "data": {
      "text/plain": [
       "<Response [200]>"
      ]
     },
     "execution_count": 2,
     "metadata": {},
     "output_type": "execute_result"
    }
   ],
   "source": [
    "# 1. App Key\n",
    "CLIENT_ID, CLIENT_SECRET = 'gcJgMXckLgYycrcIY8Ur', 'x1S38HeCxs'\n",
    "\n",
    "# 2. document : url(params, headers)\n",
    "url = 'https://openapi.naver.com/v1/datalab/search'\n",
    "params = {\n",
    "    'startDate': '2018-01-01',\n",
    "    'endDate': '2024-03-01',\n",
    "    'timeUnit': 'month',\n",
    "    'keywordGroups': [\n",
    "      {'groupName': '트위터', 'keywords': ['트위터', '트윗']},\n",
    "        {'groupName': '페이스북', 'keywords': ['페이스북', '페북']},\n",
    "        {'groupName': '인스타그램', 'keywords': ['인스타그램', '인스타']},\n",
    "    ],\n",
    "}\n",
    "\n",
    "headers = {\n",
    "    'X-Naver-Client-Id': CLIENT_ID,\n",
    "    'X-Naver-Client-Secret': CLIENT_SECRET,\n",
    "    'Content-Type': 'application/json',\n",
    "}\n",
    "\n",
    "# --header \"X-Naver-Client-Id: YOUR_CLIENT_ID\" \\\n",
    "# --header \"X-Naver-Client-Secret: YOUR_CLIENT_SECRET\" \\\n",
    "# --header \"Content-Type: application/json\" \\\n",
    "\n",
    "# 3. request(url, params, headers) > response : json(str)\n",
    "response = requests.post(url, json.dumps(params), headers=headers)\n",
    "response\n",
    "\n",
    "\n",
    "\n"
   ]
  },
  {
   "cell_type": "markdown",
   "metadata": {
    "id": "gEKpR7ibYr4G"
   },
   "source": [
    "### 2-2. 통합검색어 트렌드 API\n",
    "- 서비스 : `https://datalab.naver.com/keyword/trendSearch.naver`\n",
    "- 내 애플리케이션 > dss 애플리케이션 > API 설정 > 데이터랩(검색어 트렌드) 추가\n",
    "- 사용법 : `https://developers.naver.com/docs/serviceapi/datalab/search/search.md#통합-검색어-트렌드`"
   ]
  },
  {
   "cell_type": "code",
   "execution_count": 7,
   "metadata": {
    "tags": []
   },
   "outputs": [
    {
     "data": {
      "text/plain": [
       "3"
      ]
     },
     "execution_count": 7,
     "metadata": {},
     "output_type": "execute_result"
    }
   ],
   "source": [
    "# 4. json(str) > list, dict > DataFrame\n",
    "data = response.json()['results']\n",
    "len(data)"
   ]
  },
  {
   "cell_type": "code",
   "execution_count": 12,
   "metadata": {
    "tags": []
   },
   "outputs": [
    {
     "data": {
      "text/html": [
       "<div>\n",
       "<style scoped>\n",
       "    .dataframe tbody tr th:only-of-type {\n",
       "        vertical-align: middle;\n",
       "    }\n",
       "\n",
       "    .dataframe tbody tr th {\n",
       "        vertical-align: top;\n",
       "    }\n",
       "\n",
       "    .dataframe thead th {\n",
       "        text-align: right;\n",
       "    }\n",
       "</style>\n",
       "<table border=\"1\" class=\"dataframe\">\n",
       "  <thead>\n",
       "    <tr style=\"text-align: right;\">\n",
       "      <th></th>\n",
       "      <th>period</th>\n",
       "      <th>ratio</th>\n",
       "      <th>title</th>\n",
       "    </tr>\n",
       "  </thead>\n",
       "  <tbody>\n",
       "    <tr>\n",
       "      <th>0</th>\n",
       "      <td>2018-01-01</td>\n",
       "      <td>97.80481</td>\n",
       "      <td>페이스북</td>\n",
       "    </tr>\n",
       "    <tr>\n",
       "      <th>1</th>\n",
       "      <td>2018-02-01</td>\n",
       "      <td>89.05814</td>\n",
       "      <td>페이스북</td>\n",
       "    </tr>\n",
       "    <tr>\n",
       "      <th>2</th>\n",
       "      <td>2018-03-01</td>\n",
       "      <td>98.84292</td>\n",
       "      <td>페이스북</td>\n",
       "    </tr>\n",
       "    <tr>\n",
       "      <th>3</th>\n",
       "      <td>2018-04-01</td>\n",
       "      <td>100.00000</td>\n",
       "      <td>페이스북</td>\n",
       "    </tr>\n",
       "    <tr>\n",
       "      <th>4</th>\n",
       "      <td>2018-05-01</td>\n",
       "      <td>92.23588</td>\n",
       "      <td>페이스북</td>\n",
       "    </tr>\n",
       "    <tr>\n",
       "      <th>...</th>\n",
       "      <td>...</td>\n",
       "      <td>...</td>\n",
       "      <td>...</td>\n",
       "    </tr>\n",
       "    <tr>\n",
       "      <th>70</th>\n",
       "      <td>2023-11-01</td>\n",
       "      <td>9.97093</td>\n",
       "      <td>페이스북</td>\n",
       "    </tr>\n",
       "    <tr>\n",
       "      <th>71</th>\n",
       "      <td>2023-12-01</td>\n",
       "      <td>10.12856</td>\n",
       "      <td>페이스북</td>\n",
       "    </tr>\n",
       "    <tr>\n",
       "      <th>72</th>\n",
       "      <td>2024-01-01</td>\n",
       "      <td>10.20900</td>\n",
       "      <td>페이스북</td>\n",
       "    </tr>\n",
       "    <tr>\n",
       "      <th>73</th>\n",
       "      <td>2024-02-01</td>\n",
       "      <td>9.19334</td>\n",
       "      <td>페이스북</td>\n",
       "    </tr>\n",
       "    <tr>\n",
       "      <th>74</th>\n",
       "      <td>2024-03-01</td>\n",
       "      <td>2.86928</td>\n",
       "      <td>페이스북</td>\n",
       "    </tr>\n",
       "  </tbody>\n",
       "</table>\n",
       "<p>75 rows × 3 columns</p>\n",
       "</div>"
      ],
      "text/plain": [
       "        period      ratio title\n",
       "0   2018-01-01   97.80481  페이스북\n",
       "1   2018-02-01   89.05814  페이스북\n",
       "2   2018-03-01   98.84292  페이스북\n",
       "3   2018-04-01  100.00000  페이스북\n",
       "4   2018-05-01   92.23588  페이스북\n",
       "..         ...        ...   ...\n",
       "70  2023-11-01    9.97093  페이스북\n",
       "71  2023-12-01   10.12856  페이스북\n",
       "72  2024-01-01   10.20900  페이스북\n",
       "73  2024-02-01    9.19334  페이스북\n",
       "74  2024-03-01    2.86928  페이스북\n",
       "\n",
       "[75 rows x 3 columns]"
      ]
     },
     "execution_count": 12,
     "metadata": {},
     "output_type": "execute_result"
    }
   ],
   "source": [
    "dfs = []\n",
    "for row in data:\n",
    "    df = pd.DataFrame(row['data'])\n",
    "    df['title'] = row['title']\n",
    "    dfs.append(df)\n",
    "dfs[1]"
   ]
  },
  {
   "cell_type": "code",
   "execution_count": 13,
   "metadata": {
    "tags": []
   },
   "outputs": [
    {
     "data": {
      "text/html": [
       "<div>\n",
       "<style scoped>\n",
       "    .dataframe tbody tr th:only-of-type {\n",
       "        vertical-align: middle;\n",
       "    }\n",
       "\n",
       "    .dataframe tbody tr th {\n",
       "        vertical-align: top;\n",
       "    }\n",
       "\n",
       "    .dataframe thead th {\n",
       "        text-align: right;\n",
       "    }\n",
       "</style>\n",
       "<table border=\"1\" class=\"dataframe\">\n",
       "  <thead>\n",
       "    <tr style=\"text-align: right;\">\n",
       "      <th></th>\n",
       "      <th>period</th>\n",
       "      <th>ratio</th>\n",
       "      <th>title</th>\n",
       "    </tr>\n",
       "  </thead>\n",
       "  <tbody>\n",
       "    <tr>\n",
       "      <th>0</th>\n",
       "      <td>2018-01-01</td>\n",
       "      <td>14.59502</td>\n",
       "      <td>트위터</td>\n",
       "    </tr>\n",
       "    <tr>\n",
       "      <th>1</th>\n",
       "      <td>2018-02-01</td>\n",
       "      <td>13.02380</td>\n",
       "      <td>트위터</td>\n",
       "    </tr>\n",
       "    <tr>\n",
       "      <th>2</th>\n",
       "      <td>2018-03-01</td>\n",
       "      <td>12.97953</td>\n",
       "      <td>트위터</td>\n",
       "    </tr>\n",
       "    <tr>\n",
       "      <th>3</th>\n",
       "      <td>2018-04-01</td>\n",
       "      <td>12.82991</td>\n",
       "      <td>트위터</td>\n",
       "    </tr>\n",
       "    <tr>\n",
       "      <th>4</th>\n",
       "      <td>2018-05-01</td>\n",
       "      <td>13.05391</td>\n",
       "      <td>트위터</td>\n",
       "    </tr>\n",
       "    <tr>\n",
       "      <th>...</th>\n",
       "      <td>...</td>\n",
       "      <td>...</td>\n",
       "      <td>...</td>\n",
       "    </tr>\n",
       "    <tr>\n",
       "      <th>220</th>\n",
       "      <td>2023-11-01</td>\n",
       "      <td>23.18797</td>\n",
       "      <td>인스타그램</td>\n",
       "    </tr>\n",
       "    <tr>\n",
       "      <th>221</th>\n",
       "      <td>2023-12-01</td>\n",
       "      <td>21.84237</td>\n",
       "      <td>인스타그램</td>\n",
       "    </tr>\n",
       "    <tr>\n",
       "      <th>222</th>\n",
       "      <td>2024-01-01</td>\n",
       "      <td>21.69092</td>\n",
       "      <td>인스타그램</td>\n",
       "    </tr>\n",
       "    <tr>\n",
       "      <th>223</th>\n",
       "      <td>2024-02-01</td>\n",
       "      <td>19.91368</td>\n",
       "      <td>인스타그램</td>\n",
       "    </tr>\n",
       "    <tr>\n",
       "      <th>224</th>\n",
       "      <td>2024-03-01</td>\n",
       "      <td>7.91971</td>\n",
       "      <td>인스타그램</td>\n",
       "    </tr>\n",
       "  </tbody>\n",
       "</table>\n",
       "<p>225 rows × 3 columns</p>\n",
       "</div>"
      ],
      "text/plain": [
       "         period     ratio  title\n",
       "0    2018-01-01  14.59502    트위터\n",
       "1    2018-02-01  13.02380    트위터\n",
       "2    2018-03-01  12.97953    트위터\n",
       "3    2018-04-01  12.82991    트위터\n",
       "4    2018-05-01  13.05391    트위터\n",
       "..          ...       ...    ...\n",
       "220  2023-11-01  23.18797  인스타그램\n",
       "221  2023-12-01  21.84237  인스타그램\n",
       "222  2024-01-01  21.69092  인스타그램\n",
       "223  2024-02-01  19.91368  인스타그램\n",
       "224  2024-03-01   7.91971  인스타그램\n",
       "\n",
       "[225 rows x 3 columns]"
      ]
     },
     "execution_count": 13,
     "metadata": {},
     "output_type": "execute_result"
    }
   ],
   "source": [
    "result = pd.concat(dfs, ignore_index=True)\n",
    "result"
   ]
  },
  {
   "cell_type": "code",
   "execution_count": null,
   "metadata": {},
   "outputs": [],
   "source": []
  },
  {
   "cell_type": "code",
   "execution_count": null,
   "metadata": {},
   "outputs": [],
   "source": []
  }
 ],
 "metadata": {
  "colab": {
   "provenance": []
  },
  "kernelspec": {
   "display_name": "Python 3 (ipykernel)",
   "language": "python",
   "name": "python3"
  },
  "language_info": {
   "codemirror_mode": {
    "name": "ipython",
    "version": 3
   },
   "file_extension": ".py",
   "mimetype": "text/x-python",
   "name": "python",
   "nbconvert_exporter": "python",
   "pygments_lexer": "ipython3",
   "version": "3.11.5"
  },
  "toc": {
   "base_numbering": 1,
   "nav_menu": {},
   "number_sections": false,
   "sideBar": true,
   "skip_h1_title": false,
   "title_cell": "Table of Contents",
   "title_sidebar": "Contents",
   "toc_cell": false,
   "toc_position": {},
   "toc_section_display": true,
   "toc_window_display": false
  }
 },
 "nbformat": 4,
 "nbformat_minor": 4
}
